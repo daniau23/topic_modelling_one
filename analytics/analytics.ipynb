{
 "cells": [
  {
   "cell_type": "code",
   "execution_count": 1,
   "metadata": {},
   "outputs": [],
   "source": [
    "import pandas as pd\n",
    "import numpy as np \n",
    "import matplotlib.pyplot as plt\n",
    "import plotly.express as px\n",
    "import plotly.graph_objects as go\n",
    "import plotly.figure_factory as ff\n",
    "import seaborn as sns\n",
    "from collections import Counter\n",
    "from wordcloud import WordCloud, STOPWORDS\n",
    "import string\n",
    "import re\n",
    "import spacy\n",
    "import warnings\n",
    "warnings.filterwarnings(\"ignore\")"
   ]
  },
  {
   "cell_type": "markdown",
   "metadata": {},
   "source": [
    "# **Plan of Action**\n",
    "1. Load the data.\n",
    "2.  Get to know the data.\n",
    "3.  Drop duplicates and null values.\n",
    "4.  Extract year & month from the date data.\n",
    "5.  Perform some analytics on the text data (text).\n",
    "6.  Have a cleaned column of the text data; *cleaned*.\n",
    "7.  Perform some analytics on the text data (cleaned)."
   ]
  },
  {
   "cell_type": "markdown",
   "metadata": {},
   "source": [
    "### **Steps 1-5**"
   ]
  },
  {
   "cell_type": "code",
   "execution_count": 2,
   "metadata": {},
   "outputs": [],
   "source": [
    "tweets = pd.read_csv('../data/tweets.csv')"
   ]
  },
  {
   "cell_type": "code",
   "execution_count": 3,
   "metadata": {},
   "outputs": [
    {
     "data": {
      "text/html": [
       "<div>\n",
       "<style scoped>\n",
       "    .dataframe tbody tr th:only-of-type {\n",
       "        vertical-align: middle;\n",
       "    }\n",
       "\n",
       "    .dataframe tbody tr th {\n",
       "        vertical-align: top;\n",
       "    }\n",
       "\n",
       "    .dataframe thead th {\n",
       "        text-align: right;\n",
       "    }\n",
       "</style>\n",
       "<table border=\"1\" class=\"dataframe\">\n",
       "  <thead>\n",
       "    <tr style=\"text-align: right;\">\n",
       "      <th></th>\n",
       "      <th>text</th>\n",
       "      <th>date</th>\n",
       "    </tr>\n",
       "  </thead>\n",
       "  <tbody>\n",
       "    <tr>\n",
       "      <th>911</th>\n",
       "      <td>Anybody can protest in front of Whitehouse, we...</td>\n",
       "      <td>2023-03-31 09:59:27+00:00</td>\n",
       "    </tr>\n",
       "    <tr>\n",
       "      <th>1183</th>\n",
       "      <td>https://t.co/DvRhUIZxtt\\n\\nStreet animals &amp;amp...</td>\n",
       "      <td>2023-04-01 08:26:23+00:00</td>\n",
       "    </tr>\n",
       "    <tr>\n",
       "      <th>33</th>\n",
       "      <td>I try my absolute best to stay out of politics...</td>\n",
       "      <td>2023-04-03 10:35:01+00:00</td>\n",
       "    </tr>\n",
       "  </tbody>\n",
       "</table>\n",
       "</div>"
      ],
      "text/plain": [
       "                                                   text  \\\n",
       "911   Anybody can protest in front of Whitehouse, we...   \n",
       "1183  https://t.co/DvRhUIZxtt\\n\\nStreet animals &amp...   \n",
       "33    I try my absolute best to stay out of politics...   \n",
       "\n",
       "                           date  \n",
       "911   2023-03-31 09:59:27+00:00  \n",
       "1183  2023-04-01 08:26:23+00:00  \n",
       "33    2023-04-03 10:35:01+00:00  "
      ]
     },
     "execution_count": 3,
     "metadata": {},
     "output_type": "execute_result"
    }
   ],
   "source": [
    "tweets.sample(n=3, random_state=42)"
   ]
  },
  {
   "cell_type": "code",
   "execution_count": 4,
   "metadata": {},
   "outputs": [
    {
     "data": {
      "text/plain": [
       "(4657, 2)"
      ]
     },
     "execution_count": 4,
     "metadata": {},
     "output_type": "execute_result"
    }
   ],
   "source": [
    "tweets.shape"
   ]
  },
  {
   "cell_type": "code",
   "execution_count": 5,
   "metadata": {},
   "outputs": [
    {
     "data": {
      "text/plain": [
       "text    0\n",
       "date    0\n",
       "dtype: int64"
      ]
     },
     "execution_count": 5,
     "metadata": {},
     "output_type": "execute_result"
    }
   ],
   "source": [
    "tweets.isna().sum()"
   ]
  },
  {
   "cell_type": "code",
   "execution_count": 8,
   "metadata": {},
   "outputs": [
    {
     "data": {
      "text/plain": [
       "89"
      ]
     },
     "execution_count": 8,
     "metadata": {},
     "output_type": "execute_result"
    }
   ],
   "source": [
    "tweets.text.duplicated().sum()\n",
    "# 89 duplicates in the text column, this is highly expected."
   ]
  },
  {
   "cell_type": "code",
   "execution_count": 9,
   "metadata": {},
   "outputs": [],
   "source": [
    "tweets_no_duplicates = tweets.copy()"
   ]
  },
  {
   "cell_type": "code",
   "execution_count": 19,
   "metadata": {},
   "outputs": [
    {
     "data": {
      "text/plain": [
       "Int64Index([ 224,  416,  651,  732,  910,  915, 1272, 1284, 1285, 1316, 1317,\n",
       "            1343, 1490, 1491, 1518, 1575, 1580, 1609, 1666, 1728, 1737, 1827,\n",
       "            1846, 1915, 1951, 1953, 2010, 2013, 2027, 2028, 2029, 2059, 2077,\n",
       "            2078, 2137, 2145, 2154, 2160, 2163, 2205, 2210, 2284, 2318, 2356,\n",
       "            2361, 2362, 2363, 2402, 2404, 2428, 2429, 2430, 2472, 2474, 2475,\n",
       "            2476, 2481, 2482, 2483, 2484, 2600, 2602, 2621, 2894, 3039, 3062,\n",
       "            3090, 3113, 3133, 3135, 3158, 3163, 3177, 3187, 3210, 3212, 3228,\n",
       "            3257, 3258, 3281, 3319, 3382, 3461, 3505, 3583, 3649, 3653, 3657,\n",
       "            4457],\n",
       "           dtype='int64')"
      ]
     },
     "execution_count": 19,
     "metadata": {},
     "output_type": "execute_result"
    }
   ],
   "source": [
    "tweets_no_duplicates[tweets_no_duplicates.text.duplicated()].index\n",
    "# Duplicates index"
   ]
  },
  {
   "cell_type": "code",
   "execution_count": 20,
   "metadata": {},
   "outputs": [],
   "source": [
    "# Dropping duplicates\n",
    "(tweets_no_duplicates.\n",
    "drop(tweets_no_duplicates[tweets_no_duplicates.text.duplicated()].\n",
    "index, inplace = True))"
   ]
  },
  {
   "cell_type": "code",
   "execution_count": 21,
   "metadata": {},
   "outputs": [
    {
     "data": {
      "text/plain": [
       "0"
      ]
     },
     "execution_count": 21,
     "metadata": {},
     "output_type": "execute_result"
    }
   ],
   "source": [
    "tweets_no_duplicates.text.duplicated().sum()"
   ]
  },
  {
   "cell_type": "code",
   "execution_count": 22,
   "metadata": {},
   "outputs": [
    {
     "data": {
      "text/plain": [
       "(4568, 2)"
      ]
     },
     "execution_count": 22,
     "metadata": {},
     "output_type": "execute_result"
    }
   ],
   "source": [
    "tweets_no_duplicates.shape"
   ]
  },
  {
   "cell_type": "code",
   "execution_count": 23,
   "metadata": {},
   "outputs": [
    {
     "data": {
      "text/html": [
       "<div>\n",
       "<style scoped>\n",
       "    .dataframe tbody tr th:only-of-type {\n",
       "        vertical-align: middle;\n",
       "    }\n",
       "\n",
       "    .dataframe tbody tr th {\n",
       "        vertical-align: top;\n",
       "    }\n",
       "\n",
       "    .dataframe thead th {\n",
       "        text-align: right;\n",
       "    }\n",
       "</style>\n",
       "<table border=\"1\" class=\"dataframe\">\n",
       "  <thead>\n",
       "    <tr style=\"text-align: right;\">\n",
       "      <th></th>\n",
       "      <th>text</th>\n",
       "      <th>date</th>\n",
       "    </tr>\n",
       "  </thead>\n",
       "  <tbody>\n",
       "    <tr>\n",
       "      <th>count</th>\n",
       "      <td>4568</td>\n",
       "      <td>4568</td>\n",
       "    </tr>\n",
       "    <tr>\n",
       "      <th>unique</th>\n",
       "      <td>4568</td>\n",
       "      <td>4070</td>\n",
       "    </tr>\n",
       "    <tr>\n",
       "      <th>top</th>\n",
       "      <td>\"Ah, yes. I just love waking up to the sweet a...</td>\n",
       "      <td>2023-04-03 11:30:00+00:00</td>\n",
       "    </tr>\n",
       "    <tr>\n",
       "      <th>freq</th>\n",
       "      <td>1</td>\n",
       "      <td>28</td>\n",
       "    </tr>\n",
       "  </tbody>\n",
       "</table>\n",
       "</div>"
      ],
      "text/plain": [
       "                                                     text  \\\n",
       "count                                                4568   \n",
       "unique                                               4568   \n",
       "top     \"Ah, yes. I just love waking up to the sweet a...   \n",
       "freq                                                    1   \n",
       "\n",
       "                             date  \n",
       "count                        4568  \n",
       "unique                       4070  \n",
       "top     2023-04-03 11:30:00+00:00  \n",
       "freq                           28  "
      ]
     },
     "execution_count": 23,
     "metadata": {},
     "output_type": "execute_result"
    }
   ],
   "source": [
    "tweets_no_duplicates.describe()"
   ]
  },
  {
   "cell_type": "code",
   "execution_count": 24,
   "metadata": {},
   "outputs": [
    {
     "data": {
      "text/plain": [
       "text    object\n",
       "date    object\n",
       "dtype: object"
      ]
     },
     "execution_count": 24,
     "metadata": {},
     "output_type": "execute_result"
    }
   ],
   "source": [
    "tweets_no_duplicates.dtypes"
   ]
  },
  {
   "cell_type": "code",
   "execution_count": 25,
   "metadata": {},
   "outputs": [],
   "source": [
    "# Getting the length of the text \n",
    "raw_text_length = [len(length.split()) for length in tweets_no_duplicates.loc[:,'text']]"
   ]
  },
  {
   "cell_type": "code",
   "execution_count": 26,
   "metadata": {},
   "outputs": [],
   "source": [
    "tweets_length = tweets_no_duplicates.copy()"
   ]
  },
  {
   "cell_type": "code",
   "execution_count": 27,
   "metadata": {},
   "outputs": [],
   "source": [
    "tweets_length['raw_text_length'] = raw_text_length"
   ]
  },
  {
   "cell_type": "code",
   "execution_count": 29,
   "metadata": {},
   "outputs": [
    {
     "data": {
      "text/html": [
       "<div>\n",
       "<style scoped>\n",
       "    .dataframe tbody tr th:only-of-type {\n",
       "        vertical-align: middle;\n",
       "    }\n",
       "\n",
       "    .dataframe tbody tr th {\n",
       "        vertical-align: top;\n",
       "    }\n",
       "\n",
       "    .dataframe thead th {\n",
       "        text-align: right;\n",
       "    }\n",
       "</style>\n",
       "<table border=\"1\" class=\"dataframe\">\n",
       "  <thead>\n",
       "    <tr style=\"text-align: right;\">\n",
       "      <th></th>\n",
       "      <th>text</th>\n",
       "      <th>date</th>\n",
       "      <th>raw_text_length</th>\n",
       "    </tr>\n",
       "  </thead>\n",
       "  <tbody>\n",
       "    <tr>\n",
       "      <th>1567</th>\n",
       "      <td>US SB 686 | Real-World Ministry of Truth Being...</td>\n",
       "      <td>2023-03-28 15:35:04+00:00</td>\n",
       "      <td>15</td>\n",
       "    </tr>\n",
       "    <tr>\n",
       "      <th>23</th>\n",
       "      <td>Exclusive — Rep. Jeff Van Drew: Democrats Afra...</td>\n",
       "      <td>2023-04-03 10:56:07+00:00</td>\n",
       "      <td>20</td>\n",
       "    </tr>\n",
       "    <tr>\n",
       "      <th>253</th>\n",
       "      <td>“It’s Starmer trying to make the party safe ag...</td>\n",
       "      <td>2023-04-02 20:31:29+00:00</td>\n",
       "      <td>39</td>\n",
       "    </tr>\n",
       "  </tbody>\n",
       "</table>\n",
       "</div>"
      ],
      "text/plain": [
       "                                                   text  \\\n",
       "1567  US SB 686 | Real-World Ministry of Truth Being...   \n",
       "23    Exclusive — Rep. Jeff Van Drew: Democrats Afra...   \n",
       "253   “It’s Starmer trying to make the party safe ag...   \n",
       "\n",
       "                           date  raw_text_length  \n",
       "1567  2023-03-28 15:35:04+00:00               15  \n",
       "23    2023-04-03 10:56:07+00:00               20  \n",
       "253   2023-04-02 20:31:29+00:00               39  "
      ]
     },
     "execution_count": 29,
     "metadata": {},
     "output_type": "execute_result"
    }
   ],
   "source": [
    "tweets_length.sample(n=3, random_state=42)"
   ]
  },
  {
   "cell_type": "code",
   "execution_count": 30,
   "metadata": {},
   "outputs": [
    {
     "name": "stdout",
     "output_type": "stream",
     "text": [
      "<class 'pandas.core.frame.DataFrame'>\n",
      "Int64Index: 4568 entries, 0 to 4656\n",
      "Data columns (total 3 columns):\n",
      " #   Column           Non-Null Count  Dtype \n",
      "---  ------           --------------  ----- \n",
      " 0   text             4568 non-null   object\n",
      " 1   date             4568 non-null   object\n",
      " 2   raw_text_length  4568 non-null   int64 \n",
      "dtypes: int64(1), object(2)\n",
      "memory usage: 2.6 MB\n"
     ]
    }
   ],
   "source": [
    "tweets_length.info(memory_usage='deep')"
   ]
  },
  {
   "cell_type": "code",
   "execution_count": 31,
   "metadata": {},
   "outputs": [],
   "source": [
    "def memory_magment(df):\n",
    "    for col in df.columns:\n",
    "        col_type = df[col].dtype\n",
    "\n",
    "        if col_type != np.object:\n",
    "            c_min = df[col].min()\n",
    "            c_max = df[col].max()\n",
    "\n",
    "            if str(col_type)[:3] == 'int':\n",
    "                if c_min > np.iinfo(np.int8).min and c_max < np.iinfo(np.int8).max:\n",
    "                    df[col] = df[col].astype(np.int8) # int 8\n",
    "                elif c_min > np.iinfo(np.int16).min and c_max < np.iinfo(np.int16).max:\n",
    "                    df[col] = df[col].astype(np.int16) # int 16\n",
    "                elif c_min > np.iinfo(np.int32).min and c_max < np.iinfo(np.int32).max:\n",
    "                    df[col] = df[col].astype(np.int32)  # in 32\n",
    "                elif c_min > np.iinfo(np.int64).min and c_max < np.iinfo(np.int64).max:\n",
    "                    df[col] = df[col].astype(np.int64) # int 64 \n",
    "            else:\n",
    "                if c_min > np.finfo(np.float16).min and c_max < np.finfo(np.float16).max:\n",
    "                    df[col] = df[col].astype(np.float16)\n",
    "                elif c_min > np.finfo(np.float32).min and c_max < np.finfo(np.float32).max:\n",
    "                    df[col] = df[col].astype(np.float32)\n",
    "                else: \n",
    "                    df[col] = df[col].astype(np.float64)\n",
    "    return df\n",
    "tweets_memory = tweets_length.copy()\n",
    "tweets_memory = memory_magment(tweets_memory)    "
   ]
  },
  {
   "cell_type": "code",
   "execution_count": 33,
   "metadata": {},
   "outputs": [
    {
     "name": "stdout",
     "output_type": "stream",
     "text": [
      "<class 'pandas.core.frame.DataFrame'>\n",
      "Int64Index: 4568 entries, 0 to 4656\n",
      "Data columns (total 3 columns):\n",
      " #   Column           Non-Null Count  Dtype \n",
      "---  ------           --------------  ----- \n",
      " 0   text             4568 non-null   object\n",
      " 1   date             4568 non-null   object\n",
      " 2   raw_text_length  4568 non-null   int8  \n",
      "dtypes: int8(1), object(2)\n",
      "memory usage: 2.6 MB\n"
     ]
    }
   ],
   "source": [
    "tweets_memory.info(memory_usage='deep')"
   ]
  },
  {
   "cell_type": "code",
   "execution_count": 34,
   "metadata": {},
   "outputs": [
    {
     "data": {
      "text/html": [
       "<div>\n",
       "<style scoped>\n",
       "    .dataframe tbody tr th:only-of-type {\n",
       "        vertical-align: middle;\n",
       "    }\n",
       "\n",
       "    .dataframe tbody tr th {\n",
       "        vertical-align: top;\n",
       "    }\n",
       "\n",
       "    .dataframe thead th {\n",
       "        text-align: right;\n",
       "    }\n",
       "</style>\n",
       "<table border=\"1\" class=\"dataframe\">\n",
       "  <thead>\n",
       "    <tr style=\"text-align: right;\">\n",
       "      <th></th>\n",
       "      <th>text</th>\n",
       "      <th>date</th>\n",
       "      <th>raw_text_length</th>\n",
       "    </tr>\n",
       "  </thead>\n",
       "  <tbody>\n",
       "    <tr>\n",
       "      <th>1567</th>\n",
       "      <td>US SB 686 | Real-World Ministry of Truth Being...</td>\n",
       "      <td>2023-03-28 15:35:04+00:00</td>\n",
       "      <td>15</td>\n",
       "    </tr>\n",
       "    <tr>\n",
       "      <th>23</th>\n",
       "      <td>Exclusive — Rep. Jeff Van Drew: Democrats Afra...</td>\n",
       "      <td>2023-04-03 10:56:07+00:00</td>\n",
       "      <td>20</td>\n",
       "    </tr>\n",
       "    <tr>\n",
       "      <th>253</th>\n",
       "      <td>“It’s Starmer trying to make the party safe ag...</td>\n",
       "      <td>2023-04-02 20:31:29+00:00</td>\n",
       "      <td>39</td>\n",
       "    </tr>\n",
       "  </tbody>\n",
       "</table>\n",
       "</div>"
      ],
      "text/plain": [
       "                                                   text  \\\n",
       "1567  US SB 686 | Real-World Ministry of Truth Being...   \n",
       "23    Exclusive — Rep. Jeff Van Drew: Democrats Afra...   \n",
       "253   “It’s Starmer trying to make the party safe ag...   \n",
       "\n",
       "                           date  raw_text_length  \n",
       "1567  2023-03-28 15:35:04+00:00               15  \n",
       "23    2023-04-03 10:56:07+00:00               20  \n",
       "253   2023-04-02 20:31:29+00:00               39  "
      ]
     },
     "execution_count": 34,
     "metadata": {},
     "output_type": "execute_result"
    }
   ],
   "source": [
    "tweets_memory.sample(n=3, random_state=42)"
   ]
  },
  {
   "cell_type": "markdown",
   "metadata": {},
   "source": [
    "### **Analytics-1 (raw-text)**"
   ]
  },
  {
   "cell_type": "code",
   "execution_count": 35,
   "metadata": {},
   "outputs": [],
   "source": [
    "raw_text_eda = tweets_memory"
   ]
  },
  {
   "cell_type": "code",
   "execution_count": 36,
   "metadata": {},
   "outputs": [
    {
     "data": {
      "text/plain": [
       "Index(['text', 'date', 'raw_text_length'], dtype='object')"
      ]
     },
     "execution_count": 36,
     "metadata": {},
     "output_type": "execute_result"
    }
   ],
   "source": [
    "raw_text_eda.columns"
   ]
  },
  {
   "cell_type": "code",
   "execution_count": 39,
   "metadata": {},
   "outputs": [],
   "source": [
    "# Extracting the dates\n",
    "raw_text_eda['year'] = raw_text_eda.date.apply(lambda x: x.split('-')[0])\n",
    "raw_text_eda['month'] = raw_text_eda.date.apply(lambda x: x.split('-')[1])"
   ]
  },
  {
   "cell_type": "code",
   "execution_count": 41,
   "metadata": {},
   "outputs": [
    {
     "data": {
      "text/html": [
       "<div>\n",
       "<style scoped>\n",
       "    .dataframe tbody tr th:only-of-type {\n",
       "        vertical-align: middle;\n",
       "    }\n",
       "\n",
       "    .dataframe tbody tr th {\n",
       "        vertical-align: top;\n",
       "    }\n",
       "\n",
       "    .dataframe thead th {\n",
       "        text-align: right;\n",
       "    }\n",
       "</style>\n",
       "<table border=\"1\" class=\"dataframe\">\n",
       "  <thead>\n",
       "    <tr style=\"text-align: right;\">\n",
       "      <th></th>\n",
       "      <th>text</th>\n",
       "      <th>date</th>\n",
       "      <th>raw_text_length</th>\n",
       "      <th>year</th>\n",
       "      <th>month</th>\n",
       "    </tr>\n",
       "  </thead>\n",
       "  <tbody>\n",
       "    <tr>\n",
       "      <th>1567</th>\n",
       "      <td>US SB 686 | Real-World Ministry of Truth Being...</td>\n",
       "      <td>2023-03-28 15:35:04+00:00</td>\n",
       "      <td>15</td>\n",
       "      <td>2023</td>\n",
       "      <td>03</td>\n",
       "    </tr>\n",
       "    <tr>\n",
       "      <th>23</th>\n",
       "      <td>Exclusive — Rep. Jeff Van Drew: Democrats Afra...</td>\n",
       "      <td>2023-04-03 10:56:07+00:00</td>\n",
       "      <td>20</td>\n",
       "      <td>2023</td>\n",
       "      <td>04</td>\n",
       "    </tr>\n",
       "    <tr>\n",
       "      <th>253</th>\n",
       "      <td>“It’s Starmer trying to make the party safe ag...</td>\n",
       "      <td>2023-04-02 20:31:29+00:00</td>\n",
       "      <td>39</td>\n",
       "      <td>2023</td>\n",
       "      <td>04</td>\n",
       "    </tr>\n",
       "  </tbody>\n",
       "</table>\n",
       "</div>"
      ],
      "text/plain": [
       "                                                   text  \\\n",
       "1567  US SB 686 | Real-World Ministry of Truth Being...   \n",
       "23    Exclusive — Rep. Jeff Van Drew: Democrats Afra...   \n",
       "253   “It’s Starmer trying to make the party safe ag...   \n",
       "\n",
       "                           date  raw_text_length  year month  \n",
       "1567  2023-03-28 15:35:04+00:00               15  2023    03  \n",
       "23    2023-04-03 10:56:07+00:00               20  2023    04  \n",
       "253   2023-04-02 20:31:29+00:00               39  2023    04  "
      ]
     },
     "execution_count": 41,
     "metadata": {},
     "output_type": "execute_result"
    }
   ],
   "source": [
    "raw_text_eda.sample(n=3,random_state=42)"
   ]
  },
  {
   "cell_type": "code",
   "execution_count": 43,
   "metadata": {},
   "outputs": [
    {
     "data": {
      "text/html": [
       "<div>\n",
       "<style scoped>\n",
       "    .dataframe tbody tr th:only-of-type {\n",
       "        vertical-align: middle;\n",
       "    }\n",
       "\n",
       "    .dataframe tbody tr th {\n",
       "        vertical-align: top;\n",
       "    }\n",
       "\n",
       "    .dataframe thead th {\n",
       "        text-align: right;\n",
       "    }\n",
       "</style>\n",
       "<table border=\"1\" class=\"dataframe\">\n",
       "  <thead>\n",
       "    <tr style=\"text-align: right;\">\n",
       "      <th></th>\n",
       "      <th>text</th>\n",
       "      <th>date</th>\n",
       "      <th>year</th>\n",
       "      <th>month</th>\n",
       "    </tr>\n",
       "  </thead>\n",
       "  <tbody>\n",
       "    <tr>\n",
       "      <th>count</th>\n",
       "      <td>4568</td>\n",
       "      <td>4568</td>\n",
       "      <td>4568</td>\n",
       "      <td>4568</td>\n",
       "    </tr>\n",
       "    <tr>\n",
       "      <th>unique</th>\n",
       "      <td>4568</td>\n",
       "      <td>4070</td>\n",
       "      <td>1</td>\n",
       "      <td>2</td>\n",
       "    </tr>\n",
       "    <tr>\n",
       "      <th>top</th>\n",
       "      <td>\"Ah, yes. I just love waking up to the sweet a...</td>\n",
       "      <td>2023-04-03 11:30:00+00:00</td>\n",
       "      <td>2023</td>\n",
       "      <td>04</td>\n",
       "    </tr>\n",
       "    <tr>\n",
       "      <th>freq</th>\n",
       "      <td>1</td>\n",
       "      <td>28</td>\n",
       "      <td>4568</td>\n",
       "      <td>3214</td>\n",
       "    </tr>\n",
       "  </tbody>\n",
       "</table>\n",
       "</div>"
      ],
      "text/plain": [
       "                                                     text  \\\n",
       "count                                                4568   \n",
       "unique                                               4568   \n",
       "top     \"Ah, yes. I just love waking up to the sweet a...   \n",
       "freq                                                    1   \n",
       "\n",
       "                             date  year month  \n",
       "count                        4568  4568  4568  \n",
       "unique                       4070     1     2  \n",
       "top     2023-04-03 11:30:00+00:00  2023    04  \n",
       "freq                           28  4568  3214  "
      ]
     },
     "execution_count": 43,
     "metadata": {},
     "output_type": "execute_result"
    }
   ],
   "source": [
    "raw_text_eda.describe(include='O')"
   ]
  },
  {
   "cell_type": "markdown",
   "metadata": {},
   "source": [
    "- The only months in here are March & April.\n",
    "- Only one year; 2023."
   ]
  },
  {
   "cell_type": "code",
   "execution_count": 53,
   "metadata": {},
   "outputs": [
    {
     "data": {
      "text/html": [
       "<div>\n",
       "<style scoped>\n",
       "    .dataframe tbody tr th:only-of-type {\n",
       "        vertical-align: middle;\n",
       "    }\n",
       "\n",
       "    .dataframe tbody tr th {\n",
       "        vertical-align: top;\n",
       "    }\n",
       "\n",
       "    .dataframe thead tr th {\n",
       "        text-align: left;\n",
       "    }\n",
       "</style>\n",
       "<table border=\"1\" class=\"dataframe\">\n",
       "  <thead>\n",
       "    <tr>\n",
       "      <th></th>\n",
       "      <th>month</th>\n",
       "      <th colspan=\"7\" halign=\"left\">raw_text_length</th>\n",
       "    </tr>\n",
       "    <tr>\n",
       "      <th></th>\n",
       "      <th></th>\n",
       "      <th>Count</th>\n",
       "      <th>Max</th>\n",
       "      <th>Min</th>\n",
       "      <th>Mean</th>\n",
       "      <th>Deviation</th>\n",
       "      <th>Skew</th>\n",
       "      <th>Median</th>\n",
       "    </tr>\n",
       "  </thead>\n",
       "  <tbody>\n",
       "    <tr>\n",
       "      <th>0</th>\n",
       "      <td>03</td>\n",
       "      <td>1354</td>\n",
       "      <td>58</td>\n",
       "      <td>5</td>\n",
       "      <td>30.393648</td>\n",
       "      <td>10.700836</td>\n",
       "      <td>-0.074337</td>\n",
       "      <td>30.0</td>\n",
       "    </tr>\n",
       "    <tr>\n",
       "      <th>1</th>\n",
       "      <td>04</td>\n",
       "      <td>3214</td>\n",
       "      <td>61</td>\n",
       "      <td>1</td>\n",
       "      <td>26.040137</td>\n",
       "      <td>12.060046</td>\n",
       "      <td>0.300078</td>\n",
       "      <td>25.0</td>\n",
       "    </tr>\n",
       "  </tbody>\n",
       "</table>\n",
       "</div>"
      ],
      "text/plain": [
       "  month raw_text_length                                               \n",
       "                  Count Max Min       Mean  Deviation      Skew Median\n",
       "0    03            1354  58   5  30.393648  10.700836 -0.074337   30.0\n",
       "1    04            3214  61   1  26.040137  12.060046  0.300078   25.0"
      ]
     },
     "execution_count": 53,
     "metadata": {},
     "output_type": "execute_result"
    }
   ],
   "source": [
    "(raw_text_eda.groupby('month')[['raw_text_length']]\n",
    ".agg([('Count','count'),('Max','max'),\n",
    "('Min','min'), (\"Mean\",'mean'),\n",
    "('Deviation','std'),('Skew','skew'),\n",
    "(\"Median\",'median')]).reset_index())"
   ]
  },
  {
   "cell_type": "markdown",
   "metadata": {},
   "source": [
    "The following can be derived from the table above;\n",
    "\n",
    "**MAX LENGTH**\n",
    "\n",
    "- The maximum length of March is 58\n",
    "- The maximum length of April is 61\n",
    "\n",
    "**MEAN LENGTH**\n",
    "\n",
    "- March has a mean length of 30\n",
    "- April has a mean length of 26\n",
    "\n",
    "**DEVIATION LENGTH**\n",
    "\n",
    "- March has a deveiation from mean length of 10\n",
    "- April has a deveiation from mean length of 12\n",
    "\n",
    "**SKEWNESS**\n",
    "- March is negatively skewed\n",
    "- April is positively skewed\n",
    "- Both skewness values are minimal and not so problematic."
   ]
  },
  {
   "cell_type": "code",
   "execution_count": 45,
   "metadata": {},
   "outputs": [],
   "source": [
    "nums = raw_text_eda[['raw_text_length']]"
   ]
  },
  {
   "cell_type": "code",
   "execution_count": 47,
   "metadata": {},
   "outputs": [],
   "source": [
    "def outliers(data,col):\n",
    "    Q_1 = np.quantile(data[col],0.25)\n",
    "    Q_3 = np.quantile(data[col],0.75)\n",
    "    IQR = Q_3 - Q_1 \n",
    "    lower_bound = Q_1 - (1.5* IQR)\n",
    "    upper_bound = Q_3 + (1.5* IQR)\n",
    "    IQR_values = ((data[col] >= Q_1) & (data[col] <= Q_3)).sum()\n",
    "    outliers_beyond_upper_bound = (data[col] > upper_bound).sum()\n",
    "    outliers_below_lower_bound = (data[col]  < lower_bound).sum()\n",
    "    print(f\"IQR value for column {col} is: {IQR}\")\n",
    "    print(f\"Q_1 value for column {col} is: {Q_1}\")\n",
    "    print(f\"Q_3 value for column {col} is: {Q_3}\")\n",
    "    print(f\"Lower bound value for column {col} is: {lower_bound}\")\n",
    "    print(f\"Upper bound value for column {col} is: {upper_bound}\")\n",
    "    print(f\"The number of values within the IQR for {col} is {IQR_values}\")\n",
    "    print(f\"The number of outliers beyond the upper bound for {col} is {outliers_beyond_upper_bound}\")\n",
    "    print(f\"The number of outliers below the lower bound for {col} is {outliers_below_lower_bound}\\n\")"
   ]
  },
  {
   "cell_type": "code",
   "execution_count": 50,
   "metadata": {},
   "outputs": [
    {
     "data": {
      "text/html": [
       "<div>\n",
       "<style scoped>\n",
       "    .dataframe tbody tr th:only-of-type {\n",
       "        vertical-align: middle;\n",
       "    }\n",
       "\n",
       "    .dataframe tbody tr th {\n",
       "        vertical-align: top;\n",
       "    }\n",
       "\n",
       "    .dataframe thead th {\n",
       "        text-align: right;\n",
       "    }\n",
       "</style>\n",
       "<table border=\"1\" class=\"dataframe\">\n",
       "  <thead>\n",
       "    <tr style=\"text-align: right;\">\n",
       "      <th></th>\n",
       "      <th>text</th>\n",
       "      <th>date</th>\n",
       "      <th>raw_text_length</th>\n",
       "      <th>year</th>\n",
       "      <th>month</th>\n",
       "    </tr>\n",
       "  </thead>\n",
       "  <tbody>\n",
       "    <tr>\n",
       "      <th>0</th>\n",
       "      <td>\"Ah, yes. I just love waking up to the sweet a...</td>\n",
       "      <td>2023-04-03 11:36:44+00:00</td>\n",
       "      <td>35</td>\n",
       "      <td>2023</td>\n",
       "      <td>04</td>\n",
       "    </tr>\n",
       "    <tr>\n",
       "      <th>1</th>\n",
       "      <td>When @ViolavonCramon\\nflies to Georgia 🇬🇪 to t...</td>\n",
       "      <td>2023-04-03 11:36:05+00:00</td>\n",
       "      <td>35</td>\n",
       "      <td>2023</td>\n",
       "      <td>04</td>\n",
       "    </tr>\n",
       "  </tbody>\n",
       "</table>\n",
       "</div>"
      ],
      "text/plain": [
       "                                                text  \\\n",
       "0  \"Ah, yes. I just love waking up to the sweet a...   \n",
       "1  When @ViolavonCramon\\nflies to Georgia 🇬🇪 to t...   \n",
       "\n",
       "                        date  raw_text_length  year month  \n",
       "0  2023-04-03 11:36:44+00:00               35  2023    04  \n",
       "1  2023-04-03 11:36:05+00:00               35  2023    04  "
      ]
     },
     "execution_count": 50,
     "metadata": {},
     "output_type": "execute_result"
    }
   ],
   "source": [
    "raw_text_eda.head(2)"
   ]
  },
  {
   "cell_type": "code",
   "execution_count": 76,
   "metadata": {},
   "outputs": [],
   "source": [
    "sns.set_theme(style=\"whitegrid\")"
   ]
  },
  {
   "cell_type": "code",
   "execution_count": 77,
   "metadata": {},
   "outputs": [],
   "source": [
    "def dates():\n",
    "    try:\n",
    "        date = ['04','03']\n",
    "        for index,val in enumerate(date):\n",
    "            value = (raw_text_eda.month == val) # The boolean for months\n",
    "            the_month = raw_text_eda.loc[value] # New dataframe based on months\n",
    "            colors_list = ['royalblue',\n",
    "                    'darkgreen'\n",
    "                  ]\n",
    "            # Making the box plot\n",
    "            fig,ax = plt.subplots(1,2, figsize=(20,5))\n",
    "            sns.boxplot(data=the_month,x='raw_text_length',ax=ax[0],color=colors_list[index])\n",
    "            sns.boxenplot(data=the_month,x='raw_text_length',ax=ax[1],color=colors_list[index])\n",
    "            ax[0].set_title(f\"The box plot of raw_text_length for month {val} with raw_text_length\",fontdict={'size':15})\n",
    "            ax[1].set_title(f\"The boxen plot of raw_text_length for month {val} with raw_text_length\",fontdict={'size':15})\n",
    "            plt.subplots_adjust(wspace=0.1)\n",
    "\n",
    "            # The outliers\n",
    "            the_month_outlier = the_month[['raw_text_length']]\n",
    "            for i in the_month_outlier.columns:\n",
    "                print(f\"review_score: {val}\")\n",
    "                outliers(the_month_outlier, i)\n",
    "    except ValueError:\n",
    "            print(f\"The wrong Key was passed\\nPlease look are the information below\\n\")\n",
    "            the_month.info(memory_usage='deep')"
   ]
  },
  {
   "cell_type": "code",
   "execution_count": 78,
   "metadata": {},
   "outputs": [
    {
     "name": "stdout",
     "output_type": "stream",
     "text": [
      "review_score: 04\n",
      "IQR value for column raw_text_length is: 19.0\n",
      "Q_1 value for column raw_text_length is: 16.0\n",
      "Q_3 value for column raw_text_length is: 35.0\n",
      "Lower bound value for column raw_text_length is: -12.5\n",
      "Upper bound value for column raw_text_length is: 63.5\n",
      "The number of values within the IQR for raw_text_length is 1662\n",
      "The number of outliers beyond the upper bound for raw_text_length is 0\n",
      "The number of outliers below the lower bound for raw_text_length is 0\n",
      "\n",
      "review_score: 03\n",
      "IQR value for column raw_text_length is: 15.75\n",
      "Q_1 value for column raw_text_length is: 23.0\n",
      "Q_3 value for column raw_text_length is: 38.75\n",
      "Lower bound value for column raw_text_length is: -0.625\n",
      "Upper bound value for column raw_text_length is: 62.375\n",
      "The number of values within the IQR for raw_text_length is 687\n",
      "The number of outliers beyond the upper bound for raw_text_length is 0\n",
      "The number of outliers below the lower bound for raw_text_length is 0\n",
      "\n"
     ]
    },
    {
     "data": {
      "image/png": "[encoded data removed]",
      "text/plain": [
       "<Figure size 1440x360 with 2 Axes>"
      ]
     },
     "metadata": {},
     "output_type": "display_data"
    },
    {
     "data": {
      "image/png": "[encoded data removed]",
      "text/plain": [
       "<Figure size 1440x360 with 2 Axes>"
      ]
     },
     "metadata": {},
     "output_type": "display_data"
    }
   ],
   "source": [
    "dates()"
   ]
  },
  {
   "cell_type": "markdown",
   "metadata": {},
   "source": [
    "**Observations on raw text based off the box plots**\n",
    "\n",
    "For the month of April;\n",
    "- 25% of the data has text length that is below 16\n",
    "- 75% of the data has text length that is below 35\n",
    "- 25% of the data has a text length that is above 35\n",
    "- IQR of the data is 19, i.e. 50% of the data is between 16 and 35.\n",
    "\n",
    "For the month of March;\n",
    "- 25% of the data has text length that is below 23\n",
    "- 75% of the data has text length that is below 38.75\n",
    "- 25% of the data has a text length that is above 38.75\n",
    "- IQR of the data is 15.75, i.e. 50% of the data is between 23 and 38.75\n"
   ]
  },
  {
   "cell_type": "code",
   "execution_count": 79,
   "metadata": {},
   "outputs": [],
   "source": [
    "def dates_hist_two():\n",
    "    try:\n",
    "        date = ['04','03']\n",
    "        for index,val in enumerate(date):\n",
    "            value = (raw_text_eda.month == val) # The boolean for months\n",
    "            the_month = raw_text_eda.loc[value] # New dataframe based on months\n",
    "            colors_list = ['royalblue',\n",
    "                    'darkgreen'\n",
    "                  ]\n",
    "            # Making the hist plot\n",
    "            fig,ax = plt.subplots(1, figsize=(20,5))\n",
    "            sns.histplot(data=the_month,x='raw_text_length',kde=True, color=colors_list[index])\n",
    "            fig.suptitle(f\"The Histogram plot for month: {val} \",fontsize=15)\n",
    "            ax.set_title(f\"The raw_text_length skewness: {np.around(the_month['raw_text_length'].skew(axis=0),3)}\",fontdict={'size':10})\n",
    "            plt.subplots_adjust(wspace=0.2)\n",
    "            # plt.subplots_adjust(hspace=0.5)\n",
    "    except ValueError:\n",
    "            print(f\"The wrong Key was passed\\nPlease look are the information below\\n\")\n",
    "            the_month.info(memory_usage='deep')"
   ]
  },
  {
   "cell_type": "code",
   "execution_count": 80,
   "metadata": {},
   "outputs": [
    {
     "data": {
      "image/png": "[encoded data removed]",
      "text/plain": [
       "<Figure size 1440x360 with 1 Axes>"
      ]
     },
     "metadata": {},
     "output_type": "display_data"
    },
    {
     "data": {
      "image/png": "[encoded data removed]",
      "text/plain": [
       "<Figure size 1440x360 with 1 Axes>"
      ]
     },
     "metadata": {},
     "output_type": "display_data"
    }
   ],
   "source": [
    "dates_hist_two()"
   ]
  },
  {
   "cell_type": "markdown",
   "metadata": {},
   "source": [
    "### **Steps 6-7**"
   ]
  },
  {
   "cell_type": "code",
   "execution_count": 81,
   "metadata": {},
   "outputs": [],
   "source": [
    "cleaned_text = raw_text_eda"
   ]
  },
  {
   "cell_type": "code",
   "execution_count": 82,
   "metadata": {},
   "outputs": [
    {
     "data": {
      "text/html": [
       "<div>\n",
       "<style scoped>\n",
       "    .dataframe tbody tr th:only-of-type {\n",
       "        vertical-align: middle;\n",
       "    }\n",
       "\n",
       "    .dataframe tbody tr th {\n",
       "        vertical-align: top;\n",
       "    }\n",
       "\n",
       "    .dataframe thead th {\n",
       "        text-align: right;\n",
       "    }\n",
       "</style>\n",
       "<table border=\"1\" class=\"dataframe\">\n",
       "  <thead>\n",
       "    <tr style=\"text-align: right;\">\n",
       "      <th></th>\n",
       "      <th>text</th>\n",
       "      <th>date</th>\n",
       "      <th>raw_text_length</th>\n",
       "      <th>year</th>\n",
       "      <th>month</th>\n",
       "    </tr>\n",
       "  </thead>\n",
       "  <tbody>\n",
       "    <tr>\n",
       "      <th>4628</th>\n",
       "      <td>Israel 🇮🇱 Full International Matches 1934-2023...</td>\n",
       "      <td>2023-04-03 11:18:04+00:00</td>\n",
       "      <td>21</td>\n",
       "      <td>2023</td>\n",
       "      <td>04</td>\n",
       "    </tr>\n",
       "    <tr>\n",
       "      <th>2236</th>\n",
       "      <td>100% OFF Udemy Coupon \\nLearn complete Python ...</td>\n",
       "      <td>2023-03-31 04:32:09+00:00</td>\n",
       "      <td>26</td>\n",
       "      <td>2023</td>\n",
       "      <td>03</td>\n",
       "    </tr>\n",
       "    <tr>\n",
       "      <th>4441</th>\n",
       "      <td>I really like football and #Web3 so this is a ...</td>\n",
       "      <td>2023-04-03 11:22:06+00:00</td>\n",
       "      <td>27</td>\n",
       "      <td>2023</td>\n",
       "      <td>04</td>\n",
       "    </tr>\n",
       "  </tbody>\n",
       "</table>\n",
       "</div>"
      ],
      "text/plain": [
       "                                                   text  \\\n",
       "4628  Israel 🇮🇱 Full International Matches 1934-2023...   \n",
       "2236  100% OFF Udemy Coupon \\nLearn complete Python ...   \n",
       "4441  I really like football and #Web3 so this is a ...   \n",
       "\n",
       "                           date  raw_text_length  year month  \n",
       "4628  2023-04-03 11:18:04+00:00               21  2023    04  \n",
       "2236  2023-03-31 04:32:09+00:00               26  2023    03  \n",
       "4441  2023-04-03 11:22:06+00:00               27  2023    04  "
      ]
     },
     "execution_count": 82,
     "metadata": {},
     "output_type": "execute_result"
    }
   ],
   "source": [
    "cleaned_text.sample(n=3,random_state=3)"
   ]
  },
  {
   "cell_type": "code",
   "execution_count": 83,
   "metadata": {},
   "outputs": [
    {
     "data": {
      "text/plain": [
       "'\"Ah, yes. I just love waking up to the sweet aroma of political chaos and corruption in the morning. It\\'s like a breath of fresh air...if that air was filled with hot garbage.\" #politics #sarcasm'"
      ]
     },
     "execution_count": 83,
     "metadata": {},
     "output_type": "execute_result"
    }
   ],
   "source": [
    "cleaned_text.loc[0,'text']"
   ]
  },
  {
   "cell_type": "code",
   "execution_count": 85,
   "metadata": {},
   "outputs": [],
   "source": [
    "def preprocess(sent):\n",
    "    '''Cleans text data up, leaving only 2 or\n",
    "        more char long non-stopwords composed of A-Z & a-z only\n",
    "        in lowercase'''\n",
    "    # lowercase\n",
    "    sentence = sent.lower()\n",
    "\n",
    "    # Remove RT\n",
    "    sentence = re.sub('RT @\\w+: ',\" \",sentence)\n",
    "\n",
    "    # Remove special characters\n",
    "    sentence = re.sub(\"(@[A-Za-z0-9]+)|([^0-9A-Za-z \\t])|(\\w+:\\/\\/\\S+)\",\" \", sentence)\n",
    "\n",
    "    # Removing digits\n",
    "    sentence = sentence.translate(str.maketrans('', '', string.digits))\n",
    "\n",
    "    # Removing puntuactions\n",
    "    # sentence = sentence.translate(str.maketrans('', '', string.punctuation))\n",
    "\n",
    "    # Single character removal\n",
    "    sentence = re.sub(r\"\\s+[a-zA-Z]\\s+\", ' ', sentence)\n",
    "\n",
    "    sentence = re.sub(r\"\\s+[a-zA-Z]\\s+\", ' ', sentence)  \n",
    "    # When we remove apostrophe from the word \"Mark's\", \n",
    "    # the apostrophe is replaced by an empty space. \n",
    "    # Hence, we are left with single character \"s\" that we are removing here.\n",
    "\n",
    "    # Remove multiple spaces\n",
    "    sentence = re.sub(r'\\s+', ' ', sentence)  \n",
    "    # Next, we remove all the single characters and replace it by a space \n",
    "    # which creates multiple spaces in our text. \n",
    "    # Finally, we remove the multiple spaces from our text as well.\n",
    "\n",
    "    return sentence\n"
   ]
  },
  {
   "cell_type": "code",
   "execution_count": 86,
   "metadata": {},
   "outputs": [],
   "source": [
    "cleaned_text['cleaned_text'] = cleaned_text[\"text\"].apply(preprocess)"
   ]
  },
  {
   "cell_type": "code",
   "execution_count": 89,
   "metadata": {},
   "outputs": [
    {
     "name": "stdout",
     "output_type": "stream",
     "text": [
      "\"Ah, yes. I just love waking up to the sweet aroma of political chaos and corruption in the morning. It's like a breath of fresh air...if that air was filled with hot garbage.\" #politics #sarcasm \n",
      "\n",
      " ah yes just love waking up to the sweet aroma of political chaos and corruption in the morning it like breath of fresh air if that air was filled with hot garbage politics sarcasm\n"
     ]
    }
   ],
   "source": [
    "print(cleaned_text.loc[0,'text'],'\\n')\n",
    "print(cleaned_text.loc[0,'cleaned_text'])"
   ]
  },
  {
   "cell_type": "code",
   "execution_count": 90,
   "metadata": {},
   "outputs": [
    {
     "data": {
      "text/html": [
       "<div>\n",
       "<style scoped>\n",
       "    .dataframe tbody tr th:only-of-type {\n",
       "        vertical-align: middle;\n",
       "    }\n",
       "\n",
       "    .dataframe tbody tr th {\n",
       "        vertical-align: top;\n",
       "    }\n",
       "\n",
       "    .dataframe thead th {\n",
       "        text-align: right;\n",
       "    }\n",
       "</style>\n",
       "<table border=\"1\" class=\"dataframe\">\n",
       "  <thead>\n",
       "    <tr style=\"text-align: right;\">\n",
       "      <th></th>\n",
       "      <th>text</th>\n",
       "      <th>date</th>\n",
       "      <th>raw_text_length</th>\n",
       "      <th>year</th>\n",
       "      <th>month</th>\n",
       "      <th>cleaned_text</th>\n",
       "      <th>cleaned_text_length</th>\n",
       "    </tr>\n",
       "  </thead>\n",
       "  <tbody>\n",
       "    <tr>\n",
       "      <th>1567</th>\n",
       "      <td>US SB 686 | Real-World Ministry of Truth Being...</td>\n",
       "      <td>2023-03-28 15:35:04+00:00</td>\n",
       "      <td>15</td>\n",
       "      <td>2023</td>\n",
       "      <td>03</td>\n",
       "      <td>us sb real world ministry of truth being estab...</td>\n",
       "      <td>14</td>\n",
       "    </tr>\n",
       "    <tr>\n",
       "      <th>23</th>\n",
       "      <td>Exclusive — Rep. Jeff Van Drew: Democrats Afra...</td>\n",
       "      <td>2023-04-03 10:56:07+00:00</td>\n",
       "      <td>20</td>\n",
       "      <td>2023</td>\n",
       "      <td>04</td>\n",
       "      <td>exclusive rep jeff van drew democrats afraid d...</td>\n",
       "      <td>17</td>\n",
       "    </tr>\n",
       "    <tr>\n",
       "      <th>253</th>\n",
       "      <td>“It’s Starmer trying to make the party safe ag...</td>\n",
       "      <td>2023-04-02 20:31:29+00:00</td>\n",
       "      <td>39</td>\n",
       "      <td>2023</td>\n",
       "      <td>04</td>\n",
       "      <td>it starmer trying to make the party safe agai...</td>\n",
       "      <td>37</td>\n",
       "    </tr>\n",
       "  </tbody>\n",
       "</table>\n",
       "</div>"
      ],
      "text/plain": [
       "                                                   text  \\\n",
       "1567  US SB 686 | Real-World Ministry of Truth Being...   \n",
       "23    Exclusive — Rep. Jeff Van Drew: Democrats Afra...   \n",
       "253   “It’s Starmer trying to make the party safe ag...   \n",
       "\n",
       "                           date  raw_text_length  year month  \\\n",
       "1567  2023-03-28 15:35:04+00:00               15  2023    03   \n",
       "23    2023-04-03 10:56:07+00:00               20  2023    04   \n",
       "253   2023-04-02 20:31:29+00:00               39  2023    04   \n",
       "\n",
       "                                           cleaned_text  cleaned_text_length  \n",
       "1567  us sb real world ministry of truth being estab...                   14  \n",
       "23    exclusive rep jeff van drew democrats afraid d...                   17  \n",
       "253    it starmer trying to make the party safe agai...                   37  "
      ]
     },
     "execution_count": 90,
     "metadata": {},
     "output_type": "execute_result"
    }
   ],
   "source": [
    "# Getting the length of the cleaned text \n",
    "cleaned_text_length = [len(length.split()) for length in cleaned_text.loc[:,'cleaned_text']]\n",
    "\n",
    "cleaned_text['cleaned_text_length'] = cleaned_text_length\n",
    "\n",
    "cleaned_text.sample(n=3, random_state=42)"
   ]
  },
  {
   "cell_type": "markdown",
   "metadata": {},
   "source": [
    "### **Analytics-2 (cleaned-text)**"
   ]
  },
  {
   "cell_type": "code",
   "execution_count": 91,
   "metadata": {},
   "outputs": [],
   "source": [
    "cleaned_text_eda = cleaned_text"
   ]
  },
  {
   "cell_type": "code",
   "execution_count": 92,
   "metadata": {},
   "outputs": [
    {
     "data": {
      "text/plain": [
       "Index(['text', 'date', 'raw_text_length', 'year', 'month', 'cleaned_text',\n",
       "       'cleaned_text_length'],\n",
       "      dtype='object')"
      ]
     },
     "execution_count": 92,
     "metadata": {},
     "output_type": "execute_result"
    }
   ],
   "source": [
    "cleaned_text_eda.columns"
   ]
  },
  {
   "cell_type": "code",
   "execution_count": 93,
   "metadata": {},
   "outputs": [
    {
     "data": {
      "text/html": [
       "<div>\n",
       "<style scoped>\n",
       "    .dataframe tbody tr th:only-of-type {\n",
       "        vertical-align: middle;\n",
       "    }\n",
       "\n",
       "    .dataframe tbody tr th {\n",
       "        vertical-align: top;\n",
       "    }\n",
       "\n",
       "    .dataframe thead th {\n",
       "        text-align: right;\n",
       "    }\n",
       "</style>\n",
       "<table border=\"1\" class=\"dataframe\">\n",
       "  <thead>\n",
       "    <tr style=\"text-align: right;\">\n",
       "      <th></th>\n",
       "      <th>text</th>\n",
       "      <th>date</th>\n",
       "      <th>year</th>\n",
       "      <th>month</th>\n",
       "      <th>cleaned_text</th>\n",
       "    </tr>\n",
       "  </thead>\n",
       "  <tbody>\n",
       "    <tr>\n",
       "      <th>count</th>\n",
       "      <td>4568</td>\n",
       "      <td>4568</td>\n",
       "      <td>4568</td>\n",
       "      <td>4568</td>\n",
       "      <td>4568</td>\n",
       "    </tr>\n",
       "    <tr>\n",
       "      <th>unique</th>\n",
       "      <td>4568</td>\n",
       "      <td>4070</td>\n",
       "      <td>1</td>\n",
       "      <td>2</td>\n",
       "      <td>3900</td>\n",
       "    </tr>\n",
       "    <tr>\n",
       "      <th>top</th>\n",
       "      <td>\"Ah, yes. I just love waking up to the sweet a...</td>\n",
       "      <td>2023-04-03 11:30:00+00:00</td>\n",
       "      <td>2023</td>\n",
       "      <td>04</td>\n",
       "      <td>exclusive rep jeff van drew democrats afraid d...</td>\n",
       "    </tr>\n",
       "    <tr>\n",
       "      <th>freq</th>\n",
       "      <td>1</td>\n",
       "      <td>28</td>\n",
       "      <td>4568</td>\n",
       "      <td>3214</td>\n",
       "      <td>46</td>\n",
       "    </tr>\n",
       "  </tbody>\n",
       "</table>\n",
       "</div>"
      ],
      "text/plain": [
       "                                                     text  \\\n",
       "count                                                4568   \n",
       "unique                                               4568   \n",
       "top     \"Ah, yes. I just love waking up to the sweet a...   \n",
       "freq                                                    1   \n",
       "\n",
       "                             date  year month  \\\n",
       "count                        4568  4568  4568   \n",
       "unique                       4070     1     2   \n",
       "top     2023-04-03 11:30:00+00:00  2023    04   \n",
       "freq                           28  4568  3214   \n",
       "\n",
       "                                             cleaned_text  \n",
       "count                                                4568  \n",
       "unique                                               3900  \n",
       "top     exclusive rep jeff van drew democrats afraid d...  \n",
       "freq                                                   46  "
      ]
     },
     "execution_count": 93,
     "metadata": {},
     "output_type": "execute_result"
    }
   ],
   "source": [
    "cleaned_text_eda.describe(include='O')"
   ]
  },
  {
   "cell_type": "code",
   "execution_count": 95,
   "metadata": {},
   "outputs": [
    {
     "data": {
      "text/html": [
       "<div>\n",
       "<style scoped>\n",
       "    .dataframe tbody tr th:only-of-type {\n",
       "        vertical-align: middle;\n",
       "    }\n",
       "\n",
       "    .dataframe tbody tr th {\n",
       "        vertical-align: top;\n",
       "    }\n",
       "\n",
       "    .dataframe thead tr th {\n",
       "        text-align: left;\n",
       "    }\n",
       "</style>\n",
       "<table border=\"1\" class=\"dataframe\">\n",
       "  <thead>\n",
       "    <tr>\n",
       "      <th></th>\n",
       "      <th>month</th>\n",
       "      <th colspan=\"7\" halign=\"left\">cleaned_text_length</th>\n",
       "    </tr>\n",
       "    <tr>\n",
       "      <th></th>\n",
       "      <th></th>\n",
       "      <th>Count</th>\n",
       "      <th>Max</th>\n",
       "      <th>Min</th>\n",
       "      <th>Mean</th>\n",
       "      <th>Deviation</th>\n",
       "      <th>Skew</th>\n",
       "      <th>Median</th>\n",
       "    </tr>\n",
       "  </thead>\n",
       "  <tbody>\n",
       "    <tr>\n",
       "      <th>0</th>\n",
       "      <td>03</td>\n",
       "      <td>1354</td>\n",
       "      <td>57</td>\n",
       "      <td>4</td>\n",
       "      <td>27.881832</td>\n",
       "      <td>10.525901</td>\n",
       "      <td>0.042902</td>\n",
       "      <td>28.0</td>\n",
       "    </tr>\n",
       "    <tr>\n",
       "      <th>1</th>\n",
       "      <td>04</td>\n",
       "      <td>3214</td>\n",
       "      <td>55</td>\n",
       "      <td>1</td>\n",
       "      <td>23.458307</td>\n",
       "      <td>11.755073</td>\n",
       "      <td>0.307749</td>\n",
       "      <td>23.0</td>\n",
       "    </tr>\n",
       "  </tbody>\n",
       "</table>\n",
       "</div>"
      ],
      "text/plain": [
       "  month cleaned_text_length                                               \n",
       "                      Count Max Min       Mean  Deviation      Skew Median\n",
       "0    03                1354  57   4  27.881832  10.525901  0.042902   28.0\n",
       "1    04                3214  55   1  23.458307  11.755073  0.307749   23.0"
      ]
     },
     "execution_count": 95,
     "metadata": {},
     "output_type": "execute_result"
    }
   ],
   "source": [
    "cleaned_text_eda.groupby('month')[['cleaned_text_length']].agg([('Count','count'),('Max','max'),('Min','min'), (\"Mean\",'mean'),('Deviation','std'),('Skew','skew'),(\"Median\",'median')]).reset_index()"
   ]
  },
  {
   "cell_type": "markdown",
   "metadata": {},
   "source": [
    "The following can be derived from the table above (cleaned_text);\n",
    "\n",
    "**MAX LENGTH**\n",
    "\n",
    "- The maximum length of March is 57\n",
    "- The maximum length of April is 55\n",
    "\n",
    "**MEAN LENGTH**\n",
    "\n",
    "- March has a mean length of 28\n",
    "- April has a mean length of 24\n",
    "\n",
    "**DEVIATION LENGTH**\n",
    "\n",
    "- March has a deveiation from mean length of 11\n",
    "- April has a deveiation from mean length of 12\n",
    "\n",
    "**SKEWNESS**\n",
    "- March is positively skewed\n",
    "- April is positively skewed\n",
    "- Both skewness values are minimal and not so problematic."
   ]
  },
  {
   "cell_type": "code",
   "execution_count": 96,
   "metadata": {},
   "outputs": [],
   "source": [
    "def dates_cleaned():\n",
    "    try:\n",
    "        date = ['04','03']\n",
    "        for index,val in enumerate(date):\n",
    "            value = (cleaned_text_eda.month == val) # The boolean for months\n",
    "            the_month = cleaned_text_eda.loc[value] # New dataframe based on months\n",
    "            colors_list = ['royalblue',\n",
    "                    'darkgreen'\n",
    "                  ]\n",
    "            # Making the box plot\n",
    "            fig,ax = plt.subplots(1,2, figsize=(20,5))\n",
    "            sns.boxplot(data=the_month,x='cleaned_text_length',ax=ax[0],color=colors_list[index])\n",
    "            sns.boxenplot(data=the_month,x='cleaned_text_length',ax=ax[1],color=colors_list[index])\n",
    "            ax[0].set_title(f\"The box plot of cleaned_text_length for month {val} with cleaned_text_length\",fontdict={'size':15})\n",
    "            ax[1].set_title(f\"The boxen plot of cleaned_text_length for month {val} with cleaned_text_length\",fontdict={'size':15})\n",
    "            plt.subplots_adjust(wspace=0.1)\n",
    "\n",
    "            # The outliers\n",
    "            the_month_outlier = the_month[['cleaned_text_length']]\n",
    "            for i in the_month_outlier.columns:\n",
    "                print(f\"review_score: {val}\")\n",
    "                outliers(the_month_outlier, i)\n",
    "    except ValueError:\n",
    "            print(f\"The wrong Key was passed\\nPlease look are the information below\\n\")\n",
    "            the_month.info(memory_usage='deep')"
   ]
  },
  {
   "cell_type": "code",
   "execution_count": 97,
   "metadata": {},
   "outputs": [],
   "source": [
    "def dates_hist_two_cleaned():\n",
    "    try:\n",
    "        date = ['04','03']\n",
    "        for index,val in enumerate(date):\n",
    "            value = (cleaned_text_eda.month == val) # The boolean for months\n",
    "            the_month = cleaned_text_eda.loc[value] # New dataframe based on months\n",
    "            colors_list = ['royalblue',\n",
    "                    'darkgreen'\n",
    "                  ]\n",
    "            # Making the hist plot\n",
    "            fig,ax = plt.subplots(1, figsize=(20,5))\n",
    "            sns.histplot(data=the_month,x='cleaned_text_length',kde=True, color=colors_list[index])\n",
    "            fig.suptitle(f\"The Histogram plot for month: {val} \",fontsize=15)\n",
    "            ax.set_title(f\"The cleaned_text_length skewness: {np.around(the_month['cleaned_text_length'].skew(axis=0),3)}\",fontdict={'size':10})\n",
    "            plt.subplots_adjust(wspace=0.2)\n",
    "            # plt.subplots_adjust(hspace=0.5)\n",
    "    except ValueError:\n",
    "            print(f\"The wrong Key was passed\\nPlease look are the information below\\n\")\n",
    "            the_month.info(memory_usage='deep')"
   ]
  },
  {
   "cell_type": "code",
   "execution_count": 98,
   "metadata": {},
   "outputs": [
    {
     "name": "stdout",
     "output_type": "stream",
     "text": [
      "review_score: 04\n",
      "IQR value for column cleaned_text_length is: 20.0\n",
      "Q_1 value for column cleaned_text_length is: 13.0\n",
      "Q_3 value for column cleaned_text_length is: 33.0\n",
      "Lower bound value for column cleaned_text_length is: -17.0\n",
      "Upper bound value for column cleaned_text_length is: 63.0\n",
      "The number of values within the IQR for cleaned_text_length is 1747\n",
      "The number of outliers beyond the upper bound for cleaned_text_length is 0\n",
      "The number of outliers below the lower bound for cleaned_text_length is 0\n",
      "\n",
      "review_score: 03\n",
      "IQR value for column cleaned_text_length is: 16.0\n",
      "Q_1 value for column cleaned_text_length is: 20.0\n",
      "Q_3 value for column cleaned_text_length is: 36.0\n",
      "Lower bound value for column cleaned_text_length is: -4.0\n",
      "Upper bound value for column cleaned_text_length is: 60.0\n",
      "The number of values within the IQR for cleaned_text_length is 733\n",
      "The number of outliers beyond the upper bound for cleaned_text_length is 0\n",
      "The number of outliers below the lower bound for cleaned_text_length is 0\n",
      "\n"
     ]
    },
    {
     "data": {
      "image/png": "[encoded data removed]",
      "text/plain": [
       "<Figure size 1440x360 with 2 Axes>"
      ]
     },
     "metadata": {},
     "output_type": "display_data"
    },
    {
     "data": {
      "image/png": "[encoded data removed]",
      "text/plain": [
       "<Figure size 1440x360 with 2 Axes>"
      ]
     },
     "metadata": {},
     "output_type": "display_data"
    }
   ],
   "source": [
    "dates_cleaned()"
   ]
  },
  {
   "cell_type": "markdown",
   "metadata": {},
   "source": [
    "**Observations on cleaned text based off the box plots**\n",
    "\n",
    "For the month of April;\n",
    "- 25% of the data has text length that is below 13\n",
    "- 75% of the data has text length that is below 33\n",
    "- 25% of the data has a text length that is above 33\n",
    "- IQR of the data is 20, i.e. 50% of the data is between 13 and 33.\n",
    "\n",
    "For the month of March;\n",
    "- 25% of the data has text length that is below 20\n",
    "- 75% of the data has text length that is below 36\n",
    "- 25% of the data has a text length that is above 36\n",
    "- IQR of the data is 16, i.e. 50% of the data is between 20 and 36\n"
   ]
  },
  {
   "cell_type": "code",
   "execution_count": 99,
   "metadata": {},
   "outputs": [
    {
     "data": {
      "image/png": "[encoded data removed]",
      "text/plain": [
       "<Figure size 1440x360 with 1 Axes>"
      ]
     },
     "metadata": {},
     "output_type": "display_data"
    },
    {
     "data": {
      "image/png": "[encoded data removed]",
      "text/plain": [
       "<Figure size 1440x360 with 1 Axes>"
      ]
     },
     "metadata": {},
     "output_type": "display_data"
    }
   ],
   "source": [
    "dates_hist_two_cleaned()"
   ]
  },
  {
   "cell_type": "code",
   "execution_count": 100,
   "metadata": {},
   "outputs": [],
   "source": [
    "# Exporting the cleaned_text_eda\n",
    "cleaned_text_eda.to_csv(\"../model/topic_data.csv\",index=False)"
   ]
  }
 ],
 "metadata": {
  "kernelspec": {
   "display_name": "Python 3.8.13 (conda)",
   "language": "python",
   "name": "python3"
  },
  "language_info": {
   "codemirror_mode": {
    "name": "ipython",
    "version": 3
   },
   "file_extension": ".py",
   "mimetype": "text/x-python",
   "name": "python",
   "nbconvert_exporter": "python",
   "pygments_lexer": "ipython3",
   "version": "3.8.13"
  },
  "orig_nbformat": 4,
  "vscode": {
   "interpreter": {
    "hash": "0d3784fccdc90acbf957f8297e7e306d4c8b14c1a207bd5307d0795df9a8d77b"
   }
  }
 },
 "nbformat": 4,
 "nbformat_minor": 2
}
