{
 "cells": [
  {
   "cell_type": "code",
   "execution_count": 1,
   "metadata": {},
   "outputs": [],
   "source": [
    "import pandas as pd\n",
    "import numpy as np \n",
    "import matplotlib.pyplot as plt\n",
    "import plotly.express as px\n",
    "import plotly.graph_objects as go\n",
    "import plotly.figure_factory as ff\n",
    "import seaborn as sns\n",
    "from collections import Counter\n",
    "from wordcloud import WordCloud, STOPWORDS\n",
    "import string\n",
    "import re\n",
    "import spacy\n",
    "import gensim\n",
    "import warnings\n",
    "warnings.filterwarnings(\"ignore\")\n",
    "from bertopic import BERTopic\n",
    "from sentence_transformers import SentenceTransformer\n",
    "import pickle"
   ]
  },
  {
   "cell_type": "markdown",
   "metadata": {},
   "source": [
    "**Conclusion**\n",
    "\n",
    "- Topic 0 is related to USA and politics\n",
    "- Topic 1 is related to  sports.\n",
    "- Topic 2 is related to AI and healthcare.\n",
    "- Topic 3 is related to disaster/disease.\n",
    "- Topic 4 is related to Nigeria and politics."
   ]
  },
  {
   "cell_type": "code",
   "execution_count": 2,
   "metadata": {},
   "outputs": [],
   "source": [
    "# loading transformer\n",
    "sentence_model = pickle.load(open('../sentence_transformer/sentence_model.pkl','rb'))\n",
    "\n",
    "# Loading the saved model\n",
    "model_loaded = BERTopic.load(\"model_list_versions/topics_7/topics_7_model\",embedding_model=sentence_model)"
   ]
  },
  {
   "cell_type": "code",
   "execution_count": 3,
   "metadata": {},
   "outputs": [
    {
     "data": {
      "text/html": [
       "<div>\n",
       "<style scoped>\n",
       "    .dataframe tbody tr th:only-of-type {\n",
       "        vertical-align: middle;\n",
       "    }\n",
       "\n",
       "    .dataframe tbody tr th {\n",
       "        vertical-align: top;\n",
       "    }\n",
       "\n",
       "    .dataframe thead th {\n",
       "        text-align: right;\n",
       "    }\n",
       "</style>\n",
       "<table border=\"1\" class=\"dataframe\">\n",
       "  <thead>\n",
       "    <tr style=\"text-align: right;\">\n",
       "      <th></th>\n",
       "      <th>Topic</th>\n",
       "      <th>Count</th>\n",
       "      <th>Name</th>\n",
       "      <th>CustomName</th>\n",
       "    </tr>\n",
       "  </thead>\n",
       "  <tbody>\n",
       "    <tr>\n",
       "      <th>0</th>\n",
       "      <td>0</td>\n",
       "      <td>1774</td>\n",
       "      <td>0_the_co_https co_https</td>\n",
       "      <td>sports</td>\n",
       "    </tr>\n",
       "    <tr>\n",
       "      <th>1</th>\n",
       "      <td>1</td>\n",
       "      <td>1009</td>\n",
       "      <td>1_co_https co_https_the</td>\n",
       "      <td>ai and healthcare</td>\n",
       "    </tr>\n",
       "    <tr>\n",
       "      <th>2</th>\n",
       "      <td>2</td>\n",
       "      <td>975</td>\n",
       "      <td>2_ai_healthcare_co_https</td>\n",
       "      <td>disaster</td>\n",
       "    </tr>\n",
       "    <tr>\n",
       "      <th>3</th>\n",
       "      <td>3</td>\n",
       "      <td>499</td>\n",
       "      <td>3_virus_jdc_the_co</td>\n",
       "      <td>nigeria and politics</td>\n",
       "    </tr>\n",
       "    <tr>\n",
       "      <th>4</th>\n",
       "      <td>4</td>\n",
       "      <td>311</td>\n",
       "      <td>4_nigeriadecides2023_gt_your period_period</td>\n",
       "      <td>NaN</td>\n",
       "    </tr>\n",
       "  </tbody>\n",
       "</table>\n",
       "</div>"
      ],
      "text/plain": [
       "   Topic  Count                                        Name  \\\n",
       "0      0   1774                     0_the_co_https co_https   \n",
       "1      1   1009                     1_co_https co_https_the   \n",
       "2      2    975                    2_ai_healthcare_co_https   \n",
       "3      3    499                          3_virus_jdc_the_co   \n",
       "4      4    311  4_nigeriadecides2023_gt_your period_period   \n",
       "\n",
       "             CustomName  \n",
       "0                sports  \n",
       "1     ai and healthcare  \n",
       "2              disaster  \n",
       "3  nigeria and politics  \n",
       "4                   NaN  "
      ]
     },
     "execution_count": 3,
     "metadata": {},
     "output_type": "execute_result"
    }
   ],
   "source": [
    "model_loaded.get_topic_info()"
   ]
  },
  {
   "cell_type": "code",
   "execution_count": 4,
   "metadata": {},
   "outputs": [
    {
     "data": {
      "text/html": [
       "<div>\n",
       "<style scoped>\n",
       "    .dataframe tbody tr th:only-of-type {\n",
       "        vertical-align: middle;\n",
       "    }\n",
       "\n",
       "    .dataframe tbody tr th {\n",
       "        vertical-align: top;\n",
       "    }\n",
       "\n",
       "    .dataframe thead th {\n",
       "        text-align: right;\n",
       "    }\n",
       "</style>\n",
       "<table border=\"1\" class=\"dataframe\">\n",
       "  <thead>\n",
       "    <tr style=\"text-align: right;\">\n",
       "      <th></th>\n",
       "      <th>Topic</th>\n",
       "      <th>Count</th>\n",
       "      <th>Name</th>\n",
       "      <th>CustomName</th>\n",
       "    </tr>\n",
       "  </thead>\n",
       "  <tbody>\n",
       "    <tr>\n",
       "      <th>0</th>\n",
       "      <td>1</td>\n",
       "      <td>1009</td>\n",
       "      <td>1_co_https co_https_the</td>\n",
       "      <td>ai and healthcare</td>\n",
       "    </tr>\n",
       "  </tbody>\n",
       "</table>\n",
       "</div>"
      ],
      "text/plain": [
       "   Topic  Count                     Name         CustomName\n",
       "0      1   1009  1_co_https co_https_the  ai and healthcare"
      ]
     },
     "execution_count": 4,
     "metadata": {},
     "output_type": "execute_result"
    }
   ],
   "source": [
    "model_loaded.get_topic_info(1)"
   ]
  },
  {
   "cell_type": "code",
   "execution_count": 5,
   "metadata": {},
   "outputs": [
    {
     "data": {
      "text/html": [
       "<div>\n",
       "<style scoped>\n",
       "    .dataframe tbody tr th:only-of-type {\n",
       "        vertical-align: middle;\n",
       "    }\n",
       "\n",
       "    .dataframe tbody tr th {\n",
       "        vertical-align: top;\n",
       "    }\n",
       "\n",
       "    .dataframe thead th {\n",
       "        text-align: right;\n",
       "    }\n",
       "</style>\n",
       "<table border=\"1\" class=\"dataframe\">\n",
       "  <thead>\n",
       "    <tr style=\"text-align: right;\">\n",
       "      <th></th>\n",
       "      <th>Topic</th>\n",
       "      <th>Count</th>\n",
       "      <th>Name</th>\n",
       "      <th>CustomName</th>\n",
       "    </tr>\n",
       "  </thead>\n",
       "  <tbody>\n",
       "    <tr>\n",
       "      <th>0</th>\n",
       "      <td>0</td>\n",
       "      <td>1774</td>\n",
       "      <td>0_the_co_https co_https</td>\n",
       "      <td>sports</td>\n",
       "    </tr>\n",
       "    <tr>\n",
       "      <th>1</th>\n",
       "      <td>1</td>\n",
       "      <td>1009</td>\n",
       "      <td>1_co_https co_https_the</td>\n",
       "      <td>ai and healthcare</td>\n",
       "    </tr>\n",
       "    <tr>\n",
       "      <th>2</th>\n",
       "      <td>2</td>\n",
       "      <td>975</td>\n",
       "      <td>2_ai_healthcare_co_https</td>\n",
       "      <td>disaster</td>\n",
       "    </tr>\n",
       "    <tr>\n",
       "      <th>3</th>\n",
       "      <td>3</td>\n",
       "      <td>499</td>\n",
       "      <td>3_virus_jdc_the_co</td>\n",
       "      <td>nigeria and politics</td>\n",
       "    </tr>\n",
       "    <tr>\n",
       "      <th>4</th>\n",
       "      <td>4</td>\n",
       "      <td>311</td>\n",
       "      <td>4_nigeriadecides2023_gt_your period_period</td>\n",
       "      <td>NaN</td>\n",
       "    </tr>\n",
       "  </tbody>\n",
       "</table>\n",
       "</div>"
      ],
      "text/plain": [
       "   Topic  Count                                        Name  \\\n",
       "0      0   1774                     0_the_co_https co_https   \n",
       "1      1   1009                     1_co_https co_https_the   \n",
       "2      2    975                    2_ai_healthcare_co_https   \n",
       "3      3    499                          3_virus_jdc_the_co   \n",
       "4      4    311  4_nigeriadecides2023_gt_your period_period   \n",
       "\n",
       "             CustomName  \n",
       "0                sports  \n",
       "1     ai and healthcare  \n",
       "2              disaster  \n",
       "3  nigeria and politics  \n",
       "4                   NaN  "
      ]
     },
     "execution_count": 5,
     "metadata": {},
     "output_type": "execute_result"
    }
   ],
   "source": [
    "model_loaded.get_topic_info()"
   ]
  },
  {
   "cell_type": "markdown",
   "metadata": {},
   "source": [
    "### **Suggesting links to after Topic classification**"
   ]
  },
  {
   "cell_type": "code",
   "execution_count": 61,
   "metadata": {},
   "outputs": [],
   "source": [
    "topic_mapping = {\n",
    "    0:\"usa and politics\",\n",
    "    1:\"sports\",\n",
    "    2:'ai and healthcare',\n",
    "    3:'disaster/disease',\n",
    "    4:\"nigeria and politics\"\n",
    "}"
   ]
  },
  {
   "cell_type": "code",
   "execution_count": 69,
   "metadata": {},
   "outputs": [],
   "source": [
    "suggest = {\n",
    "    'usa and politics': \"https://www.foxnews.com/us\"\n",
    "    ,'ai and healthcare':'https://www.google.com/search?sxsrf=APwXEdeCxz_laAWroV0WMZEzapCFt9GKEw:1686747497145&q=ai+and+healthcare&tbm=nws&sa=X&ved=2ahUKEwi_kJKL6ML_AhXOUMAKHQCHCgkQ0pQJegQIDhAB&biw=1536&bih=746&dpr=1.25'\n",
    "    ,'disaster/disease':\"https://www.google.com/search?q=disaster+and+disease&biw=1536&bih=746&tbm=nws&sxsrf=APwXEdd0vK4IwALsn0EwzyCcJ8SDrdX00A%3A1686747633393&ei=8bmJZOXDF4bbgQa0z6CQCg&ved=0ahUKEwilgI7M6ML_AhWGbcAKHbQnCKIQ4dUDCA0&uact=5&oq=disaster+and+disease&gs_lcp=Cgxnd3Mtd2l6LW5ld3MQAzIECAAQHjIGCAAQCBAeMgYIABAIEB4yCAgAEIoFEIYDMggIABCKBRCGA1D1Blj1BmDiB2gAcAB4AIAB_wGIAe0DkgEDMi0ymAEAoAEBwAEB&sclient=gws-wiz-news\"\n",
    "    ,\"nigeria and politics\":\"https://www.google.com/search?q=nigeria+and+politics&biw=1536&bih=746&tbm=nws&sxsrf=APwXEddGSpQ3iiJmSPzR5Cfd5VoXTtfGMw%3A1686747637116&ei=9bmJZOzdBpqTgQbB9rTgDw&ved=0ahUKEwisrPHN6ML_AhWaScAKHUE7DfwQ4dUDCA0&uact=5&oq=nigeria+and+politics&gs_lcp=Cgxnd3Mtd2l6LW5ld3MQAzIFCAAQgAQyBQgAEIAEMgYIABAWEB4yBggAEBYQHjIGCAAQFhAeMgYIABAWEB4yBggAEBYQHjIGCAAQFhAeMgYIABAWEB4yBggAEBYQHjoICAAQigUQhgM6CAgAEIoFEJECOggIABCABBCxAzoLCAAQigUQsQMQgwE6CwgAEIAEELEDEIMBOgsIABCKBRCxAxCRAjoKCAAQigUQsQMQQzoNCAAQigUQsQMQgwEQCjoHCAAQigUQQ1DMB1jAKGCnKmgEcAB4AYAB9gKIAZ42kgEGMi02LjE2mAEAoAEBwAEB&sclient=gws-wiz-news\"\n",
    "    ,'sports': {'arsenal':\"https://www.newsnow.com/ng/Sport/Football/Premier+League/Arsenal\",\n",
    "                \"chelsea\":\"https://www.newsnow.com/ng/Sport/Football/Premier+League/Chelsea\",\n",
    "                \"psg\":\"https://www.newsnow.com/ng/?search=psg&lang=en\",\n",
    "                \" \":\"https://www.newsnow.co.uk/h/Sport/Football/Transfer+News\",\n",
    "                \"basketball\":\"https://www.newsnow.com/ng/Sport/NBA\"\n",
    "                    }\n",
    "}"
   ]
  },
  {
   "cell_type": "code",
   "execution_count": 70,
   "metadata": {},
   "outputs": [
    {
     "data": {
      "text/plain": [
       "'usa and politics'"
      ]
     },
     "execution_count": 70,
     "metadata": {},
     "output_type": "execute_result"
    }
   ],
   "source": [
    "# testing \n",
    "topic_mapping[0]"
   ]
  },
  {
   "cell_type": "code",
   "execution_count": 86,
   "metadata": {},
   "outputs": [
    {
     "data": {
      "text/plain": [
       "dict_keys(['arsenal', 'chelsea', 'psg', ' ', 'basketball'])"
      ]
     },
     "execution_count": 86,
     "metadata": {},
     "output_type": "execute_result"
    }
   ],
   "source": [
    "# how to access nested dictionary\n",
    "suggest['sports']['arsenal']\n",
    "suggest['sports'].keys()"
   ]
  },
  {
   "cell_type": "code",
   "execution_count": 105,
   "metadata": {},
   "outputs": [],
   "source": [
    "# https://www.kaggle.com/code/meetnagadia/topic-modeling-using-bertopic/notebook#Testing-the-model\n",
    "def use_compute(texts):\n",
    "    # embeddings = sentence_model.encode(text, show_progress_bar=True)\n",
    "    topics_new, probs_new = model_loaded.transform(texts,)\n",
    "    topic_mapped = topic_mapping[topics_new[0]]\n",
    "    for text in texts:\n",
    "        print(text,\"\\n\")\n",
    "        print(\"-----------------------------------------------------------------------------------\")\n",
    "        print(f\"Suggested Topic of the texts: {topic_mapped}\")\n",
    "        \n",
    "        # checking if topic mapping is in the dictionary keys\n",
    "        if topic_mapped in suggest.keys():\n",
    "            # ensuring the topic is not sports\n",
    "            if topic_mapped != 'sports':\n",
    "                # suggesting the link related to the topic\n",
    "                print(f\"This is the suggested link: {suggest[topic_mapped]}\")\n",
    "            # if the topic is a related to sports\n",
    "            elif topic_mapped == 'sports':\n",
    "                # looping over the keys of sports keys\n",
    "                for word in suggest['sports'].keys():\n",
    "                    # searching the texts to see if any of the words is related to \n",
    "                    # the keys in within sports\n",
    "                    for text in texts:\n",
    "                        # lower case the slotted text to enable proper searching of the texts\n",
    "                        if word in text.lower():\n",
    "                            print(f\"This is the suggested link: {suggest['sports'][word]}\")\n",
    "            "
   ]
  },
  {
   "cell_type": "code",
   "execution_count": 106,
   "metadata": {},
   "outputs": [
    {
     "data": {
      "application/vnd.jupyter.widget-view+json": {
       "model_id": "5ecc5419532f4d2eb2ec3bd14c42d313",
       "version_major": 2,
       "version_minor": 0
      },
      "text/plain": [
       "Batches:   0%|          | 0/1 [00:00<?, ?it/s]"
      ]
     },
     "metadata": {},
     "output_type": "display_data"
    },
    {
     "name": "stdout",
     "output_type": "stream",
     "text": [
      "The current state of Nigeria is quite dire and we should look forward to proper solution!\n",
      "What can we as a Niation do? Build from the ground up once again? Should our independence be forfeitted or should chek ourselves and ask what went wrong and look towards the solution;\n",
      "Manifesto for this plan\n",
      "- Complete overhaul\n",
      "- Disolvement of corrupt agencies\n",
      "- Removel of corrupt Head of states\n",
      "\n",
      "#MAKENIAIJAGREATAGAIN \n",
      "\n",
      "-----------------------------------------------------------------------------------\n",
      "Suggested Topic of the texts: nigeria and politics\n",
      "This is the suggested link: https://www.google.com/search?q=nigeria+and+politics&biw=1536&bih=746&tbm=nws&sxsrf=APwXEddGSpQ3iiJmSPzR5Cfd5VoXTtfGMw%3A1686747637116&ei=9bmJZOzdBpqTgQbB9rTgDw&ved=0ahUKEwisrPHN6ML_AhWaScAKHUE7DfwQ4dUDCA0&uact=5&oq=nigeria+and+politics&gs_lcp=Cgxnd3Mtd2l6LW5ld3MQAzIFCAAQgAQyBQgAEIAEMgYIABAWEB4yBggAEBYQHjIGCAAQFhAeMgYIABAWEB4yBggAEBYQHjIGCAAQFhAeMgYIABAWEB4yBggAEBYQHjoICAAQigUQhgM6CAgAEIoFEJECOggIABCABBCxAzoLCAAQigUQsQMQgwE6CwgAEIAEELEDEIMBOgsIABCKBRCxAxCRAjoKCAAQigUQsQMQQzoNCAAQigUQsQMQgwEQCjoHCAAQigUQQ1DMB1jAKGCnKmgEcAB4AYAB9gKIAZ42kgEGMi02LjE2mAEAoAEBwAEB&sclient=gws-wiz-news\n"
     ]
    }
   ],
   "source": [
    "text = [\"\"\"The current state of Nigeria is quite dire and we should look forward to proper solution!\n",
    "What can we as a Niation do? Build from the ground up once again? Should our independence be forfeitted or should chek ourselves and ask what went wrong and look towards the solution;\n",
    "Manifesto for this plan\n",
    "- Complete overhaul\n",
    "- Disolvement of corrupt agencies\n",
    "- Removel of corrupt Head of states\n",
    "\n",
    "#MAKENIAIJAGREATAGAIN\"\"\"]\n",
    "use_compute(text)"
   ]
  },
  {
   "cell_type": "code",
   "execution_count": 107,
   "metadata": {},
   "outputs": [
    {
     "data": {
      "application/vnd.jupyter.widget-view+json": {
       "model_id": "d55e1dd34a044e0cbfd292b0b5307ce3",
       "version_major": 2,
       "version_minor": 0
      },
      "text/plain": [
       "Batches:   0%|          | 0/1 [00:00<?, ?it/s]"
      ]
     },
     "metadata": {},
     "output_type": "display_data"
    },
    {
     "name": "stdout",
     "output_type": "stream",
     "text": [
      "daniel and the basketball teams has won the EPL \n",
      "\n",
      "-----------------------------------------------------------------------------------\n",
      "Suggested Topic of the texts: sports\n",
      "This is the suggested link: https://www.newsnow.co.uk/h/Sport/Football/Transfer+News\n",
      "This is the suggested link: https://www.newsnow.com/ng/Sport/NBA\n"
     ]
    }
   ],
   "source": [
    "text = [\"\"\"daniel and the basketball teams has won the EPL\"\"\"]\n",
    "use_compute(text)"
   ]
  },
  {
   "cell_type": "code",
   "execution_count": 108,
   "metadata": {},
   "outputs": [
    {
     "data": {
      "application/vnd.jupyter.widget-view+json": {
       "model_id": "2b9266e58f524e0c87acf60177122331",
       "version_major": 2,
       "version_minor": 0
      },
      "text/plain": [
       "Batches:   0%|          | 0/1 [00:00<?, ?it/s]"
      ]
     },
     "metadata": {},
     "output_type": "display_data"
    },
    {
     "name": "stdout",
     "output_type": "stream",
     "text": [
      "The harsh plague is real! \n",
      "\n",
      "-----------------------------------------------------------------------------------\n",
      "Suggested Topic of the texts: disaster/disease\n",
      "This is the suggested link: https://www.google.com/search?q=disaster+and+disease&biw=1536&bih=746&tbm=nws&sxsrf=APwXEdd0vK4IwALsn0EwzyCcJ8SDrdX00A%3A1686747633393&ei=8bmJZOXDF4bbgQa0z6CQCg&ved=0ahUKEwilgI7M6ML_AhWGbcAKHbQnCKIQ4dUDCA0&uact=5&oq=disaster+and+disease&gs_lcp=Cgxnd3Mtd2l6LW5ld3MQAzIECAAQHjIGCAAQCBAeMgYIABAIEB4yCAgAEIoFEIYDMggIABCKBRCGA1D1Blj1BmDiB2gAcAB4AIAB_wGIAe0DkgEDMi0ymAEAoAEBwAEB&sclient=gws-wiz-news\n"
     ]
    }
   ],
   "source": [
    "text = [\"\"\"The harsh plague is real!\"\"\"]\n",
    "use_compute(text)"
   ]
  },
  {
   "cell_type": "code",
   "execution_count": 109,
   "metadata": {},
   "outputs": [
    {
     "data": {
      "application/vnd.jupyter.widget-view+json": {
       "model_id": "c753869b9bb545fd817dc8d8a3469b0d",
       "version_major": 2,
       "version_minor": 0
      },
      "text/plain": [
       "Batches:   0%|          | 0/1 [00:00<?, ?it/s]"
      ]
     },
     "metadata": {},
     "output_type": "display_data"
    },
    {
     "name": "stdout",
     "output_type": "stream",
     "text": [
      "joe biden is the president of USA \n",
      "\n",
      "-----------------------------------------------------------------------------------\n",
      "Suggested Topic of the texts: usa and politics\n",
      "This is the suggested link: https://www.foxnews.com/us\n"
     ]
    }
   ],
   "source": [
    "text = [\"\"\"joe biden is the president of USA\"\"\"]\n",
    "use_compute(text)"
   ]
  }
 ],
 "metadata": {
  "kernelspec": {
   "display_name": "Python 3.8.13",
   "language": "python",
   "name": "python3"
  },
  "language_info": {
   "codemirror_mode": {
    "name": "ipython",
    "version": 3
   },
   "file_extension": ".py",
   "mimetype": "text/x-python",
   "name": "python",
   "nbconvert_exporter": "python",
   "pygments_lexer": "ipython3",
   "version": "3.8.13"
  },
  "orig_nbformat": 4,
  "vscode": {
   "interpreter": {
    "hash": "0d3784fccdc90acbf957f8297e7e306d4c8b14c1a207bd5307d0795df9a8d77b"
   }
  }
 },
 "nbformat": 4,
 "nbformat_minor": 2
}
