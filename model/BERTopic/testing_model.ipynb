{
 "cells": [
  {
   "cell_type": "code",
   "execution_count": 1,
   "metadata": {},
   "outputs": [],
   "source": [
    "import pandas as pd\n",
    "import numpy as np \n",
    "import matplotlib.pyplot as plt\n",
    "import plotly.express as px\n",
    "import plotly.graph_objects as go\n",
    "import plotly.figure_factory as ff\n",
    "import seaborn as sns\n",
    "from collections import Counter\n",
    "from wordcloud import WordCloud, STOPWORDS\n",
    "import string\n",
    "import re\n",
    "import spacy\n",
    "import gensim\n",
    "import warnings\n",
    "warnings.filterwarnings(\"ignore\")\n",
    "from bertopic import BERTopic\n",
    "from sentence_transformers import SentenceTransformer\n",
    "import pickle"
   ]
  },
  {
   "cell_type": "code",
   "execution_count": 2,
   "metadata": {},
   "outputs": [],
   "source": [
    "# loading transformer\n",
    "sentence_model = pickle.load(open('../sentence_transformer/sentence_model.pkl','rb'))\n",
    "\n",
    "# Loading the saved model\n",
    "model_loaded = BERTopic.load(\"model_list_versions/topics_7/topics_7_model\",embedding_model=sentence_model)"
   ]
  },
  {
   "cell_type": "code",
   "execution_count": 3,
   "metadata": {},
   "outputs": [
    {
     "data": {
      "text/html": [
       "<div>\n",
       "<style scoped>\n",
       "    .dataframe tbody tr th:only-of-type {\n",
       "        vertical-align: middle;\n",
       "    }\n",
       "\n",
       "    .dataframe tbody tr th {\n",
       "        vertical-align: top;\n",
       "    }\n",
       "\n",
       "    .dataframe thead th {\n",
       "        text-align: right;\n",
       "    }\n",
       "</style>\n",
       "<table border=\"1\" class=\"dataframe\">\n",
       "  <thead>\n",
       "    <tr style=\"text-align: right;\">\n",
       "      <th></th>\n",
       "      <th>Topic</th>\n",
       "      <th>Count</th>\n",
       "      <th>Name</th>\n",
       "      <th>CustomName</th>\n",
       "    </tr>\n",
       "  </thead>\n",
       "  <tbody>\n",
       "    <tr>\n",
       "      <th>0</th>\n",
       "      <td>0</td>\n",
       "      <td>1774</td>\n",
       "      <td>0_the_co_https co_https</td>\n",
       "      <td>sports</td>\n",
       "    </tr>\n",
       "    <tr>\n",
       "      <th>1</th>\n",
       "      <td>1</td>\n",
       "      <td>1009</td>\n",
       "      <td>1_co_https co_https_the</td>\n",
       "      <td>ai and healthcare</td>\n",
       "    </tr>\n",
       "    <tr>\n",
       "      <th>2</th>\n",
       "      <td>2</td>\n",
       "      <td>975</td>\n",
       "      <td>2_ai_healthcare_co_https</td>\n",
       "      <td>disaster</td>\n",
       "    </tr>\n",
       "    <tr>\n",
       "      <th>3</th>\n",
       "      <td>3</td>\n",
       "      <td>499</td>\n",
       "      <td>3_virus_jdc_the_co</td>\n",
       "      <td>nigeria and politics</td>\n",
       "    </tr>\n",
       "    <tr>\n",
       "      <th>4</th>\n",
       "      <td>4</td>\n",
       "      <td>311</td>\n",
       "      <td>4_nigeriadecides2023_gt_your period_period</td>\n",
       "      <td>NaN</td>\n",
       "    </tr>\n",
       "  </tbody>\n",
       "</table>\n",
       "</div>"
      ],
      "text/plain": [
       "   Topic  Count                                        Name  \\\n",
       "0      0   1774                     0_the_co_https co_https   \n",
       "1      1   1009                     1_co_https co_https_the   \n",
       "2      2    975                    2_ai_healthcare_co_https   \n",
       "3      3    499                          3_virus_jdc_the_co   \n",
       "4      4    311  4_nigeriadecides2023_gt_your period_period   \n",
       "\n",
       "             CustomName  \n",
       "0                sports  \n",
       "1     ai and healthcare  \n",
       "2              disaster  \n",
       "3  nigeria and politics  \n",
       "4                   NaN  "
      ]
     },
     "execution_count": 3,
     "metadata": {},
     "output_type": "execute_result"
    }
   ],
   "source": [
    "model_loaded.get_topic_info()"
   ]
  },
  {
   "cell_type": "code",
   "execution_count": 4,
   "metadata": {},
   "outputs": [
    {
     "data": {
      "text/html": [
       "<div>\n",
       "<style scoped>\n",
       "    .dataframe tbody tr th:only-of-type {\n",
       "        vertical-align: middle;\n",
       "    }\n",
       "\n",
       "    .dataframe tbody tr th {\n",
       "        vertical-align: top;\n",
       "    }\n",
       "\n",
       "    .dataframe thead th {\n",
       "        text-align: right;\n",
       "    }\n",
       "</style>\n",
       "<table border=\"1\" class=\"dataframe\">\n",
       "  <thead>\n",
       "    <tr style=\"text-align: right;\">\n",
       "      <th></th>\n",
       "      <th>Topic</th>\n",
       "      <th>Count</th>\n",
       "      <th>Name</th>\n",
       "      <th>CustomName</th>\n",
       "    </tr>\n",
       "  </thead>\n",
       "  <tbody>\n",
       "    <tr>\n",
       "      <th>0</th>\n",
       "      <td>1</td>\n",
       "      <td>1009</td>\n",
       "      <td>1_co_https co_https_the</td>\n",
       "      <td>ai and healthcare</td>\n",
       "    </tr>\n",
       "  </tbody>\n",
       "</table>\n",
       "</div>"
      ],
      "text/plain": [
       "   Topic  Count                     Name         CustomName\n",
       "0      1   1009  1_co_https co_https_the  ai and healthcare"
      ]
     },
     "execution_count": 4,
     "metadata": {},
     "output_type": "execute_result"
    }
   ],
   "source": [
    "model_loaded.get_topic_info(1)"
   ]
  },
  {
   "cell_type": "code",
   "execution_count": 5,
   "metadata": {},
   "outputs": [
    {
     "data": {
      "text/html": [
       "<div>\n",
       "<style scoped>\n",
       "    .dataframe tbody tr th:only-of-type {\n",
       "        vertical-align: middle;\n",
       "    }\n",
       "\n",
       "    .dataframe tbody tr th {\n",
       "        vertical-align: top;\n",
       "    }\n",
       "\n",
       "    .dataframe thead th {\n",
       "        text-align: right;\n",
       "    }\n",
       "</style>\n",
       "<table border=\"1\" class=\"dataframe\">\n",
       "  <thead>\n",
       "    <tr style=\"text-align: right;\">\n",
       "      <th></th>\n",
       "      <th>Topic</th>\n",
       "      <th>Count</th>\n",
       "      <th>Name</th>\n",
       "      <th>CustomName</th>\n",
       "    </tr>\n",
       "  </thead>\n",
       "  <tbody>\n",
       "    <tr>\n",
       "      <th>0</th>\n",
       "      <td>0</td>\n",
       "      <td>1774</td>\n",
       "      <td>0_the_co_https co_https</td>\n",
       "      <td>sports</td>\n",
       "    </tr>\n",
       "    <tr>\n",
       "      <th>1</th>\n",
       "      <td>1</td>\n",
       "      <td>1009</td>\n",
       "      <td>1_co_https co_https_the</td>\n",
       "      <td>ai and healthcare</td>\n",
       "    </tr>\n",
       "    <tr>\n",
       "      <th>2</th>\n",
       "      <td>2</td>\n",
       "      <td>975</td>\n",
       "      <td>2_ai_healthcare_co_https</td>\n",
       "      <td>disaster</td>\n",
       "    </tr>\n",
       "    <tr>\n",
       "      <th>3</th>\n",
       "      <td>3</td>\n",
       "      <td>499</td>\n",
       "      <td>3_virus_jdc_the_co</td>\n",
       "      <td>nigeria and politics</td>\n",
       "    </tr>\n",
       "    <tr>\n",
       "      <th>4</th>\n",
       "      <td>4</td>\n",
       "      <td>311</td>\n",
       "      <td>4_nigeriadecides2023_gt_your period_period</td>\n",
       "      <td>NaN</td>\n",
       "    </tr>\n",
       "  </tbody>\n",
       "</table>\n",
       "</div>"
      ],
      "text/plain": [
       "   Topic  Count                                        Name  \\\n",
       "0      0   1774                     0_the_co_https co_https   \n",
       "1      1   1009                     1_co_https co_https_the   \n",
       "2      2    975                    2_ai_healthcare_co_https   \n",
       "3      3    499                          3_virus_jdc_the_co   \n",
       "4      4    311  4_nigeriadecides2023_gt_your period_period   \n",
       "\n",
       "             CustomName  \n",
       "0                sports  \n",
       "1     ai and healthcare  \n",
       "2              disaster  \n",
       "3  nigeria and politics  \n",
       "4                   NaN  "
      ]
     },
     "execution_count": 5,
     "metadata": {},
     "output_type": "execute_result"
    }
   ],
   "source": [
    "model_loaded.get_topic_info()"
   ]
  },
  {
   "cell_type": "markdown",
   "metadata": {},
   "source": [
    "### **Working with unseen data**"
   ]
  },
  {
   "cell_type": "code",
   "execution_count": 6,
   "metadata": {},
   "outputs": [],
   "source": [
    "# https://www.kaggle.com/code/meetnagadia/topic-modeling-using-bertopic/notebook#Testing-the-model\n",
    "def use_compute(texts):\n",
    "    # embeddings = sentence_model.encode(text, show_progress_bar=True)\n",
    "    topics_new, probs_new = model_loaded.transform(texts,)\n",
    "    for text in texts:\n",
    "        print(text,\"\\n\")\n",
    "    print(\"-----------------------------------------------------------------------------------\")\n",
    "    print(f\"Suggested Topic ids of the texts: {topics_new}\")"
   ]
  },
  {
   "cell_type": "code",
   "execution_count": 7,
   "metadata": {},
   "outputs": [
    {
     "data": {
      "application/vnd.jupyter.widget-view+json": {
       "model_id": "c26797fa5f124c37b8fac6040a78266f",
       "version_major": 2,
       "version_minor": 0
      },
      "text/plain": [
       "Batches:   0%|          | 0/1 [00:00<?, ?it/s]"
      ]
     },
     "metadata": {},
     "output_type": "display_data"
    },
    {
     "name": "stdout",
     "output_type": "stream",
     "text": [
      "The current state of Nigeria is quite dire and we should look forward to proper solution!\n",
      "What can we as a Niation do? Build from the ground up once again? Should our independence be forfeitted or should chek ourselves and ask what went wrong and look towards the solution;\n",
      "Manifesto for this plan\n",
      "- Complete overhaul\n",
      "- Disolvement of corrupt agencies\n",
      "- Removel of corrupt Head of states\n",
      "\n",
      "#MAKENIAIJAGREATAGAIN \n",
      "\n",
      "-----------------------------------------------------------------------------------\n",
      "Suggested Topic ids of the texts: [4]\n"
     ]
    }
   ],
   "source": [
    "text = [\"\"\"The current state of Nigeria is quite dire and we should look forward to proper solution!\n",
    "What can we as a Niation do? Build from the ground up once again? Should our independence be forfeitted or should chek ourselves and ask what went wrong and look towards the solution;\n",
    "Manifesto for this plan\n",
    "- Complete overhaul\n",
    "- Disolvement of corrupt agencies\n",
    "- Removel of corrupt Head of states\n",
    "\n",
    "#MAKENIAIJAGREATAGAIN\"\"\"]\n",
    "use_compute(text)"
   ]
  },
  {
   "cell_type": "code",
   "execution_count": 8,
   "metadata": {},
   "outputs": [],
   "source": [
    "texts = [\"\"\"The current state of Nigeria is quite dire and we should look forward to proper solution!\n",
    "What can we as a Niation do? Build from the ground up once again? Should our independence be forfeitted or should chek ourselves and ask what went wrong and look towards the solution;\n",
    "Manifesto for this plan\n",
    "- Complete overhaul\n",
    "- Disolvement of corrupt agencies\n",
    "- Removel of corrupt Head of states\n",
    "\n",
    "#MAKENIAIJAGREATAGAIN\"\"\",\"\"\"What has Trump done!\"\"\", \"\"\"What a GOAL BY MANE, WHERE WILL MILAN RETREAT TOO?\"\"\"]"
   ]
  },
  {
   "cell_type": "code",
   "execution_count": 9,
   "metadata": {},
   "outputs": [
    {
     "data": {
      "application/vnd.jupyter.widget-view+json": {
       "model_id": "523eea7830dd43bebd0557cfbe04d149",
       "version_major": 2,
       "version_minor": 0
      },
      "text/plain": [
       "Batches:   0%|          | 0/1 [00:00<?, ?it/s]"
      ]
     },
     "metadata": {},
     "output_type": "display_data"
    },
    {
     "name": "stdout",
     "output_type": "stream",
     "text": [
      "The current state of Nigeria is quite dire and we should look forward to proper solution!\n",
      "What can we as a Niation do? Build from the ground up once again? Should our independence be forfeitted or should chek ourselves and ask what went wrong and look towards the solution;\n",
      "Manifesto for this plan\n",
      "- Complete overhaul\n",
      "- Disolvement of corrupt agencies\n",
      "- Removel of corrupt Head of states\n",
      "\n",
      "#MAKENIAIJAGREATAGAIN \n",
      "\n",
      "What has Trump done! \n",
      "\n",
      "What a GOAL BY MANE, WHERE WILL MILAN RETREAT TOO? \n",
      "\n",
      "-----------------------------------------------------------------------------------\n",
      "Suggested Topic ids of the texts: [4, 0, 1]\n"
     ]
    }
   ],
   "source": [
    "use_compute(texts)"
   ]
  },
  {
   "cell_type": "code",
   "execution_count": 13,
   "metadata": {},
   "outputs": [],
   "source": [
    "text1 = [\"\"\" what is the percentage rate of poverty in nigeria?\"\"\"]"
   ]
  },
  {
   "cell_type": "code",
   "execution_count": 14,
   "metadata": {},
   "outputs": [
    {
     "data": {
      "application/vnd.jupyter.widget-view+json": {
       "model_id": "7c301ea0f16d445e8955b431a00fda7c",
       "version_major": 2,
       "version_minor": 0
      },
      "text/plain": [
       "Batches:   0%|          | 0/1 [00:00<?, ?it/s]"
      ]
     },
     "metadata": {},
     "output_type": "display_data"
    },
    {
     "name": "stdout",
     "output_type": "stream",
     "text": [
      " what is the percentage rate of poverty in nigeria? \n",
      "\n",
      "-----------------------------------------------------------------------------------\n",
      "Suggested Topic ids of the texts: [4]\n"
     ]
    }
   ],
   "source": [
    "use_compute(text1)"
   ]
  },
  {
   "cell_type": "code",
   "execution_count": 15,
   "metadata": {},
   "outputs": [],
   "source": [
    "text2 = [\"Manchester City is gonna win and ace Champion League.\"]"
   ]
  },
  {
   "cell_type": "code",
   "execution_count": 16,
   "metadata": {},
   "outputs": [
    {
     "data": {
      "application/vnd.jupyter.widget-view+json": {
       "model_id": "308c6f86168e4274a2091cc39cbbae9c",
       "version_major": 2,
       "version_minor": 0
      },
      "text/plain": [
       "Batches:   0%|          | 0/1 [00:00<?, ?it/s]"
      ]
     },
     "metadata": {},
     "output_type": "display_data"
    },
    {
     "name": "stdout",
     "output_type": "stream",
     "text": [
      "Manchester City is gonna win and ace Champion League. \n",
      "\n",
      "-----------------------------------------------------------------------------------\n",
      "Suggested Topic ids of the texts: [1]\n"
     ]
    }
   ],
   "source": [
    "use_compute(text2)"
   ]
  },
  {
   "cell_type": "code",
   "execution_count": 35,
   "metadata": {},
   "outputs": [],
   "source": [
    "text3 = [\"\"\"The plague is among us in this place\"\"\"]"
   ]
  },
  {
   "cell_type": "code",
   "execution_count": 36,
   "metadata": {},
   "outputs": [
    {
     "data": {
      "application/vnd.jupyter.widget-view+json": {
       "model_id": "49585bf156e845b08130b26e3881303c",
       "version_major": 2,
       "version_minor": 0
      },
      "text/plain": [
       "Batches:   0%|          | 0/1 [00:00<?, ?it/s]"
      ]
     },
     "metadata": {},
     "output_type": "display_data"
    },
    {
     "name": "stdout",
     "output_type": "stream",
     "text": [
      "The plague is among us in this place \n",
      "\n",
      "-----------------------------------------------------------------------------------\n",
      "Suggested Topic ids of the texts: [3]\n"
     ]
    }
   ],
   "source": [
    "use_compute(text3)"
   ]
  },
  {
   "cell_type": "markdown",
   "metadata": {},
   "source": [
    "**Observations**\n",
    "\n",
    "- Topic 0 is related to USA and politics\n",
    "- Topic 1 is related to  sports.\n",
    "- Topic 2 is related to AI and healthcare.\n",
    "- Topic 3 is related to disaster/disease.\n",
    "- Topic 4 is related to Nigeria and politics."
   ]
  }
 ],
 "metadata": {
  "kernelspec": {
   "display_name": "Python 3.8.13 (conda)",
   "language": "python",
   "name": "python3"
  },
  "language_info": {
   "codemirror_mode": {
    "name": "ipython",
    "version": 3
   },
   "file_extension": ".py",
   "mimetype": "text/x-python",
   "name": "python",
   "nbconvert_exporter": "python",
   "pygments_lexer": "ipython3",
   "version": "3.8.13"
  },
  "orig_nbformat": 4,
  "vscode": {
   "interpreter": {
    "hash": "0d3784fccdc90acbf957f8297e7e306d4c8b14c1a207bd5307d0795df9a8d77b"
   }
  }
 },
 "nbformat": 4,
 "nbformat_minor": 2
}
