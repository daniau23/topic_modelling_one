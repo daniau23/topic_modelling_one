{
 "cells": [
  {
   "cell_type": "code",
   "execution_count": 1,
   "metadata": {},
   "outputs": [],
   "source": [
    "import pandas as pd\n",
    "import numpy as np \n",
    "import matplotlib.pyplot as plt\n",
    "import plotly.express as px\n",
    "import plotly.graph_objects as go\n",
    "import plotly.figure_factory as ff\n",
    "import seaborn as sns\n",
    "from collections import Counter\n",
    "from wordcloud import WordCloud, STOPWORDS\n",
    "# import textblob\n",
    "# from vaderSentiment.vaderSentiment import SentimentIntensityAnalyzer\n",
    "import string\n",
    "import re\n",
    "import spacy\n",
    "import gensim\n",
    "import warnings\n",
    "warnings.filterwarnings(\"ignore\")"
   ]
  },
  {
   "cell_type": "code",
   "execution_count": 2,
   "metadata": {},
   "outputs": [],
   "source": [
    "df = pd.read_csv('../topic_data.csv')"
   ]
  },
  {
   "cell_type": "code",
   "execution_count": 3,
   "metadata": {},
   "outputs": [],
   "source": [
    "df_copy = df.copy()"
   ]
  },
  {
   "cell_type": "code",
   "execution_count": 4,
   "metadata": {},
   "outputs": [
    {
     "data": {
      "text/html": [
       "<div>\n",
       "<style scoped>\n",
       "    .dataframe tbody tr th:only-of-type {\n",
       "        vertical-align: middle;\n",
       "    }\n",
       "\n",
       "    .dataframe tbody tr th {\n",
       "        vertical-align: top;\n",
       "    }\n",
       "\n",
       "    .dataframe thead th {\n",
       "        text-align: right;\n",
       "    }\n",
       "</style>\n",
       "<table border=\"1\" class=\"dataframe\">\n",
       "  <thead>\n",
       "    <tr style=\"text-align: right;\">\n",
       "      <th></th>\n",
       "      <th>raw_text_length</th>\n",
       "      <th>year</th>\n",
       "      <th>month</th>\n",
       "      <th>cleaned_text_length</th>\n",
       "    </tr>\n",
       "  </thead>\n",
       "  <tbody>\n",
       "    <tr>\n",
       "      <th>count</th>\n",
       "      <td>4568.000000</td>\n",
       "      <td>4568.0</td>\n",
       "      <td>4568.000000</td>\n",
       "      <td>4568.000000</td>\n",
       "    </tr>\n",
       "    <tr>\n",
       "      <th>mean</th>\n",
       "      <td>27.330560</td>\n",
       "      <td>2023.0</td>\n",
       "      <td>3.703590</td>\n",
       "      <td>24.769483</td>\n",
       "    </tr>\n",
       "    <tr>\n",
       "      <th>std</th>\n",
       "      <td>11.840659</td>\n",
       "      <td>0.0</td>\n",
       "      <td>0.456724</td>\n",
       "      <td>11.581002</td>\n",
       "    </tr>\n",
       "    <tr>\n",
       "      <th>min</th>\n",
       "      <td>1.000000</td>\n",
       "      <td>2023.0</td>\n",
       "      <td>3.000000</td>\n",
       "      <td>1.000000</td>\n",
       "    </tr>\n",
       "    <tr>\n",
       "      <th>25%</th>\n",
       "      <td>17.000000</td>\n",
       "      <td>2023.0</td>\n",
       "      <td>3.000000</td>\n",
       "      <td>15.000000</td>\n",
       "    </tr>\n",
       "    <tr>\n",
       "      <th>50%</th>\n",
       "      <td>27.000000</td>\n",
       "      <td>2023.0</td>\n",
       "      <td>4.000000</td>\n",
       "      <td>24.000000</td>\n",
       "    </tr>\n",
       "    <tr>\n",
       "      <th>75%</th>\n",
       "      <td>37.000000</td>\n",
       "      <td>2023.0</td>\n",
       "      <td>4.000000</td>\n",
       "      <td>34.000000</td>\n",
       "    </tr>\n",
       "    <tr>\n",
       "      <th>max</th>\n",
       "      <td>61.000000</td>\n",
       "      <td>2023.0</td>\n",
       "      <td>4.000000</td>\n",
       "      <td>57.000000</td>\n",
       "    </tr>\n",
       "  </tbody>\n",
       "</table>\n",
       "</div>"
      ],
      "text/plain": [
       "       raw_text_length    year        month  cleaned_text_length\n",
       "count      4568.000000  4568.0  4568.000000          4568.000000\n",
       "mean         27.330560  2023.0     3.703590            24.769483\n",
       "std          11.840659     0.0     0.456724            11.581002\n",
       "min           1.000000  2023.0     3.000000             1.000000\n",
       "25%          17.000000  2023.0     3.000000            15.000000\n",
       "50%          27.000000  2023.0     4.000000            24.000000\n",
       "75%          37.000000  2023.0     4.000000            34.000000\n",
       "max          61.000000  2023.0     4.000000            57.000000"
      ]
     },
     "execution_count": 4,
     "metadata": {},
     "output_type": "execute_result"
    }
   ],
   "source": [
    "df_copy.describe()"
   ]
  },
  {
   "cell_type": "code",
   "execution_count": 5,
   "metadata": {},
   "outputs": [
    {
     "name": "stdout",
     "output_type": "stream",
     "text": [
      "<class 'pandas.core.frame.DataFrame'>\n",
      "RangeIndex: 4568 entries, 0 to 4567\n",
      "Data columns (total 7 columns):\n",
      " #   Column               Non-Null Count  Dtype \n",
      "---  ------               --------------  ----- \n",
      " 0   text                 4568 non-null   object\n",
      " 1   date                 4568 non-null   object\n",
      " 2   raw_text_length      4568 non-null   int64 \n",
      " 3   year                 4568 non-null   int64 \n",
      " 4   month                4568 non-null   int64 \n",
      " 5   cleaned_text         4568 non-null   object\n",
      " 6   cleaned_text_length  4568 non-null   int64 \n",
      "dtypes: int64(4), object(3)\n",
      "memory usage: 3.2 MB\n"
     ]
    }
   ],
   "source": [
    "df_copy.info(memory_usage='deep')"
   ]
  },
  {
   "cell_type": "markdown",
   "metadata": {},
   "source": [
    "**Memory management**"
   ]
  },
  {
   "cell_type": "code",
   "execution_count": 6,
   "metadata": {},
   "outputs": [],
   "source": [
    "# Memory management\n",
    "def memory_magment(df):\n",
    "    for col in df.columns:\n",
    "        col_type = df[col].dtype\n",
    "\n",
    "        if col_type != np.object:\n",
    "            c_min = df[col].min()\n",
    "            c_max = df[col].max()\n",
    "\n",
    "            if str(col_type)[:3] == 'int':\n",
    "                if c_min > np.iinfo(np.int8).min and c_max < np.iinfo(np.int8).max:\n",
    "                    df[col] = df[col].astype(np.int8) # int 8\n",
    "                elif c_min > np.iinfo(np.int16).min and c_max < np.iinfo(np.int16).max:\n",
    "                    df[col] = df[col].astype(np.int16) # int 16\n",
    "                elif c_min > np.iinfo(np.int32).min and c_max < np.iinfo(np.int32).max:\n",
    "                    df[col] = df[col].astype(np.int32)  # in 32\n",
    "                elif c_min > np.iinfo(np.int64).min and c_max < np.iinfo(np.int64).max:\n",
    "                    df[col] = df[col].astype(np.int64) # int 64 \n",
    "            else:\n",
    "                if c_min > np.finfo(np.float16).min and c_max < np.finfo(np.float16).max:\n",
    "                    df[col] = df[col].astype(np.float16)\n",
    "                elif c_min > np.finfo(np.float32).min and c_max < np.finfo(np.float32).max:\n",
    "                    df[col] = df[col].astype(np.float32)\n",
    "                else: \n",
    "                    df[col] = df[col].astype(np.float64)\n",
    "    return df\n",
    "df_memory = df_copy.copy()\n",
    "df_memory = memory_magment(df_memory)    "
   ]
  },
  {
   "cell_type": "code",
   "execution_count": 7,
   "metadata": {},
   "outputs": [
    {
     "name": "stdout",
     "output_type": "stream",
     "text": [
      "<class 'pandas.core.frame.DataFrame'>\n",
      "RangeIndex: 4568 entries, 0 to 4567\n",
      "Data columns (total 7 columns):\n",
      " #   Column               Non-Null Count  Dtype \n",
      "---  ------               --------------  ----- \n",
      " 0   text                 4568 non-null   object\n",
      " 1   date                 4568 non-null   object\n",
      " 2   raw_text_length      4568 non-null   int8  \n",
      " 3   year                 4568 non-null   int16 \n",
      " 4   month                4568 non-null   int8  \n",
      " 5   cleaned_text         4568 non-null   object\n",
      " 6   cleaned_text_length  4568 non-null   int8  \n",
      "dtypes: int16(1), int8(3), object(3)\n",
      "memory usage: 3.1 MB\n"
     ]
    }
   ],
   "source": [
    "df_memory.info(memory_usage='deep')"
   ]
  },
  {
   "cell_type": "markdown",
   "metadata": {},
   "source": [
    "Memory reduced from 3.2 --> 3.1 MB"
   ]
  },
  {
   "cell_type": "markdown",
   "metadata": {},
   "source": [
    "**Preprocessing the data to obtain the tokens.**\n",
    "\n",
    "- The cleaned_text version will be made use of for this process."
   ]
  },
  {
   "cell_type": "code",
   "execution_count": 8,
   "metadata": {},
   "outputs": [
    {
     "data": {
      "text/html": [
       "<div>\n",
       "<style scoped>\n",
       "    .dataframe tbody tr th:only-of-type {\n",
       "        vertical-align: middle;\n",
       "    }\n",
       "\n",
       "    .dataframe tbody tr th {\n",
       "        vertical-align: top;\n",
       "    }\n",
       "\n",
       "    .dataframe thead th {\n",
       "        text-align: right;\n",
       "    }\n",
       "</style>\n",
       "<table border=\"1\" class=\"dataframe\">\n",
       "  <thead>\n",
       "    <tr style=\"text-align: right;\">\n",
       "      <th></th>\n",
       "      <th>text</th>\n",
       "      <th>date</th>\n",
       "      <th>raw_text_length</th>\n",
       "      <th>year</th>\n",
       "      <th>month</th>\n",
       "      <th>cleaned_text</th>\n",
       "      <th>cleaned_text_length</th>\n",
       "    </tr>\n",
       "  </thead>\n",
       "  <tbody>\n",
       "    <tr>\n",
       "      <th>1552</th>\n",
       "      <td>US SB 686 | Real-World Ministry of Truth Being...</td>\n",
       "      <td>2023-03-28 15:35:04+00:00</td>\n",
       "      <td>15</td>\n",
       "      <td>2023</td>\n",
       "      <td>3</td>\n",
       "      <td>us sb real world ministry of truth being estab...</td>\n",
       "      <td>14</td>\n",
       "    </tr>\n",
       "    <tr>\n",
       "      <th>23</th>\n",
       "      <td>Exclusive — Rep. Jeff Van Drew: Democrats Afra...</td>\n",
       "      <td>2023-04-03 10:56:07+00:00</td>\n",
       "      <td>20</td>\n",
       "      <td>2023</td>\n",
       "      <td>4</td>\n",
       "      <td>exclusive rep jeff van drew democrats afraid d...</td>\n",
       "      <td>17</td>\n",
       "    </tr>\n",
       "  </tbody>\n",
       "</table>\n",
       "</div>"
      ],
      "text/plain": [
       "                                                   text  \\\n",
       "1552  US SB 686 | Real-World Ministry of Truth Being...   \n",
       "23    Exclusive — Rep. Jeff Van Drew: Democrats Afra...   \n",
       "\n",
       "                           date  raw_text_length  year  month  \\\n",
       "1552  2023-03-28 15:35:04+00:00               15  2023      3   \n",
       "23    2023-04-03 10:56:07+00:00               20  2023      4   \n",
       "\n",
       "                                           cleaned_text  cleaned_text_length  \n",
       "1552  us sb real world ministry of truth being estab...                   14  \n",
       "23    exclusive rep jeff van drew democrats afraid d...                   17  "
      ]
     },
     "execution_count": 8,
     "metadata": {},
     "output_type": "execute_result"
    }
   ],
   "source": [
    "df_memory.sample(n=2,random_state=42)"
   ]
  },
  {
   "cell_type": "code",
   "execution_count": 9,
   "metadata": {},
   "outputs": [],
   "source": [
    "featured_data = df_memory[['cleaned_text']]"
   ]
  },
  {
   "cell_type": "code",
   "execution_count": 10,
   "metadata": {},
   "outputs": [
    {
     "data": {
      "text/html": [
       "<div>\n",
       "<style scoped>\n",
       "    .dataframe tbody tr th:only-of-type {\n",
       "        vertical-align: middle;\n",
       "    }\n",
       "\n",
       "    .dataframe tbody tr th {\n",
       "        vertical-align: top;\n",
       "    }\n",
       "\n",
       "    .dataframe thead th {\n",
       "        text-align: right;\n",
       "    }\n",
       "</style>\n",
       "<table border=\"1\" class=\"dataframe\">\n",
       "  <thead>\n",
       "    <tr style=\"text-align: right;\">\n",
       "      <th></th>\n",
       "      <th>cleaned_text</th>\n",
       "    </tr>\n",
       "  </thead>\n",
       "  <tbody>\n",
       "    <tr>\n",
       "      <th>0</th>\n",
       "      <td>ah yes just love waking up to the sweet aroma...</td>\n",
       "    </tr>\n",
       "    <tr>\n",
       "      <th>1</th>\n",
       "      <td>when flies to georgia to take part in protest ...</td>\n",
       "    </tr>\n",
       "    <tr>\n",
       "      <th>2</th>\n",
       "      <td>exclusive rep jeff van drew democrats afraid o...</td>\n",
       "    </tr>\n",
       "    <tr>\n",
       "      <th>3</th>\n",
       "      <td>it april at pm stop your period pain instantly...</td>\n",
       "    </tr>\n",
       "    <tr>\n",
       "      <th>4</th>\n",
       "      <td>pmatcbidiamondjubilee corruption and dynastic...</td>\n",
       "    </tr>\n",
       "    <tr>\n",
       "      <th>...</th>\n",
       "      <td>...</td>\n",
       "    </tr>\n",
       "    <tr>\n",
       "      <th>4563</th>\n",
       "      <td>if the word cannot provoke you to preach the g...</td>\n",
       "    </tr>\n",
       "    <tr>\n",
       "      <th>4564</th>\n",
       "      <td>cept my own and that of the manager my name pr...</td>\n",
       "    </tr>\n",
       "    <tr>\n",
       "      <th>4565</th>\n",
       "      <td>graham potter chelsea exit set for huge impact...</td>\n",
       "    </tr>\n",
       "    <tr>\n",
       "      <th>4566</th>\n",
       "      <td>how to watch manchester united vs brentford us...</td>\n",
       "    </tr>\n",
       "    <tr>\n",
       "      <th>4567</th>\n",
       "      <td>erik ten hag has contradicted himself over wou...</td>\n",
       "    </tr>\n",
       "  </tbody>\n",
       "</table>\n",
       "<p>4568 rows × 1 columns</p>\n",
       "</div>"
      ],
      "text/plain": [
       "                                           cleaned_text\n",
       "0      ah yes just love waking up to the sweet aroma...\n",
       "1     when flies to georgia to take part in protest ...\n",
       "2     exclusive rep jeff van drew democrats afraid o...\n",
       "3     it april at pm stop your period pain instantly...\n",
       "4      pmatcbidiamondjubilee corruption and dynastic...\n",
       "...                                                 ...\n",
       "4563  if the word cannot provoke you to preach the g...\n",
       "4564  cept my own and that of the manager my name pr...\n",
       "4565  graham potter chelsea exit set for huge impact...\n",
       "4566  how to watch manchester united vs brentford us...\n",
       "4567  erik ten hag has contradicted himself over wou...\n",
       "\n",
       "[4568 rows x 1 columns]"
      ]
     },
     "execution_count": 10,
     "metadata": {},
     "output_type": "execute_result"
    }
   ],
   "source": [
    "featured_data"
   ]
  },
  {
   "cell_type": "code",
   "execution_count": 11,
   "metadata": {},
   "outputs": [],
   "source": [
    "from spacy.lang.en.stop_words import STOP_WORDS\n",
    "\n",
    "all_stopwords = STOP_WORDS\n",
    "my_stop_words = set(all_stopwords) # My own stop words"
   ]
  },
  {
   "cell_type": "code",
   "execution_count": 12,
   "metadata": {},
   "outputs": [],
   "source": [
    "nlp = spacy.load(\"en_core_web_sm\")\n",
    "\n",
    "def spacy_tokeniser(sent):\n",
    "    sent = sent.strip().lower()\n",
    "    doc = nlp(sent)\n",
    "    mytokens = [token.lemma_ for token in doc if token.text not in my_stop_words]\n",
    "    return mytokens\n",
    "\n",
    "featured_data['tokens'] = featured_data['cleaned_text'].apply(spacy_tokeniser)"
   ]
  },
  {
   "cell_type": "code",
   "execution_count": 13,
   "metadata": {},
   "outputs": [],
   "source": [
    "# Compute bigrams\n",
    "from gensim.models import Phrases\n",
    "from gensim.models.phrases import Phraser,ENGLISH_CONNECTOR_WORDS"
   ]
  },
  {
   "cell_type": "code",
   "execution_count": 14,
   "metadata": {},
   "outputs": [],
   "source": [
    "docs = featured_data['tokens'].tolist()"
   ]
  },
  {
   "cell_type": "code",
   "execution_count": 15,
   "metadata": {},
   "outputs": [],
   "source": [
    "# docs"
   ]
  },
  {
   "cell_type": "code",
   "execution_count": 16,
   "metadata": {},
   "outputs": [
    {
     "data": {
      "text/plain": [
       "['ah', 'yes', 'love', 'wake', 'sweet', 'aroma', 'political', 'chaos']"
      ]
     },
     "execution_count": 16,
     "metadata": {},
     "output_type": "execute_result"
    }
   ],
   "source": [
    "docs[0][:8] # from document 1"
   ]
  },
  {
   "cell_type": "code",
   "execution_count": 17,
   "metadata": {},
   "outputs": [],
   "source": [
    "# Add bigrams to docs (only ones that appear 20 times or more).\n",
    "# https://stackoverflow.com/questions/35716121/how-to-extract-phrases-from-corpus-using-gensim\n",
    "# https://radimrehurek.com/gensim/models/phrases.html#gensim.models.phrases.original_scorer\n",
    "# This is usisng the default scorer and not the robust scorer; npmi\n",
    "bigram_phrases = Phrases(docs, min_count=20,connector_words=ENGLISH_CONNECTOR_WORDS)"
   ]
  },
  {
   "cell_type": "code",
   "execution_count": 18,
   "metadata": {},
   "outputs": [],
   "source": [
    "bigram = Phraser(bigram_phrases)"
   ]
  },
  {
   "cell_type": "code",
   "execution_count": 19,
   "metadata": {},
   "outputs": [],
   "source": [
    "def make_bigram(texts):\n",
    "    return([bigram[doc] for doc in texts])"
   ]
  },
  {
   "cell_type": "code",
   "execution_count": 20,
   "metadata": {},
   "outputs": [],
   "source": [
    "bigrams_docs = make_bigram(docs)"
   ]
  },
  {
   "cell_type": "code",
   "execution_count": 21,
   "metadata": {},
   "outputs": [
    {
     "name": "stdout",
     "output_type": "stream",
     "text": [
      "['exclusive_rep', 'jeff_van', 'draw_democrats', 'afraid_donald', 'trump_corruption', 'win']\n"
     ]
    }
   ],
   "source": [
    "print(bigrams_docs[200][:])"
   ]
  },
  {
   "cell_type": "code",
   "execution_count": 22,
   "metadata": {},
   "outputs": [],
   "source": [
    "# Remove rare and common tokens.\n",
    "from gensim.corpora import Dictionary\n",
    "\n",
    "# Create a dictionary representation of the documents.\n",
    "id2word = Dictionary(bigrams_docs)\n",
    "# or \n",
    "# dictionary = Dictionary(docs)\n",
    "\n",
    "\n",
    "# Filter out words that occur less than 20 documents, or more than 50% of the documents.\n",
    "# https://radimrehurek.com/gensim/corpora/dictionary.html#gensim.corpora.dictionary.Dictionary.filter_extremes\n",
    "id2word.filter_extremes(no_below=20, no_above=0.5)"
   ]
  },
  {
   "cell_type": "code",
   "execution_count": 23,
   "metadata": {},
   "outputs": [],
   "source": [
    "# id2word.most_common(20) # most common words\n",
    "# [('ai', 1005),\n",
    "#  ('healthcare', 719),\n",
    "#  ('usa', 594),\n",
    "#  ('amp', 528),\n",
    "#  ('corruption', 525),\n",
    "#  ('truth', 516),\n",
    "#  ('disaster', 455),\n",
    "#  ('virus', 413),\n",
    "#  ('manager', 387),\n",
    "#  ('politic', 343),\n",
    "#  ('football', 317),\n",
    "#  ('new', 261),\n",
    "#  ('world', 211),\n",
    "#  ('like', 200),\n",
    "#  ('people', 191),\n",
    "#  ('trump', 186),\n",
    "#  ('time', 182),\n",
    "#  ('datum_science', 180),\n",
    "#  ('machine_learn', 170),\n",
    "#  ('win', 169)]"
   ]
  },
  {
   "cell_type": "code",
   "execution_count": 24,
   "metadata": {},
   "outputs": [],
   "source": [
    "# Bag-of-words representation of the documents.\n",
    "# Term document frequency \n",
    "bow_corpus = [id2word.doc2bow(doc) for doc in bigrams_docs]"
   ]
  },
  {
   "cell_type": "code",
   "execution_count": 25,
   "metadata": {},
   "outputs": [],
   "source": [
    "# Create corpus\n",
    "texts = bigrams_docs"
   ]
  },
  {
   "cell_type": "code",
   "execution_count": 26,
   "metadata": {},
   "outputs": [
    {
     "name": "stdout",
     "output_type": "stream",
     "text": [
      "Number of unique tokens: 629\n",
      "Number of documents: 4568\n"
     ]
    }
   ],
   "source": [
    "print(f'Number of unique tokens: { len(id2word)}')\n",
    "print(f'Number of documents: {len(bow_corpus)}')"
   ]
  },
  {
   "cell_type": "code",
   "execution_count": 27,
   "metadata": {},
   "outputs": [
    {
     "data": {
      "text/plain": [
       "'exclusive rep jeff van drew democrats afraid donald trump will take out corruption if he wins in '"
      ]
     },
     "execution_count": 27,
     "metadata": {},
     "output_type": "execute_result"
    }
   ],
   "source": [
    "featured_data.loc[200,\"cleaned_text\"]"
   ]
  },
  {
   "cell_type": "code",
   "execution_count": 28,
   "metadata": {},
   "outputs": [
    {
     "name": "stdout",
     "output_type": "stream",
     "text": [
      " Cleaned Text: \n",
      "exclusive rep jeff van drew democrats afraid donald trump will take out corruption if he wins in \n",
      "Bow representation: [(10, 1), (11, 1), (12, 1), (40, 1), (45, 1), (46, 1)]\n",
      "Word 10, draw_democrats, appears 1\n",
      "Word 11, exclusive_rep, appears 1\n",
      "Word 12, jeff_van, appears 1\n",
      "Word 40, afraid_donald, appears 1\n",
      "Word 45, trump_corruption, appears 1\n",
      "Word 46, win, appears 1\n"
     ]
    }
   ],
   "source": [
    "# Verifying BOW is set up correctly\n",
    "print(f\" Cleaned Text: \\n{featured_data.loc[200,'cleaned_text']}\")\n",
    "print(f\"Bow representation: {bow_corpus[200]}\")\n",
    "\n",
    "document_200 = bow_corpus[200]\n",
    "for i in range(len(document_200)):\n",
    "    print(f\"Word {document_200[i][0]}, {id2word[document_200[i][0]]}, appears {document_200[i][1]}\")"
   ]
  },
  {
   "cell_type": "markdown",
   "metadata": {},
   "source": [
    "### **Determining best number of topics**"
   ]
  },
  {
   "cell_type": "code",
   "execution_count": 29,
   "metadata": {},
   "outputs": [],
   "source": [
    "import pyLDAvis.gensim_models as gensimvis\n",
    "import pyLDAvis\n",
    "from gensim import models\n",
    "from gensim.models.coherencemodel import CoherenceModel"
   ]
  },
  {
   "cell_type": "code",
   "execution_count": 30,
   "metadata": {},
   "outputs": [],
   "source": [
    "def compute_coherence_scores(corpus,texts, dictionary,k,a=None,b=None):\n",
    "    lda_model = gensim.models.LdaMulticore(corpus=corpus,\n",
    "                                            num_topics=k,\n",
    "                                            id2word=dictionary,\n",
    "                                            chunksize=2000,\n",
    "                                            passes=50,\n",
    "                                            iterations=400,\n",
    "                                            random_state=42,\n",
    "                                            workers=2,\n",
    "                                            eval_every = None \n",
    "                                            # Don't evaluate model perplexity, takes too much time.\n",
    "                                            )\n",
    "\n",
    "    coherence_model_lda = CoherenceModel(model=lda_model,\n",
    "                                        texts=texts,\n",
    "                                        dictionary=dictionary,\n",
    "                                        coherence=\"c_v\",\n",
    "                                        processes=-2)                            \n",
    "                                                                    \n",
    "\n",
    "    return coherence_model_lda.get_coherence()"
   ]
  },
  {
   "cell_type": "code",
   "execution_count": 31,
   "metadata": {},
   "outputs": [],
   "source": [
    "model_results = {\n",
    "    \"topics\": [],\n",
    "    \"coherence_score\": [],\n",
    "}\n",
    "\n",
    "start = 2\n",
    "stop = 10"
   ]
  },
  {
   "cell_type": "code",
   "execution_count": 32,
   "metadata": {},
   "outputs": [],
   "source": [
    "# iterate through number of topics\n",
    "for k in range(start,stop+1):\n",
    "            score = compute_coherence_scores(corpus=bow_corpus,\n",
    "                                            texts=texts,\n",
    "                                        dictionary=id2word,\n",
    "                                        k=k,\n",
    "                                        )\n",
    "\n",
    "            model_results[\"topics\"].append(k) \n",
    "            model_results[\"coherence_score\"].append(score) "
   ]
  },
  {
   "cell_type": "code",
   "execution_count": 33,
   "metadata": {},
   "outputs": [],
   "source": [
    "model_results_frame = pd.DataFrame(model_results)\n",
    "model_results_frame.to_csv(\"model_versions/bigrams_results_cv.csv\", index=False)"
   ]
  },
  {
   "cell_type": "code",
   "execution_count": 34,
   "metadata": {},
   "outputs": [
    {
     "data": {
      "image/png": "[encoded data removed]",
      "text/plain": [
       "<Figure size 720x360 with 1 Axes>"
      ]
     },
     "metadata": {
      "needs_background": "light"
     },
     "output_type": "display_data"
    }
   ],
   "source": [
    "fig,ax = plt.subplots(figsize=(10,5))\n",
    "sns.lineplot(data=model_results_frame,x='topics',y=\"coherence_score\")\n",
    "plt.show()"
   ]
  },
  {
   "cell_type": "code",
   "execution_count": 35,
   "metadata": {},
   "outputs": [
    {
     "name": "stdout",
     "output_type": "stream",
     "text": [
      "[(2, 0.3188949572340618), (3, 0.28079275214389093), (4, 0.27776022007973844), (5, 0.3429731665114829), (6, 0.3842934262059416), (7, 0.4117607438647847), (8, 0.3492402460705338), (9, 0.3858805562994944), (10, 0.3805818079015115)]\n"
     ]
    }
   ],
   "source": [
    "zipped_values = zip(*model_results.values())\n",
    "print(list(zipped_values))"
   ]
  },
  {
   "cell_type": "code",
   "execution_count": 36,
   "metadata": {},
   "outputs": [
    {
     "name": "stdout",
     "output_type": "stream",
     "text": [
      "Topic 2 has a coherence_score of 0.3188949572340618\n",
      "Topic 3 has a coherence_score of 0.28079275214389093\n",
      "Topic 4 has a coherence_score of 0.27776022007973844\n",
      "Topic 5 has a coherence_score of 0.3429731665114829\n",
      "Topic 6 has a coherence_score of 0.3842934262059416\n",
      "Topic 7 has a coherence_score of 0.4117607438647847\n",
      "Topic 8 has a coherence_score of 0.3492402460705338\n",
      "Topic 9 has a coherence_score of 0.3858805562994944\n",
      "Topic 10 has a coherence_score of 0.3805818079015115\n"
     ]
    }
   ],
   "source": [
    "coherence_scores = []\n",
    "for topic, coherence_score in zip(*model_results.values()):\n",
    "    print(f\"Topic {topic} has a coherence_score of {coherence_score}\")\n",
    "    coherence_scores.append(coherence_score)"
   ]
  },
  {
   "cell_type": "code",
   "execution_count": 37,
   "metadata": {},
   "outputs": [
    {
     "data": {
      "text/plain": [
       "0.4117607438647847"
      ]
     },
     "execution_count": 37,
     "metadata": {},
     "output_type": "execute_result"
    }
   ],
   "source": [
    "coherence_scores[np.argmax(coherence_scores,axis=0)]"
   ]
  },
  {
   "cell_type": "markdown",
   "metadata": {},
   "source": [
    "We would use 7 topics"
   ]
  },
  {
   "cell_type": "code",
   "execution_count": 38,
   "metadata": {},
   "outputs": [],
   "source": [
    "optimal_model = gensim.models.LdaMulticore(corpus=bow_corpus,\n",
    "                                            num_topics=7,\n",
    "                                            id2word=id2word,\n",
    "                                            chunksize=2000,\n",
    "                                            passes=50,\n",
    "                                            iterations=400,\n",
    "                                            random_state=42,\n",
    "                                            workers=2,)"
   ]
  },
  {
   "cell_type": "code",
   "execution_count": 39,
   "metadata": {},
   "outputs": [
    {
     "data": {
      "text/plain": [
       "[(0,\n",
       "  '0.114*\"ai\" + 0.085*\"healthcare\" + 0.016*\"amp\" + 0.015*\"artificialintelligence\" + 0.015*\"technology\" + 0.013*\"industry\" + 0.012*\"future\" + 0.012*\"datum\" + 0.012*\"patient\" + 0.011*\"health\" + 0.011*\"care\" + 0.011*\"chatgpt\" + 0.010*\"healthtech\" + 0.010*\"innovation\" + 0.010*\"check\" + 0.010*\"read\" + 0.009*\"machinelearne\" + 0.009*\"tech\" + 0.009*\"improve\" + 0.008*\"change\" + 0.008*\"medical\" + 0.008*\"transform\" + 0.007*\"datascience\" + 0.007*\"tool\" + 0.007*\"digitalhealth\" + 0.007*\"gt_gt\" + 0.007*\"new\" + 0.007*\"update\" + 0.006*\"ai_ml\" + 0.006*\"artificial_intelligence\" + 0.006*\"way\" + 0.006*\"learn\" + 0.006*\"increase\" + 0.006*\"truth_social\" + 0.006*\"power\" + 0.006*\"provide\" + 0.006*\"potential\" + 0.006*\"period_pain\" + 0.006*\"obidatti_nigeriadecide\" + 0.006*\"experience_period\" + 0.006*\"gt_atikugate\" + 0.006*\"well_click\" + 0.006*\"instantly_naturally\" + 0.006*\"nuvapad_drug\" + 0.006*\"thepeoplestownhall\" + 0.006*\"iot\" + 0.006*\"help\" + 0.006*\"digital\" + 0.005*\"solution\" + 0.005*\"use\"'),\n",
       " (1,\n",
       "  '0.126*\"manager\" + 0.058*\"chelsea\" + 0.030*\"job\" + 0.021*\"season\" + 0.021*\"man\" + 0.021*\"graham_potter\" + 0.019*\"sack\" + 0.019*\"come\" + 0.016*\"liverpool\" + 0.016*\"day\" + 0.014*\"coach\" + 0.013*\"amp\" + 0.013*\"city\" + 0.013*\"work\" + 0.013*\"news\" + 0.012*\"look\" + 0.011*\"game\" + 0.011*\"career\" + 0.010*\"time\" + 0.010*\"like\" + 0.009*\"football\" + 0.009*\"senior\" + 0.009*\"club\" + 0.009*\"thank\" + 0.009*\"speak\" + 0.009*\"sport\" + 0.009*\"join\" + 0.009*\"year\" + 0.008*\"team\" + 0.007*\"epl\" + 0.007*\"premier_league\" + 0.007*\"miss\" + 0.007*\"week\" + 0.007*\"bring\" + 0.007*\"good\" + 0.007*\"plan\" + 0.007*\"love\" + 0.007*\"long\" + 0.006*\"break\" + 0.006*\"go\" + 0.006*\"million\" + 0.006*\"league\" + 0.006*\"step\" + 0.006*\"interview\" + 0.006*\"end\" + 0.006*\"non\" + 0.006*\"available\" + 0.006*\"today\" + 0.006*\"experience\" + 0.005*\"crisis\"'),\n",
       " (2,\n",
       "  '0.055*\"usa\" + 0.049*\"corruption\" + 0.047*\"truth\" + 0.033*\"politic\" + 0.028*\"amp\" + 0.017*\"trump\" + 0.016*\"don\" + 0.015*\"people\" + 0.015*\"nigeriadecide\" + 0.010*\"country\" + 0.009*\"world\" + 0.009*\"know\" + 0.009*\"election\" + 0.009*\"president\" + 0.009*\"government\" + 0.008*\"news\" + 0.008*\"medium\" + 0.008*\"biden\" + 0.008*\"pay\" + 0.007*\"america\" + 0.007*\"call\" + 0.007*\"lie\" + 0.007*\"daddy\" + 0.007*\"sell\" + 0.007*\"china\" + 0.007*\"thing\" + 0.007*\"like\" + 0.006*\"say\" + 0.006*\"video\" + 0.006*\"life\" + 0.006*\"africa\" + 0.006*\"twitter\" + 0.006*\"party\" + 0.006*\"state\" + 0.005*\"nigeria\" + 0.005*\"news_justice\" + 0.005*\"want\" + 0.005*\"free\" + 0.005*\"uk\" + 0.005*\"american\" + 0.005*\"social\" + 0.005*\"go\" + 0.005*\"gt\" + 0.005*\"court\" + 0.005*\"politician\" + 0.005*\"family\" + 0.005*\"let\" + 0.005*\"congress\" + 0.005*\"money\" + 0.005*\"check\"'),\n",
       " (3,\n",
       "  '0.055*\"virus\" + 0.031*\"playoff\" + 0.021*\"bad\" + 0.018*\"football\" + 0.017*\"player\" + 0.016*\"win\" + 0.015*\"messi\" + 0.014*\"head\" + 0.014*\"feel\" + 0.014*\"manchester\" + 0.014*\"take\" + 0.013*\"game\" + 0.013*\"start\" + 0.013*\"covid\" + 0.012*\"work\" + 0.012*\"cup\" + 0.012*\"hope\" + 0.011*\"lose\" + 0.011*\"new\" + 0.011*\"sale\" + 0.010*\"important\" + 0.010*\"disaster\" + 0.010*\"united\" + 0.010*\"world\" + 0.010*\"know\" + 0.010*\"return\" + 0.010*\"real\" + 0.010*\"follow\" + 0.010*\"club\" + 0.010*\"vs\" + 0.010*\"day\" + 0.010*\"blue\" + 0.009*\"help\" + 0.008*\"finally\" + 0.008*\"april\" + 0.008*\"good\" + 0.008*\"big\" + 0.008*\"include\" + 0.008*\"end\" + 0.008*\"safe\" + 0.008*\"official\" + 0.008*\"com\" + 0.008*\"change\" + 0.007*\"live\" + 0.007*\"contract\" + 0.007*\"mean\" + 0.007*\"war\" + 0.007*\"psg\" + 0.007*\"news\" + 0.006*\"money\"'),\n",
       " (4,\n",
       "  '0.066*\"disaster\" + 0.039*\"god\" + 0.031*\"fire\" + 0.030*\"eat\" + 0.030*\"college_football\" + 0.029*\"word\" + 0.028*\"pitch_pm\" + 0.028*\"april_kyambogo\" + 0.026*\"catchthefire\" + 0.025*\"kyuedition\" + 0.022*\"new\" + 0.019*\"fan\" + 0.016*\"time\" + 0.016*\"account\" + 0.015*\"announce\" + 0.015*\"manager\" + 0.014*\"man\" + 0.013*\"ask\" + 0.013*\"month\" + 0.012*\"child\" + 0.012*\"want\" + 0.011*\"hit\" + 0.011*\"need\" + 0.010*\"make\" + 0.009*\"leader\" + 0.009*\"hold\" + 0.009*\"read\" + 0.008*\"messi\" + 0.008*\"wait\" + 0.008*\"start\" + 0.008*\"place\" + 0.008*\"form\" + 0.008*\"rest\" + 0.008*\"feel\" + 0.007*\"season\" + 0.007*\"cause\" + 0.007*\"demand\" + 0.007*\"deep\" + 0.007*\"doesn\" + 0.006*\"sign\" + 0.006*\"management\" + 0.006*\"see\" + 0.006*\"like\" + 0.006*\"win\" + 0.006*\"patriot\" + 0.006*\"right\" + 0.006*\"ll\" + 0.006*\"case\" + 0.006*\"stand\" + 0.006*\"jdc_jafria\"'),\n",
       " (5,\n",
       "  '0.103*\"manager\" + 0.043*\"new\" + 0.030*\"post\" + 0.028*\"datum_science\" + 0.026*\"machine_learn\" + 0.026*\"quality\" + 0.025*\"project\" + 0.024*\"site\" + 0.020*\"web\" + 0.018*\"python\" + 0.018*\"publish\" + 0.017*\"high\" + 0.017*\"cross\" + 0.015*\"exclusive_rep\" + 0.015*\"jeff_van\" + 0.015*\"draw_democrats\" + 0.014*\"data_science\" + 0.014*\"machine_learning\" + 0.013*\"medicine\" + 0.013*\"win\" + 0.012*\"share\" + 0.011*\"business\" + 0.011*\"like\" + 0.010*\"learn\" + 0.010*\"trump_corruption\" + 0.010*\"hire\" + 0.009*\"afraid_donald\" + 0.009*\"fight_corruption\" + 0.009*\"turn_washington\" + 0.009*\"congo_mining\" + 0.009*\"school\" + 0.009*\"riches_take\" + 0.009*\"amp\" + 0.009*\"apply\" + 0.009*\"role\" + 0.008*\"support\" + 0.008*\"community\" + 0.008*\"football\" + 0.008*\"datum\" + 0.008*\"opportunity\" + 0.007*\"buy\" + 0.007*\"analysis\" + 0.007*\"key\" + 0.006*\"afraid_trump\" + 0.006*\"trust\" + 0.006*\"use\" + 0.006*\"people\" + 0.005*\"study\" + 0.005*\"find\" + 0.005*\"home\"'),\n",
       " (6,\n",
       "  '0.127*\"football\" + 0.029*\"play\" + 0.029*\"team\" + 0.027*\"good\" + 0.027*\"game\" + 0.020*\"messi\" + 0.020*\"player\" + 0.018*\"say\" + 0.017*\"time\" + 0.017*\"ronaldo\" + 0.015*\"goal\" + 0.015*\"get\" + 0.014*\"watch\" + 0.013*\"manager\" + 0.013*\"ve\" + 0.013*\"look\" + 0.012*\"like\" + 0.011*\"club\" + 0.010*\"psg\" + 0.010*\"crypto\" + 0.010*\"league\" + 0.010*\"amp\" + 0.010*\"think\" + 0.009*\"woman\" + 0.009*\"match\" + 0.009*\"go\" + 0.009*\"th\" + 0.009*\"home\" + 0.009*\"today\" + 0.008*\"world\" + 0.008*\"jafria_disaster\" + 0.008*\"japan\" + 0.008*\"year\" + 0.008*\"sport\" + 0.007*\"run\" + 0.007*\"feel\" + 0.007*\"well\" + 0.006*\"design\" + 0.006*\"star\" + 0.006*\"second\" + 0.006*\"score\" + 0.006*\"want\" + 0.006*\"way\" + 0.006*\"happy\" + 0.006*\"result\" + 0.006*\"know\" + 0.006*\"great\" + 0.005*\"win\" + 0.005*\"not\" + 0.005*\"detail\"')]"
      ]
     },
     "execution_count": 39,
     "metadata": {},
     "output_type": "execute_result"
    }
   ],
   "source": [
    "# model_topics = optimal_model.show_topics(formatted=False)\n",
    "optimal_model.print_topics(num_words=50)"
   ]
  },
  {
   "cell_type": "markdown",
   "metadata": {},
   "source": [
    "### **Visualising the topics**"
   ]
  },
  {
   "cell_type": "code",
   "execution_count": 40,
   "metadata": {},
   "outputs": [
    {
     "data": {
      "text/html": [
       "\n",
       "<link rel=\"stylesheet\" type=\"text/css\" href=\"https://cdn.jsdelivr.net/gh/bmabey/pyLDAvis@3.4.0/pyLDAvis/js/ldavis.v1.0.0.css\">\n",
       "\n",
       "\n",
       "<div id=\"ldavis_el1971221187947830886883941057\" style=\"background-color:white;\"></div>\n",
       "<script type=\"text/javascript\">\n",
       "\n",
       "var ldavis_el1971221187947830886883941057_data = {\"mdsDat\": {\"x\": [0.03452967615245767, -0.31550057169353185, 0.14747022974494883, -0.19711711389174516, 0.15805374922295135, 0.08886349941460914, 0.08370053105031008], \"y\": [-0.2702721251004173, -0.13657803959727127, -0.05259014516638337, 0.23224078872374826, 0.0017614878195668518, 0.12170930826818298, 0.10372872505257347], \"topics\": [1, 2, 3, 4, 5, 6, 7], \"cluster\": [1, 1, 1, 1, 1, 1, 1], \"Freq\": [27.231432491855596, 22.915445479591998, 11.252217908380205, 10.873228047119115, 10.689755905302572, 9.028061810189069, 8.009858357561448]}, \"tinfo\": {\"Term\": [\"ai\", \"manager\", \"healthcare\", \"football\", \"usa\", \"corruption\", \"truth\", \"disaster\", \"virus\", \"chelsea\", \"politic\", \"new\", \"god\", \"playoff\", \"post\", \"play\", \"datum_science\", \"job\", \"game\", \"machine_learn\", \"fire\", \"quality\", \"eat\", \"project\", \"college_football\", \"word\", \"team\", \"trump\", \"site\", \"player\", \"usa\", \"corruption\", \"truth\", \"politic\", \"trump\", \"nigeriadecide\", \"country\", \"election\", \"president\", \"biden\", \"america\", \"call\", \"daddy\", \"video\", \"party\", \"state\", \"news_justice\", \"uk\", \"social\", \"court\", \"politician\", \"congress\", \"rule\", \"political\", \"nigerian\", \"eye\", \"cover\", \"maga\", \"attack\", \"ukraine\", \"pay\", \"don\", \"medium\", \"government\", \"sell\", \"twitter\", \"people\", \"amp\", \"china\", \"lie\", \"africa\", \"thing\", \"know\", \"news\", \"world\", \"say\", \"like\", \"life\", \"healthcare\", \"artificialintelligence\", \"patient\", \"healthtech\", \"innovation\", \"machinelearne\", \"improve\", \"medical\", \"tool\", \"digitalhealth\", \"ai_ml\", \"increase\", \"truth_social\", \"experience_period\", \"gt_atikugate\", \"instantly_naturally\", \"nuvapad_drug\", \"obidatti_nigeriadecide\", \"period_pain\", \"thepeoplestownhall\", \"well_click\", \"iot\", \"solution\", \"ai\", \"dr\", \"aiville\", \"revolutionize\", \"member\", \"ml\", \"reduce\", \"industry\", \"tech\", \"technology\", \"health\", \"care\", \"chatgpt\", \"future\", \"transform\", \"datum\", \"datascience\", \"check\", \"read\", \"update\", \"change\", \"amp\", \"gt_gt\", \"artificial_intelligence\", \"new\", \"virus\", \"playoff\", \"bad\", \"head\", \"covid\", \"important\", \"return\", \"finally\", \"com\", \"war\", \"order\", \"local\", \"act\", \"europe\", \"atikugate_obidatti\", \"click_gt\", \"drug_experience\", \"naturally_nuvapad\", \"nigeriadecide_thepeoplestownhall\", \"pain_instantly\", \"period_well\", \"stop_period\", \"vaccine\", \"spread\", \"natural\", \"cancer\", \"hand\", \"manchester\", \"take\", \"safe\", \"cup\", \"mean\", \"sale\", \"hope\", \"lose\", \"official\", \"vs\", \"start\", \"united\", \"blue\", \"follow\", \"player\", \"real\", \"feel\", \"messi\", \"win\", \"work\", \"game\", \"football\", \"help\", \"day\", \"club\", \"new\", \"know\", \"disaster\", \"world\", \"post\", \"datum_science\", \"machine_learn\", \"quality\", \"project\", \"site\", \"python\", \"publish\", \"cross\", \"exclusive_rep\", \"jeff_van\", \"draw_democrats\", \"data_science\", \"medicine\", \"trump_corruption\", \"afraid_donald\", \"fight_corruption\", \"congo_mining\", \"turn_washington\", \"riches_take\", \"analysis\", \"afraid_trump\", \"london_uk\", \"book_digitalhealth\", \"ehealth_biotech\", \"genome_genetic\", \"healthcare_lifescience\", \"healthtec_medtech\", \"medical_tech\", \"telehealth_telemedicine\", \"web\", \"high\", \"school\", \"apply\", \"hire\", \"manager\", \"share\", \"machine_learning\", \"new\", \"business\", \"win\", \"learn\", \"like\", \"play\", \"ronaldo\", \"goal\", \"jafria_disaster\", \"japan\", \"not\", \"jdc_enemiesofislam\", \"boycott_daraz\", \"boycott_jdc\", \"jdc_expose\", \"ve\", \"cell_way\", \"eligible_zakat\", \"jdc_stand\", \"sadqa_muslims\", \"approach\", \"cell_conduit\", \"enemiesofsahaba_muslims\", \"daysofcode\", \"zakat\", \"bigdata_analytic\", \"sadqa_boycott\", \"cell_enemiesofsahaba\", \"crypto\", \"star\", \"result\", \"football\", \"th\", \"woman\", \"record\", \"team\", \"get\", \"league\", \"good\", \"game\", \"design\", \"match\", \"say\", \"player\", \"messi\", \"psg\", \"home\", \"watch\", \"run\", \"look\", \"time\", \"club\", \"sport\", \"think\", \"like\", \"go\", \"today\", \"manager\", \"amp\", \"world\", \"chelsea\", \"graham_potter\", \"sack\", \"liverpool\", \"coach\", \"career\", \"miss\", \"million\", \"crisis\", \"allow\", \"deal\", \"click\", \"sad\", \"great_usa\", \"sb_real\", \"truth_establish\", \"world_ministry\", \"episode\", \"apc\", \"govt\", \"city\", \"job\", \"interview\", \"senior\", \"old\", \"speak\", \"season\", \"come\", \"premier_league\", \"step\", \"man\", \"manager\", \"thank\", \"day\", \"epl\", \"sport\", \"bring\", \"look\", \"work\", \"news\", \"join\", \"game\", \"amp\", \"club\", \"time\", \"like\", \"year\", \"football\", \"team\", \"god\", \"fire\", \"eat\", \"college_football\", \"word\", \"april_kyambogo\", \"pitch_pm\", \"catchthefire\", \"kyuedition\", \"month\", \"wait\", \"patriot\", \"disaster_cell\", \"jdc_jafria\", \"way_eligible\", \"christian\", \"cov\", \"conservative\", \"administration\", \"wethepeople\", \"ask\", \"disaster\", \"announce\", \"demand\", \"cause\", \"hack\", \"hold\", \"account\", \"rest\", \"zakat_sadqa\", \"fan\", \"hit\", \"child\", \"deep\", \"man\", \"place\", \"time\", \"new\", \"leader\", \"form\", \"want\", \"make\", \"need\", \"manager\", \"read\", \"start\", \"messi\"], \"Freq\": [902.0, 853.0, 659.0, 590.0, 509.0, 450.0, 437.0, 220.0, 210.0, 177.0, 303.0, 347.0, 106.0, 121.0, 111.0, 106.0, 103.0, 110.0, 195.0, 97.0, 84.0, 96.0, 82.0, 94.0, 81.0, 80.0, 147.0, 158.0, 89.0, 148.0, 508.25835936412597, 449.9537618384799, 436.2544435207602, 302.25473699646955, 157.3996510590666, 139.65247801729387, 89.79616897813442, 79.65785071563114, 79.65735116549858, 72.89808474183035, 66.98271352483887, 66.6698616413961, 64.44833636314607, 57.373440385039395, 52.617202040697094, 51.10424986726938, 49.23865405846127, 47.72304048863773, 47.236198739201086, 46.034608411751826, 45.191496982007145, 43.323007227603576, 42.832586804372546, 41.631879302588565, 39.94233615730441, 39.44686855514796, 37.75978009585995, 37.4081743189446, 36.73727849092989, 36.5619277814715, 72.0407447462413, 145.9500309244861, 75.0598621016407, 79.06237834469816, 64.25495878424928, 53.73367936107981, 143.16980188764543, 261.15178654198496, 62.080313702059094, 64.80849478284802, 55.563298947411, 61.36655991784492, 80.96666344997894, 76.0439327980977, 82.36529185298592, 59.96994694123478, 60.1223571027958, 56.424338197860905, 658.8365392397018, 119.95332182294896, 92.74609280482544, 80.95745829234234, 78.23657376358479, 73.70135067253781, 68.45135959574469, 63.7519945572521, 54.84849886257088, 54.65772470839195, 50.123164795169465, 46.875278579137984, 46.49138921682046, 43.77532088111618, 43.77532088111618, 43.77532088111618, 43.77532088111618, 43.77532088111618, 43.77532088111618, 43.77532088111618, 43.77532088111618, 43.77367924420637, 42.150691039779446, 884.3783453277745, 41.24189824133762, 41.05425878015425, 41.05408120794988, 40.71567932133195, 40.14568341706472, 39.43024500564901, 104.63684945443524, 71.77637375515688, 117.59496000922366, 88.33537319650115, 86.66057014762292, 83.46804659620766, 94.9208014721594, 59.62643778953692, 93.57296321036851, 56.21602951943439, 77.18444758091172, 76.29708666036086, 51.546953225516134, 65.85982011022088, 121.00571617588986, 52.738317759952245, 48.999031271662204, 52.01051090091364, 209.7538069669839, 120.27832565874107, 79.79431079026712, 54.50021123522092, 48.35279258982983, 39.4608206184234, 37.923319122612625, 31.633013231802288, 29.09330979999873, 25.618931458892582, 23.29613733575954, 22.28173718726645, 21.159451812300997, 17.496146203599054, 17.393745279231123, 17.393745279231123, 17.393745279231123, 17.393745279231123, 17.393745279231123, 17.393745279231123, 17.393745279231123, 17.393745279231123, 17.393093996112945, 17.392467625463766, 14.853643247923541, 11.29245118046498, 10.284035362918429, 52.89063084874099, 51.848752246939426, 29.52142168247638, 44.795790265818674, 26.439372021051604, 43.13300040447603, 44.37906516113671, 43.61361887429814, 29.212546215025352, 36.753119951909305, 48.97175711786467, 38.6110954489533, 36.39200303696247, 37.4201548683443, 66.14113180395938, 37.87975077325343, 53.46910549680036, 58.37954175994383, 59.37765983048247, 47.33058772069104, 51.31644752178782, 68.51297679909399, 35.2563894910813, 36.707821965416585, 36.920812898605604, 43.35532995461641, 38.04649704612767, 39.057612307636724, 38.203580839953545, 110.5892444367425, 102.72648534110824, 97.0277033204954, 95.77858359867247, 93.25796966461267, 88.12952048910336, 66.8258141722196, 65.99323276563385, 63.144333540161306, 57.13951347352268, 57.13951347352268, 56.56965865703392, 52.57858399630491, 49.72856363897332, 36.054603260946266, 34.34525547193126, 34.34495283511041, 33.205449545419825, 33.205449545419825, 32.63560848515019, 25.225423840289903, 23.517912506528667, 16.109853197523865, 15.540053405911618, 15.540053405911618, 15.540053405911618, 15.540053405911618, 15.540053405911618, 15.540053405911618, 15.540053405911618, 74.70969594232699, 63.15989182399662, 33.00048875850184, 31.458753621468595, 35.96611638139662, 378.5838336741863, 45.86913599531234, 52.231710613793595, 159.43683572928776, 41.634497157733556, 48.39642169564988, 38.10913585657445, 41.42311221648216, 105.43967280444139, 61.94729609982687, 55.32903765621069, 29.37207339902524, 29.17581842021935, 19.55555630633642, 18.113613371145107, 17.363142460175553, 17.363142460175553, 17.363142460175553, 45.90735835686579, 12.109759867250427, 12.109759867250427, 12.109759867250427, 12.109759867250427, 11.057982994069869, 8.732339011403626, 8.732339011403626, 8.726507588485674, 8.357078198231134, 8.351355813370352, 7.981808932496071, 7.981805551471042, 36.47602961208948, 22.72883763301081, 21.28865790237187, 461.74896838758133, 33.19322336064098, 34.40381289620526, 17.995101681845174, 105.37155191216662, 54.15626150456545, 36.15171154827806, 99.56199746409884, 97.8153869825619, 22.889945166132645, 34.269214289819594, 65.24046857401284, 71.23451203378724, 72.75064480117953, 37.71435031493774, 31.446508067328168, 50.023556848620984, 26.006339056189542, 45.88765036197451, 62.999031555450834, 39.64203497290247, 28.015641658342922, 34.71557383306073, 43.84425688445849, 33.66863605195225, 31.285818090797356, 46.79424179414882, 34.97861419925512, 30.280203197587536, 176.3243681211629, 63.33726373693031, 57.64123327171059, 49.6901368097681, 43.21741437465121, 32.731431731686236, 22.245576156410444, 19.286118277207912, 16.82771114007738, 15.698711866246448, 13.59095872536348, 12.888738415414565, 12.888257271467888, 12.741822467637595, 12.390617368827963, 12.390617368827963, 12.390617368827963, 12.184830532335171, 7.820313827511038, 7.819869090598902, 40.13915534469824, 93.158028726606, 18.95682307455759, 28.43479344424136, 8.920285272998228, 26.491600099482604, 65.4504879270823, 57.11846823205701, 22.278228269349544, 19.037586726710586, 64.54187685218528, 386.3077506832219, 26.63610604434566, 47.73875973473531, 22.76874095958055, 26.367090896806914, 22.137932690951615, 35.90261579105566, 40.00917509275352, 39.968901773917224, 26.33643760145044, 33.30123180451278, 40.618845865446154, 27.703728768848258, 30.56916512441758, 30.384994072354083, 26.190009936254373, 28.891209161966398, 24.951242739419644, 105.45308865295596, 83.53210737675415, 81.62666911979817, 80.29802745567888, 79.9944236340835, 75.90835295524644, 75.90835295524644, 71.99519255704632, 68.082052426124, 34.94151403321362, 22.350287821594907, 16.32899612105992, 15.377862907070565, 15.377862907070565, 15.377862907070565, 14.900111234186987, 12.516350020454144, 12.040440136441559, 11.086881182639306, 9.658259137025473, 35.74234004814378, 180.41190950916004, 41.273368831862044, 18.284666826068257, 19.3734363903709, 14.786090062637058, 24.134122411690264, 44.48173464421575, 21.10505613930311, 13.76595310122861, 51.54414627221696, 29.376426089135485, 33.951680452245874, 18.14271227887655, 38.073885154008615, 21.99407774703367, 44.797615369344605, 58.93276987021073, 25.282539841292913, 21.408325550814627, 32.54894162045284, 26.589011636897673, 29.364321457463397, 40.95901575279812, 23.16963306162405, 22.30744026289462, 23.03347748929576], \"Total\": [902.0, 853.0, 659.0, 590.0, 509.0, 450.0, 437.0, 220.0, 210.0, 177.0, 303.0, 347.0, 106.0, 121.0, 111.0, 106.0, 103.0, 110.0, 195.0, 97.0, 84.0, 96.0, 82.0, 94.0, 81.0, 80.0, 147.0, 158.0, 89.0, 148.0, 509.1224589353713, 450.81778470460796, 437.11851137864426, 303.1186838896035, 158.26361726653337, 140.51683108508658, 90.6609594884125, 80.52189335583094, 80.5216402307119, 73.76205275018499, 67.8467465354344, 67.53564673206175, 65.31217024848068, 58.23914007929388, 53.48132025588418, 51.96886768815507, 50.1023092448564, 48.588184680121245, 48.10117543572425, 46.89896881422332, 46.055332536183876, 44.186783867274585, 43.697021512927556, 42.49605806986264, 40.806304054579314, 40.313579508691724, 38.62562655677921, 38.27189852962321, 37.6024517101586, 37.42599451857294, 74.32467199296228, 165.75949652796615, 81.45646083464246, 89.99430052745996, 72.54188689768193, 58.50606175142944, 200.58002033518457, 498.427863632858, 72.59351450429038, 77.85107181592423, 65.5566022535654, 78.87878388420262, 146.89342693042224, 146.23013347755807, 192.53687945329557, 128.70539770684084, 224.97015430163435, 108.44162160064809, 659.6836065303486, 120.80038074522392, 93.59332582679627, 81.80442828992916, 79.08360101867652, 74.54866485375469, 69.2987254848137, 64.68602549530738, 55.69576403371124, 55.50468335345553, 50.97015718096218, 47.72361036481472, 47.34008605449608, 44.62221128117052, 44.62221128117052, 44.62221128117052, 44.62221128117052, 44.62221128117052, 44.62221128117052, 44.62221128117052, 44.62221128117052, 44.62108279542262, 42.99836217285647, 902.3718858412702, 42.090344393889936, 41.901251214937766, 41.901154448323055, 41.564842108382614, 40.99324878817488, 40.27782374346669, 110.7895967120864, 75.55114900275912, 127.32889263654013, 94.92303680232772, 95.81310612477182, 94.33900498153588, 111.35492864508775, 64.59464031937179, 124.34323391474379, 68.6199413136187, 120.81658219189127, 143.5210969106984, 62.94609064979213, 114.82784190869901, 498.427863632858, 75.06821674294363, 66.09265395710224, 347.0078480200068, 210.70977054196695, 121.23383580392806, 80.76002041012082, 55.45706191072679, 49.30896160197106, 40.41679005748003, 38.90445751247738, 32.588773764713764, 30.05006412251647, 26.57603360866654, 24.252947230208704, 23.238268964107952, 22.11566506105101, 18.454733389324858, 18.348838857191254, 18.348838857191254, 18.348838857191254, 18.348838857191254, 18.348838857191254, 18.348838857191254, 18.348838857191254, 18.348838857191254, 18.348580492006402, 18.34841374372123, 15.81025656408148, 12.258065175094941, 11.241645954127504, 58.62447169114525, 57.75095001370762, 34.057369037866366, 53.836973381546315, 30.848230167793815, 55.833823411531704, 58.258920659462746, 57.37911289317172, 35.33488222775557, 50.19662374337846, 80.8915690332137, 57.45316115091384, 53.26874175393835, 58.36621576652519, 148.29368925599897, 62.30443619624412, 110.31896397190499, 154.91244900998748, 178.10621638511523, 138.2024682574226, 195.34952577950207, 590.0060385842422, 87.33756964981562, 113.34129157696566, 119.01946274558586, 347.0078480200068, 146.89342693042224, 220.29703239437515, 192.53687945329557, 111.53513573281772, 103.66571522115557, 97.96708630783185, 96.7175513506895, 94.19688844058905, 89.06816466040833, 67.7649571037895, 66.93190039249737, 64.08271353636567, 58.07775225222004, 58.07775225222004, 57.507897714427486, 53.51833194466299, 50.66915090853499, 36.99298360416715, 35.283493205008696, 35.2833450263575, 34.14372296608387, 34.14372296608387, 33.57386619574807, 26.164962990510706, 24.45615274511233, 17.048082980829196, 16.478264615461953, 16.478264615461953, 16.478264615461953, 16.478264615461953, 16.478264615461953, 16.478264615461953, 16.478264615461953, 83.35972654915331, 80.0102992217822, 39.95583210980879, 38.071396454054025, 44.85630887209264, 853.2580338377302, 64.35184729564574, 76.39579619388145, 347.0078480200068, 92.53545294367821, 178.10621638511523, 114.18833537111676, 224.97015430163435, 106.43304595093211, 62.938561358045185, 56.320766237375594, 30.363012593616855, 30.167693980867362, 20.54800288973608, 19.10486993352499, 18.35435031639124, 18.35435031639124, 18.35435031639124, 48.953953402383284, 13.100696617790064, 13.100696617790064, 13.100696617790064, 13.100696617790064, 12.055240049771585, 9.72327948097769, 9.72327948097769, 9.723011630532508, 9.348015001670591, 9.349709821958138, 8.97274574583166, 8.97274236480663, 43.57791120092036, 28.831176800956513, 27.160387026587745, 590.0060385842422, 42.4545901131479, 46.383716611629815, 24.47211045395226, 147.48570938279704, 83.03447806295652, 56.22462640948316, 194.7301546599311, 195.34952577950207, 32.81696960752506, 54.959990188587945, 128.70539770684084, 148.29368925599897, 154.91244900998748, 64.1598046162686, 50.435698978910224, 104.71952209261785, 40.41997836477027, 105.06906080967964, 182.32065516706558, 119.01946274558586, 55.28023276558124, 99.07518261189351, 224.97015430163435, 113.52214198996568, 88.60707205839427, 853.2580338377302, 498.427863632858, 192.53687945329557, 177.32208207752333, 64.334952996003, 58.639936035283164, 50.68784143446967, 44.21550659882828, 33.73013098471943, 23.245492883517905, 20.285981889180313, 17.826817206935495, 16.698451725459257, 14.590632894189687, 13.88820354356192, 13.888117471958559, 13.739426734518698, 13.388118877049855, 13.388118877049855, 13.388118877049855, 13.185865632977578, 8.820921419808332, 8.82133790011417, 46.38441435661602, 110.24248760709898, 22.812371865308513, 37.10447214139635, 11.807017233183457, 37.304766375825366, 96.9895628283819, 85.55987886967782, 34.151781643682895, 29.224898923306085, 103.48534690289449, 853.2580338377302, 42.479558096867656, 113.34129157696566, 39.28338280183074, 55.28023276558124, 40.793829902462065, 105.06906080967964, 138.2024682574226, 146.23013347755807, 74.34228827300463, 195.34952577950207, 498.427863632858, 119.01946274558586, 182.32065516706558, 224.97015430163435, 104.64653487078198, 590.0060385842422, 147.48570938279704, 106.41738823440662, 84.49615671806507, 82.59029959181345, 81.2615316284968, 80.95868420872215, 76.87184723607808, 76.87184723607808, 72.95868683787796, 69.04554670695563, 35.90643668530919, 23.314983873557644, 17.294337961905857, 16.341498404526245, 16.341498404526245, 16.341498404526245, 15.864717329212043, 13.481392507668227, 13.005449072441468, 12.052162405063967, 10.62285064183181, 39.908554434684774, 220.29703239437515, 52.380190891981954, 23.357354543905327, 25.258762438012656, 19.5928707737261, 32.3637964760362, 60.331785311777864, 29.08089601855447, 19.75124455505062, 79.5660381771144, 47.7567197600779, 65.4927739650317, 26.633387495148583, 103.48534690289449, 39.70941831560073, 182.32065516706558, 347.0078480200068, 54.54189526118545, 38.227841099151085, 118.51566048973818, 71.0598548341628, 96.5132063172164, 853.2580338377302, 143.5210969106984, 80.8915690332137, 154.91244900998748], \"Category\": [\"Default\", \"Default\", \"Default\", \"Default\", \"Default\", \"Default\", \"Default\", \"Default\", \"Default\", \"Default\", \"Default\", \"Default\", \"Default\", \"Default\", \"Default\", \"Default\", \"Default\", \"Default\", \"Default\", \"Default\", \"Default\", \"Default\", \"Default\", \"Default\", \"Default\", \"Default\", \"Default\", \"Default\", \"Default\", \"Default\", \"Topic1\", \"Topic1\", \"Topic1\", \"Topic1\", \"Topic1\", \"Topic1\", \"Topic1\", \"Topic1\", \"Topic1\", \"Topic1\", \"Topic1\", \"Topic1\", \"Topic1\", \"Topic1\", \"Topic1\", \"Topic1\", \"Topic1\", \"Topic1\", \"Topic1\", \"Topic1\", \"Topic1\", \"Topic1\", \"Topic1\", \"Topic1\", \"Topic1\", \"Topic1\", \"Topic1\", \"Topic1\", \"Topic1\", \"Topic1\", \"Topic1\", \"Topic1\", \"Topic1\", \"Topic1\", \"Topic1\", \"Topic1\", \"Topic1\", \"Topic1\", \"Topic1\", \"Topic1\", \"Topic1\", \"Topic1\", \"Topic1\", \"Topic1\", \"Topic1\", \"Topic1\", \"Topic1\", \"Topic1\", \"Topic2\", \"Topic2\", \"Topic2\", \"Topic2\", \"Topic2\", \"Topic2\", \"Topic2\", \"Topic2\", \"Topic2\", \"Topic2\", \"Topic2\", \"Topic2\", \"Topic2\", \"Topic2\", \"Topic2\", \"Topic2\", \"Topic2\", \"Topic2\", \"Topic2\", \"Topic2\", \"Topic2\", \"Topic2\", \"Topic2\", \"Topic2\", \"Topic2\", \"Topic2\", \"Topic2\", \"Topic2\", \"Topic2\", \"Topic2\", \"Topic2\", \"Topic2\", \"Topic2\", \"Topic2\", \"Topic2\", \"Topic2\", \"Topic2\", \"Topic2\", \"Topic2\", \"Topic2\", \"Topic2\", \"Topic2\", \"Topic2\", \"Topic2\", \"Topic2\", \"Topic2\", \"Topic2\", \"Topic2\", \"Topic3\", \"Topic3\", \"Topic3\", \"Topic3\", \"Topic3\", \"Topic3\", \"Topic3\", \"Topic3\", \"Topic3\", \"Topic3\", \"Topic3\", \"Topic3\", \"Topic3\", \"Topic3\", \"Topic3\", \"Topic3\", \"Topic3\", \"Topic3\", \"Topic3\", \"Topic3\", \"Topic3\", \"Topic3\", \"Topic3\", \"Topic3\", \"Topic3\", \"Topic3\", \"Topic3\", \"Topic3\", \"Topic3\", \"Topic3\", \"Topic3\", \"Topic3\", \"Topic3\", \"Topic3\", \"Topic3\", \"Topic3\", \"Topic3\", \"Topic3\", \"Topic3\", \"Topic3\", \"Topic3\", \"Topic3\", \"Topic3\", \"Topic3\", \"Topic3\", \"Topic3\", \"Topic3\", \"Topic3\", \"Topic3\", \"Topic3\", \"Topic3\", \"Topic3\", \"Topic3\", \"Topic3\", \"Topic3\", \"Topic3\", \"Topic4\", \"Topic4\", \"Topic4\", \"Topic4\", \"Topic4\", \"Topic4\", \"Topic4\", \"Topic4\", \"Topic4\", \"Topic4\", \"Topic4\", \"Topic4\", \"Topic4\", \"Topic4\", \"Topic4\", \"Topic4\", \"Topic4\", \"Topic4\", \"Topic4\", \"Topic4\", \"Topic4\", \"Topic4\", \"Topic4\", \"Topic4\", \"Topic4\", \"Topic4\", \"Topic4\", \"Topic4\", \"Topic4\", \"Topic4\", \"Topic4\", \"Topic4\", \"Topic4\", \"Topic4\", \"Topic4\", \"Topic4\", \"Topic4\", \"Topic4\", \"Topic4\", \"Topic4\", \"Topic4\", \"Topic4\", \"Topic4\", \"Topic5\", \"Topic5\", \"Topic5\", \"Topic5\", \"Topic5\", \"Topic5\", \"Topic5\", \"Topic5\", \"Topic5\", \"Topic5\", \"Topic5\", \"Topic5\", \"Topic5\", \"Topic5\", \"Topic5\", \"Topic5\", \"Topic5\", \"Topic5\", \"Topic5\", \"Topic5\", \"Topic5\", \"Topic5\", \"Topic5\", \"Topic5\", \"Topic5\", \"Topic5\", \"Topic5\", \"Topic5\", \"Topic5\", \"Topic5\", \"Topic5\", \"Topic5\", \"Topic5\", \"Topic5\", \"Topic5\", \"Topic5\", \"Topic5\", \"Topic5\", \"Topic5\", \"Topic5\", \"Topic5\", \"Topic5\", \"Topic5\", \"Topic5\", \"Topic5\", \"Topic5\", \"Topic5\", \"Topic5\", \"Topic5\", \"Topic5\", \"Topic5\", \"Topic5\", \"Topic5\", \"Topic5\", \"Topic5\", \"Topic6\", \"Topic6\", \"Topic6\", \"Topic6\", \"Topic6\", \"Topic6\", \"Topic6\", \"Topic6\", \"Topic6\", \"Topic6\", \"Topic6\", \"Topic6\", \"Topic6\", \"Topic6\", \"Topic6\", \"Topic6\", \"Topic6\", \"Topic6\", \"Topic6\", \"Topic6\", \"Topic6\", \"Topic6\", \"Topic6\", \"Topic6\", \"Topic6\", \"Topic6\", \"Topic6\", \"Topic6\", \"Topic6\", \"Topic6\", \"Topic6\", \"Topic6\", \"Topic6\", \"Topic6\", \"Topic6\", \"Topic6\", \"Topic6\", \"Topic6\", \"Topic6\", \"Topic6\", \"Topic6\", \"Topic6\", \"Topic6\", \"Topic6\", \"Topic6\", \"Topic6\", \"Topic6\", \"Topic6\", \"Topic6\", \"Topic7\", \"Topic7\", \"Topic7\", \"Topic7\", \"Topic7\", \"Topic7\", \"Topic7\", \"Topic7\", \"Topic7\", \"Topic7\", \"Topic7\", \"Topic7\", \"Topic7\", \"Topic7\", \"Topic7\", \"Topic7\", \"Topic7\", \"Topic7\", \"Topic7\", \"Topic7\", \"Topic7\", \"Topic7\", \"Topic7\", \"Topic7\", \"Topic7\", \"Topic7\", \"Topic7\", \"Topic7\", \"Topic7\", \"Topic7\", \"Topic7\", \"Topic7\", \"Topic7\", \"Topic7\", \"Topic7\", \"Topic7\", \"Topic7\", \"Topic7\", \"Topic7\", \"Topic7\", \"Topic7\", \"Topic7\", \"Topic7\", \"Topic7\", \"Topic7\", \"Topic7\", \"Topic7\"], \"logprob\": [30.0, 29.0, 28.0, 27.0, 26.0, 25.0, 24.0, 23.0, 22.0, 21.0, 20.0, 19.0, 18.0, 17.0, 16.0, 15.0, 14.0, 13.0, 12.0, 11.0, 10.0, 9.0, 8.0, 7.0, 6.0, 5.0, 4.0, 3.0, 2.0, 1.0, -2.9012, -3.023, -3.0539, -3.4209, -4.0734, -4.193, -4.6346, -4.7544, -4.7544, -4.8431, -4.9277, -4.9324, -4.9663, -5.0826, -5.1691, -5.1983, -5.2355, -5.2668, -5.277, -5.3028, -5.3213, -5.3635, -5.3749, -5.4033, -5.4447, -5.4572, -5.5009, -5.5103, -5.5284, -5.5332, -4.8549, -4.1489, -4.8139, -4.7619, -4.9693, -5.1481, -4.1681, -3.5671, -5.0037, -4.9607, -5.1146, -5.0153, -4.7381, -4.8009, -4.721, -5.0383, -5.0358, -5.0993, -2.4691, -4.1725, -4.4297, -4.5657, -4.5999, -4.6596, -4.7335, -4.8046, -4.955, -4.9585, -5.0451, -5.1121, -5.1203, -5.1805, -5.1805, -5.1805, -5.1805, -5.1805, -5.1805, -5.1805, -5.1805, -5.1806, -5.2184, -2.1747, -5.2402, -5.2447, -5.2447, -5.253, -5.2671, -5.2851, -4.3091, -4.6861, -4.1924, -4.4785, -4.4976, -4.5351, -4.4066, -4.8715, -4.4209, -4.9304, -4.6134, -4.625, -5.0171, -4.7721, -4.1638, -4.9943, -5.0678, -5.0082, -2.9024, -3.4586, -3.8689, -4.2502, -4.3698, -4.5731, -4.6128, -4.7942, -4.8779, -5.005, -5.1001, -5.1446, -5.1963, -5.3864, -5.3923, -5.3923, -5.3923, -5.3923, -5.3923, -5.3923, -5.3923, -5.3923, -5.3923, -5.3923, -5.5501, -5.8242, -5.9178, -4.2801, -4.3, -4.8632, -4.4462, -4.9735, -4.4841, -4.4556, -4.473, -4.8738, -4.6441, -4.3571, -4.5948, -4.654, -4.6262, -4.0566, -4.6139, -4.2693, -4.1814, -4.1644, -4.3912, -4.3104, -4.0213, -4.6857, -4.6454, -4.6396, -4.4789, -4.6096, -4.5833, -4.6054, -3.5083, -3.582, -3.6391, -3.6521, -3.6787, -3.7353, -4.012, -4.0245, -4.0687, -4.1686, -4.1686, -4.1786, -4.2518, -4.3075, -4.6291, -4.6776, -4.6776, -4.7114, -4.7114, -4.7287, -4.9862, -5.0563, -5.4347, -5.4707, -5.4707, -5.4707, -5.4707, -5.4707, -5.4707, -5.4707, -3.9005, -4.0684, -4.7176, -4.7654, -4.6315, -2.2777, -4.3883, -4.2584, -3.1425, -4.4852, -4.3347, -4.5736, -4.4903, -3.5389, -4.0708, -4.1838, -4.817, -4.8237, -5.2238, -5.3004, -5.3427, -5.3427, -5.3427, -4.3705, -5.7031, -5.7031, -5.7031, -5.7031, -5.7939, -6.0301, -6.0301, -6.0307, -6.074, -6.0747, -6.1199, -6.1199, -4.6004, -5.0734, -5.1389, -2.0621, -4.6947, -4.6589, -5.307, -3.5396, -4.2052, -4.6094, -3.5963, -3.614, -5.0664, -4.6628, -4.019, -3.9311, -3.91, -4.567, -4.7488, -4.2846, -4.9387, -4.3709, -4.054, -4.5172, -4.8643, -4.6499, -4.4164, -4.6805, -4.7539, -4.3513, -4.6423, -4.7866, -2.8558, -3.8797, -3.9739, -4.1223, -4.2619, -4.5398, -4.926, -5.0688, -5.2051, -5.2746, -5.4187, -5.4718, -5.4718, -5.4832, -5.5112, -5.5112, -5.5112, -5.5279, -5.9714, -5.9715, -4.3358, -3.4938, -5.086, -4.6805, -5.8398, -4.7513, -3.8468, -3.983, -4.9245, -5.0817, -3.8608, -2.0715, -4.7459, -4.1624, -4.9027, -4.756, -4.9308, -4.4473, -4.339, -4.34, -4.7572, -4.5225, -4.3239, -4.7066, -4.6081, -4.6142, -4.7628, -4.6646, -4.8112, -3.2502, -3.4832, -3.5063, -3.5227, -3.5265, -3.5789, -3.5789, -3.6319, -3.6878, -4.3548, -4.8016, -5.1155, -5.1755, -5.1755, -5.1755, -5.2071, -5.3814, -5.4202, -5.5027, -5.6407, -4.3321, -2.7132, -4.1883, -5.0024, -4.9446, -5.2148, -4.7248, -4.1134, -4.859, -5.2863, -3.966, -4.5283, -4.3835, -5.0102, -4.2689, -4.8177, -4.1063, -3.8321, -4.6784, -4.8447, -4.4257, -4.628, -4.5287, -4.1959, -4.7656, -4.8036, -4.7715], \"loglift\": [30.0, 29.0, 28.0, 27.0, 26.0, 25.0, 24.0, 23.0, 22.0, 21.0, 20.0, 19.0, 18.0, 17.0, 16.0, 15.0, 14.0, 13.0, 12.0, 11.0, 10.0, 9.0, 8.0, 7.0, 6.0, 5.0, 4.0, 3.0, 2.0, 1.0, 1.2991, 1.2989, 1.2988, 1.2979, 1.2953, 1.2946, 1.2912, 1.29, 1.29, 1.289, 1.288, 1.2879, 1.2875, 1.2858, 1.2845, 1.284, 1.2834, 1.2828, 1.2827, 1.2822, 1.2819, 1.2811, 1.2808, 1.2803, 1.2794, 1.2791, 1.2781, 1.278, 1.2775, 1.2774, 1.2696, 1.1735, 1.219, 1.1713, 1.1795, 1.2157, 0.9636, 0.6544, 1.1444, 1.1174, 1.1354, 1.0498, 0.7051, 0.6469, 0.4517, 0.5371, -0.0188, 0.6475, 1.4721, 1.4663, 1.4643, 1.463, 1.4626, 1.4619, 1.4611, 1.4588, 1.458, 1.458, 1.4566, 1.4554, 1.4553, 1.4542, 1.4542, 1.4542, 1.4542, 1.4542, 1.4542, 1.4542, 1.4542, 1.4542, 1.4534, 1.4532, 1.453, 1.4529, 1.4529, 1.4527, 1.4525, 1.4521, 1.4162, 1.4221, 1.3938, 1.4014, 1.373, 1.3509, 1.3137, 1.3933, 1.1891, 1.274, 1.0253, 0.8415, 1.2736, 0.9175, 0.0577, 1.1203, 1.1741, -0.4245, 2.1801, 2.1767, 2.1726, 2.1672, 2.165, 2.1607, 2.1591, 2.1548, 2.1522, 2.1479, 2.1444, 2.1426, 2.1404, 2.1313, 2.1311, 2.1311, 2.1311, 2.1311, 2.1311, 2.1311, 2.1311, 2.1311, 2.1311, 2.1311, 2.1222, 2.1026, 2.0956, 2.0817, 2.0768, 2.0417, 2.0008, 2.0304, 1.9265, 1.9125, 1.9103, 1.9943, 1.8729, 1.6827, 1.7872, 1.8036, 1.7401, 1.3772, 1.687, 1.4603, 1.2087, 1.0861, 1.113, 0.8478, 0.0315, 1.2775, 1.0572, 1.0141, 0.1047, 0.8337, 0.4547, 0.5672, 2.2103, 2.2098, 2.2092, 2.2091, 2.2088, 2.2083, 2.2049, 2.2047, 2.2041, 2.2026, 2.2026, 2.2024, 2.2012, 2.2001, 2.1932, 2.1919, 2.1919, 2.191, 2.191, 2.1905, 2.1823, 2.1797, 2.1623, 2.1602, 2.1602, 2.1602, 2.1602, 2.1602, 2.1602, 2.1602, 2.1093, 1.9824, 2.0276, 2.0281, 1.998, 1.4062, 1.8803, 1.8386, 1.4412, 1.4202, 0.9159, 1.1215, 0.5267, 2.2265, 2.22, 2.2181, 2.2027, 2.2025, 2.1864, 2.1826, 2.1804, 2.1804, 2.1804, 2.1716, 2.1572, 2.1572, 2.1572, 2.1572, 2.1495, 2.1284, 2.1284, 2.1278, 2.1238, 2.123, 2.1189, 2.1189, 2.058, 1.9981, 1.9923, 1.9908, 1.9898, 1.9371, 1.9284, 1.8996, 1.8085, 1.7943, 1.5651, 1.5442, 1.8756, 1.7635, 1.5564, 1.5027, 1.4801, 1.7045, 1.7635, 1.4971, 1.7949, 1.4075, 1.1732, 1.1365, 1.5562, 1.1872, 0.6006, 1.0205, 1.1948, -0.6674, -0.4208, 0.3861, 2.3992, 2.3892, 2.3877, 2.385, 2.382, 2.3748, 2.3609, 2.3543, 2.3472, 2.3431, 2.3339, 2.3301, 2.3301, 2.3295, 2.3274, 2.3274, 2.3274, 2.3259, 2.2844, 2.2843, 2.2602, 2.2364, 2.2197, 2.1387, 2.1245, 2.0625, 2.0115, 2.0007, 1.9776, 1.9762, 1.9327, 1.6124, 1.9381, 1.5402, 1.8594, 1.6645, 1.7936, 1.331, 1.1652, 1.1078, 1.3671, 0.6356, -0.1024, 0.9471, 0.6191, 0.4028, 1.0196, -0.6118, 0.628, 2.5154, 2.513, 2.5128, 2.5126, 2.5125, 2.5119, 2.5119, 2.5112, 2.5104, 2.4973, 2.4822, 2.4671, 2.4637, 2.4637, 2.4637, 2.4618, 2.4502, 2.4474, 2.441, 2.4293, 2.4142, 2.3248, 2.2862, 2.2796, 2.2592, 2.243, 2.2311, 2.2197, 2.2039, 2.1635, 2.0903, 2.0386, 1.8675, 2.1406, 1.5246, 1.9337, 1.1209, 0.7515, 1.7556, 1.9447, 1.2322, 1.5415, 1.3346, -0.512, 0.7009, 1.2363, 0.6186]}, \"token.table\": {\"Topic\": [1, 7, 3, 7, 4, 4, 1, 3, 6, 2, 4, 2, 2, 6, 1, 1, 2, 3, 4, 5, 6, 4, 3, 7, 6, 4, 5, 5, 7, 1, 2, 4, 2, 5, 7, 3, 1, 3, 1, 5, 3, 5, 6, 7, 4, 5, 5, 1, 5, 6, 1, 2, 3, 4, 6, 7, 1, 3, 2, 5, 6, 7, 1, 7, 5, 5, 5, 1, 2, 3, 7, 1, 2, 1, 2, 6, 3, 4, 7, 1, 3, 7, 3, 6, 6, 3, 3, 5, 6, 7, 6, 7, 3, 1, 2, 6, 4, 1, 7, 1, 1, 1, 7, 1, 3, 6, 4, 5, 6, 3, 5, 1, 4, 2, 4, 2, 4, 4, 1, 2, 3, 5, 6, 5, 6, 3, 7, 2, 7, 5, 7, 2, 3, 7, 7, 1, 5, 6, 2, 4, 3, 7, 4, 1, 5, 5, 6, 3, 6, 3, 4, 2, 1, 5, 6, 7, 3, 5, 6, 7, 4, 3, 7, 1, 3, 6, 3, 4, 5, 6, 4, 7, 2, 3, 6, 2, 3, 5, 6, 4, 1, 3, 5, 6, 1, 3, 5, 6, 5, 7, 1, 3, 5, 6, 7, 1, 7, 6, 6, 6, 2, 2, 3, 5, 7, 3, 3, 2, 4, 2, 4, 4, 2, 2, 3, 5, 6, 2, 4, 4, 6, 3, 7, 6, 7, 4, 5, 3, 5, 6, 3, 2, 2, 2, 4, 2, 2, 2, 6, 2, 5, 5, 5, 5, 7, 5, 4, 4, 6, 2, 3, 4, 6, 7, 1, 3, 5, 6, 7, 1, 7, 5, 6, 1, 2, 3, 4, 1, 3, 1, 2, 5, 6, 1, 2, 3, 4, 5, 6, 7, 6, 3, 4, 2, 4, 5, 6, 3, 6, 4, 2, 4, 2, 1, 1, 2, 3, 6, 7, 6, 7, 4, 5, 6, 7, 3, 4, 3, 5, 6, 2, 3, 2, 4, 4, 1, 4, 2, 3, 5, 7, 6, 6, 2, 7, 3, 3, 1, 2, 5, 6, 7, 1, 2, 3, 4, 5, 6, 7, 1, 3, 5, 6, 1, 1, 3, 1, 5, 2, 2, 3, 5, 2, 6, 3, 3, 1, 2, 7, 1, 4, 1, 3, 4, 5, 7, 2, 3, 7, 3, 6, 7, 5, 3, 5, 6, 3, 1, 1, 1, 4, 4, 5, 6, 1, 4, 3, 5, 4, 4, 4, 1, 2, 3, 5, 7, 1, 3, 7, 3, 5, 7, 2, 5, 6, 7, 2, 5, 3, 2, 4, 5, 1, 3, 5, 6, 6, 5, 5, 2, 3, 3, 4, 1, 5, 7, 6, 4, 7, 3, 6, 7, 1, 6, 5, 6, 2, 4, 5, 4, 1, 2, 3, 6, 5, 6, 3, 4, 5, 3, 5, 7, 1, 2, 6, 3, 3, 7, 4, 5, 6, 7, 2, 6, 2, 3, 7, 4, 3, 5, 2, 5, 6, 2, 1, 2, 7, 1, 2, 3, 5, 1, 2, 4, 5, 6, 7, 1, 4, 5, 6, 7, 2, 2, 6, 1, 4, 1, 6, 2, 4, 1, 2, 1, 1, 1, 3, 5, 6, 2, 5, 1, 3, 3, 5, 1, 3, 3, 6, 7, 1, 3, 5, 6, 7, 3, 1, 3, 5, 7, 7, 4, 5, 2, 7, 1, 3, 4, 5, 6, 7, 1, 3, 5, 7, 1, 2, 3, 4, 5, 6, 1, 2, 3, 5, 6, 6, 1, 4, 5, 6, 5, 5, 7], \"Freq\": [0.2486251637090495, 0.7293004802132119, 0.9495531760871228, 0.9126992841863897, 0.9636234088968691, 0.9813481396740338, 0.8542236491055232, 0.09152396240416319, 0.045761981202081595, 0.9796404496532576, 0.0188392394164088, 0.9809661724699459, 0.9784910667627875, 0.9581726655295614, 0.9875197179131917, 0.5236464873726494, 0.24276331406931256, 0.018056775426643083, 0.06420186818361985, 0.07022079332583421, 0.08225864361026293, 0.9554762224990265, 0.19091186629353693, 0.7827386518035014, 0.9069347315616184, 0.8142595987360735, 0.15759863201343358, 0.9124662764561391, 0.9886584326066656, 0.09078164729009565, 0.7413834528691144, 0.16643302003184202, 0.993374352462415, 0.07517185331555586, 0.9020622397866703, 0.926489143662482, 0.9839783928238955, 0.9905891503461585, 0.9896687697566404, 0.855641528169324, 0.675818478429489, 0.09386367755965123, 0.07509094204772099, 0.13140914858351174, 0.9709760325724357, 0.9262109367509594, 0.9262109367509594, 0.3677026657184422, 0.07354053314368844, 0.5392972430537152, 0.19452003991330455, 0.10806668884072475, 0.054033344420362374, 0.45388009313104394, 0.0864533510725798, 0.10806668884072475, 0.992068681385597, 0.8973683728121312, 0.908017739104554, 0.08349588405559116, 0.9783537459415679, 0.9868598671463445, 0.19795110755210052, 0.752214208697982, 0.9256136283655437, 0.8915891791764833, 0.9159818252492485, 0.07837820384324568, 0.5747734948504682, 0.25255199016156943, 0.09579558247507805, 0.10600069400729009, 0.8798057602605077, 0.35591140901257834, 0.6373297324178728, 0.9925441768896819, 0.2137640407089027, 0.25957062086081045, 0.5191412417216209, 0.8540707861214752, 0.13775335260023794, 0.9454943122358808, 0.10779482870169789, 0.8623586296135831, 0.9360461890714685, 0.926489143662482, 0.3108735256106022, 0.33607948714659697, 0.2352556410026179, 0.11762782050130895, 0.9725094951448439, 0.9844756602144279, 0.965056176977351, 0.31556846920185067, 0.011687721081550025, 0.6662001016483514, 0.9665026872664129, 0.9731416554135425, 0.9226901688022435, 0.9981859972424473, 0.992709546731667, 0.9808317999957669, 0.9642920783298602, 0.9838028114350573, 0.9734538801985492, 0.9536194713089994, 0.9831044368033627, 0.8261065986852459, 0.13768443311420767, 0.8358567945690766, 0.14859676347894693, 0.979909253612481, 0.9903148710763456, 0.8160893018555515, 0.17487627896904676, 0.755971974031585, 0.24126765128667607, 0.993578250825402, 0.05293745921296153, 0.04411454934413461, 0.3264476651465961, 0.1588123776388846, 0.42349967370369224, 0.9256391272574349, 0.9595197207363849, 0.3003748584913295, 0.6758434316054913, 0.17125227056347983, 0.7706352175356592, 0.70085691259945, 0.27424835710413265, 0.9909073735230288, 0.1770337057023188, 0.8170786417030098, 0.9179084823607927, 0.8807941810764826, 0.07842687913694708, 0.03619702114012942, 0.9740951420191226, 0.9911682093310105, 0.926489143662482, 0.9928526764676858, 0.9709760325724357, 0.9935186154463027, 0.9159818252492485, 0.9256136283655437, 0.9100653938098875, 0.40729689906578886, 0.5854892924070715, 0.9211728851002341, 0.981442941394502, 0.9860560186663568, 0.967415954507128, 0.20109082174462325, 0.1382499399494285, 0.6535451706700256, 0.48042510636247043, 0.22661561620871248, 0.09971087113183348, 0.19035711761531848, 0.9636274558038981, 0.981933233543409, 0.9941280557916904, 0.2227315893153364, 0.6339283695898036, 0.13706559342482239, 0.11694795559308169, 0.05084693721438334, 0.7830428331015035, 0.04915203930723723, 0.41854312302128166, 0.5493378489654321, 0.8531279320629404, 0.06286205815200613, 0.08082264619543646, 0.0614283549044538, 0.26107050834392864, 0.5016648983863727, 0.16892797598724796, 0.9709760325724357, 0.10838871044840222, 0.10838871044840222, 0.6503322626904132, 0.12043190049822468, 0.41401614853386376, 0.11451510491362189, 0.2995010436202419, 0.17617708448249522, 0.9765492139824776, 0.9866808586648967, 0.18487121351528196, 0.1540593445960683, 0.513531148653561, 0.11297685270378342, 0.030811868919213663, 0.8778333687464434, 0.11111814794258777, 0.9068919126084559, 0.9792499577005064, 0.9461821261682647, 0.9860560186663568, 0.7060244974446122, 0.2930667725241786, 0.204155891507434, 0.7655845931528774, 0.8895494521714928, 0.991758273969462, 0.9270668424068166, 0.06320910289137385, 0.9989637357612324, 0.9709760325724357, 0.9709760325724357, 0.9901664456711545, 0.5037923562153174, 0.4007439197167297, 0.04579930511048339, 0.04579930511048339, 0.19997425525992935, 0.7873986300859718, 0.802562691964996, 0.17834726488111022, 0.376910308966552, 0.6072443866683338, 0.21629106477613513, 0.7415693649467491, 0.3568900672423858, 0.6146440046952201, 0.7552491447136563, 0.06865901315578693, 0.17164753288946735, 0.964945507659933, 0.9812590278431844, 0.9848374764758323, 0.9477424154983427, 0.045130591214206796, 0.9862980313905962, 0.9860560186663568, 0.1315075879751984, 0.8328813905095899, 0.9860809564333043, 0.9551094414819893, 0.9612932303805546, 0.9421681520277624, 0.9262109367509594, 0.9179084823607927, 0.9159818252492485, 0.981442941394502, 0.1451346059699191, 0.8435948972001548, 0.28247718072495187, 0.06725647160117902, 0.16141553184282967, 0.3497336523261309, 0.13451294320235804, 0.5514201805528479, 0.25869094890133604, 0.14296078755073835, 0.04084593930021096, 0.9848571449308213, 0.5133668323389947, 0.4583632431598167, 0.6402888253594166, 0.3379302133841365, 0.12260446703684248, 0.41160071076654264, 0.12260446703684248, 0.3327835533857153, 0.8349274901916562, 0.1541404597276904, 0.5164068848603913, 0.3596405090992011, 0.03688620606145652, 0.07377241212291304, 0.26670204403893283, 0.10668081761557313, 0.040005306605839924, 0.18224639675993742, 0.19558149896188406, 0.13335102201946641, 0.07112054507704875, 0.9864298534914152, 0.9467142339207586, 0.9385219451355451, 0.06662284735446226, 0.1522807939530566, 0.4378072826150377, 0.34263178639437736, 0.7668295618637235, 0.22656327964155468, 0.9901284569718336, 0.30106368603881467, 0.6806657249573201, 0.99264017866945, 0.9667667772311129, 0.14072643440290833, 0.29552551224610746, 0.08443586064174499, 0.11258114752232666, 0.3799613728878525, 0.6281082486102383, 0.36720174534137007, 0.44417982013642193, 0.055082985610585306, 0.4523836690571474, 0.04805111510710633, 0.9040593197875285, 0.08528861507429515, 0.07278021677723247, 0.618631842606476, 0.29112086710892987, 0.1296670823007565, 0.8428360349549172, 0.9893945332078388, 0.9709760325724357, 0.9867937216918653, 0.9207372777004252, 0.07365898221603402, 0.986410579717595, 0.37440502923209634, 0.4712339161024661, 0.1484709598679003, 0.9366073628476321, 0.9464200268947184, 0.9757704300699046, 0.9747555934538041, 0.9487512071168877, 0.926489143662482, 0.41445105313908365, 0.08289021062781673, 0.04144510531390837, 0.1554191449271564, 0.30047701352583567, 0.025936012834733072, 0.14985251860067997, 0.1239165057659469, 0.45820289341361764, 0.04034490885402922, 0.028817792038592305, 0.1700249730276946, 0.5197287193317355, 0.17096339451701825, 0.027354143122722923, 0.27354143122722924, 0.9779988335573662, 0.9963219275506319, 0.926489143662482, 0.9802406987532891, 0.9733306009018613, 0.9860560186663568, 0.9860560186663568, 0.820718739433649, 0.14150323093683603, 0.16939079197572676, 0.7622585638907705, 0.9483383516932707, 0.926489143662482, 0.9910002173921423, 0.9936605968261638, 0.9251582821639726, 0.968722741310148, 0.026908965036393, 0.7129324234838348, 0.09472528703631371, 0.10469636988224147, 0.05484095565260268, 0.029913248537783276, 0.9860560186663568, 0.926489143662482, 0.9886584326066656, 0.12591471273291452, 0.30219531055899485, 0.5540247360248238, 0.9865357047885975, 0.44506276923264343, 0.47877964568966186, 0.06743375291403687, 0.9898226778378642, 0.9963094195473251, 0.9883269627256455, 0.9770855517033833, 0.9952020882988869, 0.2049673446918047, 0.11712419696674553, 0.6441830833171004, 0.9935217386379949, 0.9872937582079058, 0.40523814178522827, 0.5922711303014875, 0.9860768872983946, 0.988711612365992, 0.9925809603255181, 0.22296373626457872, 0.5295388736283745, 0.01393523351653617, 0.06270855082441276, 0.16025518544016595, 0.28890398660063776, 0.609908416156902, 0.09630132886687924, 0.04086284269931036, 0.7355311685875866, 0.20431421349655182, 0.9682747570572513, 0.13754734370797522, 0.10316050778098142, 0.7221235544668699, 0.1840916329765632, 0.7731848585015655, 0.9767518281886516, 0.9784933264921267, 0.9829073544166104, 0.985087657903302, 0.9840487637647947, 0.3463633719359505, 0.6432462621667653, 0.9890870270578379, 0.9360519902174105, 0.8915888432162971, 0.9159818252492485, 0.1174488844265286, 0.8808666331989644, 0.7701424937902237, 0.2149234866391322, 0.46618091446844523, 0.5050293240074823, 0.023309045723422264, 0.8963171084901709, 0.8259119697296656, 0.15016581267812104, 0.11341426519742068, 0.670175203439304, 0.2062077549044012, 0.8822489011110229, 0.11028111263887787, 0.2156074332364545, 0.7546260163275909, 0.155395694455482, 0.7148201944952172, 0.12431655556438559, 0.9880073350059368, 0.9771070992392752, 0.9767813906761615, 0.2680622604429526, 0.6969618771516768, 0.5065101682682033, 0.47033087053476025, 0.9265106094425926, 0.17342337548407383, 0.7977475272267397, 0.6057491600871387, 0.11126004981192344, 0.2719690106513684, 0.9813567674021902, 0.30795658262560277, 0.650130563320717, 0.926489143662482, 0.9004180881467302, 0.08657866232180098, 0.04746222552201041, 0.7119333828301562, 0.1695079482928943, 0.061022861385441954, 0.9529967571687171, 0.039708198215363213, 0.9267338901378069, 0.0392683851753308, 0.03141470814026464, 0.9709760325724357, 0.18843663261566748, 0.7773011095396284, 0.2589480798014967, 0.09416293810963515, 0.6355998322400372, 0.9860560186663568, 0.7733384947915852, 0.12677680242485004, 0.08874376169739502, 0.4037338003876481, 0.21196024520351525, 0.03028003502907361, 0.3532670753391921, 0.09324231521887862, 0.07678778900378239, 0.07130294693208365, 0.3455450505170208, 0.17003010422266102, 0.2468178932264434, 0.2821445220932747, 0.0790004661861169, 0.34985920739566057, 0.19185827502342676, 0.0790004661861169, 0.9875077746794152, 0.9288696353651826, 0.06192464235767884, 0.9920157438054427, 0.9731575150900968, 0.9974411713310504, 0.8963171084901709, 0.9716923612484898, 0.9665026872664129, 0.922981284049266, 0.06836898400364934, 0.9878944915519372, 0.9886176834028675, 0.05221644797089259, 0.6788138236216037, 0.19146030922660615, 0.06962193062785678, 0.8261037256357671, 0.1747527111921815, 0.997795306579642, 0.92650218949668, 0.04085471879177447, 0.9396585322108127, 0.9787232421768802, 0.9966315252484906, 0.737101367397857, 0.258981561518166, 0.9435991943769254, 0.4134474701277366, 0.05906392430396237, 0.18562947638388175, 0.05906392430396237, 0.27844421457582264, 0.9783250722380674, 0.40107134907332403, 0.05729590701047486, 0.47746589175395715, 0.05729590701047486, 0.9179084823607927, 0.8997150435201587, 0.09596960464215026, 0.9860560186663568, 0.9413669020837889, 0.11790717037406574, 0.331263002479518, 0.2695021037121503, 0.11229254321339593, 0.07299015308870736, 0.08983403457071674, 0.08623716019766035, 0.15091503034590562, 0.733015861680113, 0.9881583523979894, 0.13747945488650523, 0.1157721725360044, 0.34008075682451294, 0.07959336861850302, 0.036178803917501376, 0.289430431340011, 0.4258924328307246, 0.1921709757894733, 0.19736478594594553, 0.15581430469416754, 0.020775240625889004, 0.8963171084901709, 0.4109070601630202, 0.057335868859956306, 0.2771233661564555, 0.24845543172647733, 0.8557966582820324, 0.2531486046898975, 0.7088160931317131], \"Term\": [\"account\", \"account\", \"act\", \"administration\", \"afraid_donald\", \"afraid_trump\", \"africa\", \"africa\", \"africa\", \"ai\", \"ai\", \"ai_ml\", \"aiville\", \"allow\", \"america\", \"amp\", \"amp\", \"amp\", \"amp\", \"amp\", \"amp\", \"analysis\", \"announce\", \"announce\", \"apc\", \"apply\", \"apply\", \"approach\", \"april_kyambogo\", \"artificial_intelligence\", \"artificial_intelligence\", \"artificial_intelligence\", \"artificialintelligence\", \"ask\", \"ask\", \"atikugate_obidatti\", \"attack\", \"bad\", \"biden\", \"bigdata_analytic\", \"blue\", \"blue\", \"blue\", \"blue\", \"book_digitalhealth\", \"boycott_daraz\", \"boycott_jdc\", \"bring\", \"bring\", \"bring\", \"business\", \"business\", \"business\", \"business\", \"business\", \"business\", \"call\", \"cancer\", \"care\", \"care\", \"career\", \"catchthefire\", \"cause\", \"cause\", \"cell_conduit\", \"cell_enemiesofsahaba\", \"cell_way\", \"change\", \"change\", \"change\", \"change\", \"chatgpt\", \"chatgpt\", \"check\", \"check\", \"chelsea\", \"child\", \"child\", \"child\", \"china\", \"china\", \"christian\", \"city\", \"city\", \"click\", \"click_gt\", \"club\", \"club\", \"club\", \"club\", \"coach\", \"college_football\", \"com\", \"come\", \"come\", \"come\", \"congo_mining\", \"congress\", \"conservative\", \"corruption\", \"country\", \"court\", \"cov\", \"cover\", \"covid\", \"crisis\", \"cross\", \"crypto\", \"crypto\", \"cup\", \"cup\", \"daddy\", \"data_science\", \"datascience\", \"datascience\", \"datum\", \"datum\", \"datum_science\", \"day\", \"day\", \"day\", \"day\", \"day\", \"daysofcode\", \"deal\", \"deep\", \"deep\", \"demand\", \"demand\", \"design\", \"design\", \"digitalhealth\", \"disaster\", \"disaster\", \"disaster_cell\", \"don\", \"don\", \"don\", \"dr\", \"draw_democrats\", \"drug_experience\", \"eat\", \"ehealth_biotech\", \"election\", \"eligible_zakat\", \"enemiesofsahaba_muslims\", \"episode\", \"epl\", \"epl\", \"europe\", \"exclusive_rep\", \"experience_period\", \"eye\", \"fan\", \"fan\", \"fan\", \"feel\", \"feel\", \"feel\", \"feel\", \"fight_corruption\", \"finally\", \"fire\", \"follow\", \"follow\", \"follow\", \"football\", \"football\", \"football\", \"football\", \"form\", \"form\", \"future\", \"future\", \"future\", \"game\", \"game\", \"game\", \"game\", \"genome_genetic\", \"get\", \"get\", \"get\", \"get\", \"go\", \"go\", \"go\", \"go\", \"goal\", \"god\", \"good\", \"good\", \"good\", \"good\", \"good\", \"government\", \"government\", \"govt\", \"graham_potter\", \"great_usa\", \"gt_atikugate\", \"gt_gt\", \"gt_gt\", \"hack\", \"hack\", \"hand\", \"head\", \"health\", \"health\", \"healthcare\", \"healthcare_lifescience\", \"healthtec_medtech\", \"healthtech\", \"help\", \"help\", \"help\", \"help\", \"high\", \"high\", \"hire\", \"hire\", \"hit\", \"hit\", \"hold\", \"hold\", \"home\", \"home\", \"hope\", \"hope\", \"hope\", \"important\", \"improve\", \"increase\", \"industry\", \"industry\", \"innovation\", \"instantly_naturally\", \"interview\", \"interview\", \"iot\", \"jafria_disaster\", \"japan\", \"jdc_enemiesofislam\", \"jdc_expose\", \"jdc_jafria\", \"jdc_stand\", \"jeff_van\", \"job\", \"job\", \"join\", \"join\", \"join\", \"join\", \"join\", \"know\", \"know\", \"know\", \"know\", \"kyuedition\", \"leader\", \"leader\", \"league\", \"league\", \"learn\", \"learn\", \"learn\", \"learn\", \"lie\", \"lie\", \"life\", \"life\", \"life\", \"life\", \"like\", \"like\", \"like\", \"like\", \"like\", \"like\", \"like\", \"liverpool\", \"local\", \"london_uk\", \"look\", \"look\", \"look\", \"look\", \"lose\", \"lose\", \"machine_learn\", \"machine_learning\", \"machine_learning\", \"machinelearne\", \"maga\", \"make\", \"make\", \"make\", \"make\", \"make\", \"man\", \"man\", \"manager\", \"manager\", \"manager\", \"manager\", \"manchester\", \"manchester\", \"match\", \"match\", \"match\", \"mean\", \"mean\", \"medical\", \"medical_tech\", \"medicine\", \"medium\", \"medium\", \"member\", \"messi\", \"messi\", \"messi\", \"million\", \"miss\", \"ml\", \"month\", \"natural\", \"naturally_nuvapad\", \"need\", \"need\", \"need\", \"need\", \"need\", \"new\", \"new\", \"new\", \"new\", \"new\", \"new\", \"new\", \"news\", \"news\", \"news\", \"news\", \"news_justice\", \"nigeriadecide\", \"nigeriadecide_thepeoplestownhall\", \"nigerian\", \"not\", \"nuvapad_drug\", \"obidatti_nigeriadecide\", \"official\", \"official\", \"old\", \"old\", \"order\", \"pain_instantly\", \"party\", \"patient\", \"patriot\", \"pay\", \"pay\", \"people\", \"people\", \"people\", \"people\", \"people\", \"period_pain\", \"period_well\", \"pitch_pm\", \"place\", \"place\", \"place\", \"play\", \"player\", \"player\", \"player\", \"playoff\", \"politic\", \"political\", \"politician\", \"post\", \"premier_league\", \"premier_league\", \"premier_league\", \"president\", \"project\", \"psg\", \"psg\", \"publish\", \"python\", \"quality\", \"read\", \"read\", \"read\", \"read\", \"read\", \"real\", \"real\", \"real\", \"record\", \"record\", \"record\", \"reduce\", \"rest\", \"rest\", \"rest\", \"result\", \"result\", \"return\", \"revolutionize\", \"riches_take\", \"ronaldo\", \"rule\", \"run\", \"run\", \"sack\", \"sad\", \"sadqa_boycott\", \"sadqa_muslims\", \"safe\", \"safe\", \"sale\", \"sale\", \"say\", \"say\", \"say\", \"sb_real\", \"school\", \"school\", \"season\", \"season\", \"season\", \"sell\", \"sell\", \"senior\", \"senior\", \"share\", \"share\", \"share\", \"site\", \"social\", \"solution\", \"speak\", \"speak\", \"sport\", \"sport\", \"spread\", \"star\", \"star\", \"start\", \"start\", \"start\", \"state\", \"step\", \"step\", \"stop_period\", \"take\", \"take\", \"team\", \"team\", \"team\", \"team\", \"tech\", \"tech\", \"technology\", \"technology\", \"technology\", \"telehealth_telemedicine\", \"th\", \"th\", \"thank\", \"thank\", \"thank\", \"thepeoplestownhall\", \"thing\", \"thing\", \"thing\", \"think\", \"think\", \"think\", \"think\", \"time\", \"time\", \"time\", \"time\", \"time\", \"time\", \"today\", \"today\", \"today\", \"today\", \"today\", \"tool\", \"transform\", \"transform\", \"trump\", \"trump_corruption\", \"truth\", \"truth_establish\", \"truth_social\", \"turn_washington\", \"twitter\", \"twitter\", \"uk\", \"ukraine\", \"united\", \"united\", \"united\", \"united\", \"update\", \"update\", \"usa\", \"vaccine\", \"ve\", \"ve\", \"video\", \"virus\", \"vs\", \"vs\", \"wait\", \"want\", \"want\", \"want\", \"want\", \"want\", \"war\", \"watch\", \"watch\", \"watch\", \"watch\", \"way_eligible\", \"web\", \"web\", \"well_click\", \"wethepeople\", \"win\", \"win\", \"win\", \"win\", \"win\", \"win\", \"woman\", \"woman\", \"woman\", \"word\", \"work\", \"work\", \"work\", \"work\", \"work\", \"work\", \"world\", \"world\", \"world\", \"world\", \"world\", \"world_ministry\", \"year\", \"year\", \"year\", \"year\", \"zakat\", \"zakat_sadqa\", \"zakat_sadqa\"]}, \"R\": 30, \"lambda.step\": 0.01, \"plot.opts\": {\"xlab\": \"PC1\", \"ylab\": \"PC2\"}, \"topic.order\": [3, 1, 4, 6, 7, 2, 5]};\n",
       "\n",
       "function LDAvis_load_lib(url, callback){\n",
       "  var s = document.createElement('script');\n",
       "  s.src = url;\n",
       "  s.async = true;\n",
       "  s.onreadystatechange = s.onload = callback;\n",
       "  s.onerror = function(){console.warn(\"failed to load library \" + url);};\n",
       "  document.getElementsByTagName(\"head\")[0].appendChild(s);\n",
       "}\n",
       "\n",
       "if(typeof(LDAvis) !== \"undefined\"){\n",
       "   // already loaded: just create the visualization\n",
       "   !function(LDAvis){\n",
       "       new LDAvis(\"#\" + \"ldavis_el1971221187947830886883941057\", ldavis_el1971221187947830886883941057_data);\n",
       "   }(LDAvis);\n",
       "}else if(typeof define === \"function\" && define.amd){\n",
       "   // require.js is available: use it to load d3/LDAvis\n",
       "   require.config({paths: {d3: \"https://d3js.org/d3.v5\"}});\n",
       "   require([\"d3\"], function(d3){\n",
       "      window.d3 = d3;\n",
       "      LDAvis_load_lib(\"https://cdn.jsdelivr.net/gh/bmabey/pyLDAvis@3.4.0/pyLDAvis/js/ldavis.v3.0.0.js\", function(){\n",
       "        new LDAvis(\"#\" + \"ldavis_el1971221187947830886883941057\", ldavis_el1971221187947830886883941057_data);\n",
       "      });\n",
       "    });\n",
       "}else{\n",
       "    // require.js not available: dynamically load d3 & LDAvis\n",
       "    LDAvis_load_lib(\"https://d3js.org/d3.v5.js\", function(){\n",
       "         LDAvis_load_lib(\"https://cdn.jsdelivr.net/gh/bmabey/pyLDAvis@3.4.0/pyLDAvis/js/ldavis.v3.0.0.js\", function(){\n",
       "                 new LDAvis(\"#\" + \"ldavis_el1971221187947830886883941057\", ldavis_el1971221187947830886883941057_data);\n",
       "            })\n",
       "         });\n",
       "}\n",
       "</script>"
      ],
      "text/plain": [
       "<IPython.core.display.HTML object>"
      ]
     },
     "execution_count": 40,
     "metadata": {},
     "output_type": "execute_result"
    }
   ],
   "source": [
    "# visualise the topics\n",
    "import pyLDAvis.gensim_models as gensimvis\n",
    "import pyLDAvis\n",
    "pyLDAvis.enable_notebook()\n",
    "# pyLDAvis.enable_notebook(local=True)\n",
    "vis_data = gensimvis.prepare(optimal_model,bow_corpus,id2word)\n",
    "pyLDAvis.display(vis_data)\n"
   ]
  },
  {
   "cell_type": "code",
   "execution_count": 41,
   "metadata": {},
   "outputs": [],
   "source": [
    "optimal_model_six = gensim.models.LdaMulticore(corpus=bow_corpus,\n",
    "                                            num_topics=6,\n",
    "                                            id2word=id2word,\n",
    "                                            chunksize=2000,\n",
    "                                            passes=50,\n",
    "                                            iterations=400,\n",
    "                                            random_state=42,\n",
    "                                            workers=2,)"
   ]
  },
  {
   "cell_type": "code",
   "execution_count": 42,
   "metadata": {},
   "outputs": [
    {
     "data": {
      "text/plain": [
       "[(0,\n",
       "  '0.104*\"ai\" + 0.077*\"healthcare\" + 0.018*\"amp\" + 0.016*\"goal\" + 0.015*\"technology\" + 0.014*\"artificialintelligence\" + 0.012*\"industry\" + 0.012*\"future\" + 0.011*\"patient\" + 0.010*\"health\" + 0.010*\"datum\" + 0.010*\"care\" + 0.010*\"chatgpt\" + 0.010*\"healthtech\" + 0.009*\"innovation\" + 0.009*\"machinelearne\" + 0.008*\"tech\" + 0.008*\"medical\" + 0.007*\"gt_gt\" + 0.007*\"read\" + 0.007*\"transform\" + 0.007*\"change\" + 0.007*\"improve\" + 0.006*\"thank\" + 0.006*\"tool\" + 0.006*\"digitalhealth\" + 0.006*\"great\" + 0.006*\"digital\" + 0.006*\"datascience\" + 0.006*\"artificial_intelligence\" + 0.006*\"ai_ml\" + 0.006*\"learn\" + 0.006*\"increase\" + 0.005*\"truth_social\" + 0.005*\"impact\" + 0.005*\"new\" + 0.005*\"power\" + 0.005*\"education\" + 0.005*\"use\" + 0.005*\"blockchain\" + 0.005*\"article\" + 0.005*\"risk\" + 0.005*\"research\" + 0.005*\"well_click\" + 0.005*\"obidatti_nigeriadecide\" + 0.005*\"period_pain\" + 0.005*\"experience_period\" + 0.005*\"nuvapad_drug\" + 0.005*\"thepeoplestownhall\" + 0.005*\"instantly_naturally\"'),\n",
       " (1,\n",
       "  '0.052*\"manager\" + 0.045*\"chelsea\" + 0.038*\"football\" + 0.030*\"game\" + 0.027*\"messi\" + 0.019*\"player\" + 0.019*\"season\" + 0.016*\"get\" + 0.016*\"man\" + 0.016*\"graham_potter\" + 0.015*\"look\" + 0.015*\"fan\" + 0.014*\"psg\" + 0.014*\"league\" + 0.013*\"win\" + 0.013*\"like\" + 0.013*\"liverpool\" + 0.013*\"news\" + 0.012*\"ronaldo\" + 0.012*\"match\" + 0.011*\"time\" + 0.011*\"coach\" + 0.011*\"lose\" + 0.011*\"club\" + 0.011*\"team\" + 0.011*\"play\" + 0.010*\"crypto\" + 0.010*\"week\" + 0.010*\"new\" + 0.010*\"watch\" + 0.010*\"vs\" + 0.009*\"playoff\" + 0.009*\"city\" + 0.009*\"end\" + 0.009*\"don\" + 0.009*\"come\" + 0.009*\"epl\" + 0.009*\"score\" + 0.009*\"good\" + 0.008*\"job\" + 0.008*\"career\" + 0.008*\"join\" + 0.008*\"sack\" + 0.008*\"manchester\" + 0.008*\"today\" + 0.008*\"available\" + 0.007*\"japan\" + 0.007*\"hit\" + 0.006*\"announce\" + 0.006*\"ahead\"'),\n",
       " (2,\n",
       "  '0.051*\"usa\" + 0.045*\"corruption\" + 0.044*\"truth\" + 0.030*\"politic\" + 0.030*\"amp\" + 0.018*\"people\" + 0.016*\"trump\" + 0.016*\"day\" + 0.014*\"nigeriadecide\" + 0.009*\"don\" + 0.009*\"country\" + 0.009*\"check\" + 0.008*\"medium\" + 0.008*\"election\" + 0.008*\"president\" + 0.008*\"government\" + 0.008*\"news\" + 0.008*\"world\" + 0.007*\"lie\" + 0.007*\"sell\" + 0.007*\"biden\" + 0.007*\"know\" + 0.007*\"let\" + 0.007*\"america\" + 0.006*\"life\" + 0.006*\"pay\" + 0.006*\"right\" + 0.006*\"like\" + 0.006*\"tweet\" + 0.006*\"china\" + 0.006*\"video\" + 0.006*\"say\" + 0.005*\"twitter\" + 0.005*\"pm\" + 0.005*\"party\" + 0.005*\"good\" + 0.005*\"daddy\" + 0.005*\"need\" + 0.005*\"fight_corruption\" + 0.005*\"nigeria\" + 0.005*\"news_justice\" + 0.005*\"turn_washington\" + 0.005*\"congo_mining\" + 0.005*\"thing\" + 0.005*\"riches_take\" + 0.005*\"uk\" + 0.005*\"american\" + 0.005*\"social\" + 0.005*\"go\" + 0.005*\"think\"'),\n",
       " (3,\n",
       "  '0.095*\"football\" + 0.040*\"virus\" + 0.024*\"good\" + 0.022*\"team\" + 0.019*\"work\" + 0.018*\"feel\" + 0.016*\"world\" + 0.016*\"play\" + 0.015*\"say\" + 0.015*\"way\" + 0.013*\"player\" + 0.013*\"playoff\" + 0.012*\"new\" + 0.012*\"know\" + 0.012*\"ve\" + 0.012*\"bad\" + 0.012*\"start\" + 0.012*\"go\" + 0.012*\"club\" + 0.011*\"game\" + 0.011*\"woman\" + 0.011*\"cup\" + 0.010*\"take\" + 0.010*\"th\" + 0.009*\"head\" + 0.009*\"covid\" + 0.009*\"help\" + 0.009*\"want\" + 0.008*\"time\" + 0.008*\"amp\" + 0.008*\"sport\" + 0.008*\"happy\" + 0.008*\"change\" + 0.008*\"second\" + 0.008*\"blue\" + 0.007*\"well\" + 0.007*\"like\" + 0.007*\"return\" + 0.007*\"think\" + 0.007*\"find\" + 0.007*\"official\" + 0.006*\"national\" + 0.006*\"finally\" + 0.006*\"home\" + 0.006*\"continue\" + 0.006*\"record\" + 0.006*\"safe\" + 0.006*\"run\" + 0.006*\"important\" + 0.005*\"messi\"'),\n",
       " (4,\n",
       "  '0.060*\"disaster\" + 0.029*\"god\" + 0.024*\"manager\" + 0.023*\"time\" + 0.023*\"fire\" + 0.023*\"eat\" + 0.022*\"college_football\" + 0.021*\"pitch_pm\" + 0.021*\"april_kyambogo\" + 0.020*\"catchthefire\" + 0.019*\"kyuedition\" + 0.019*\"word\" + 0.018*\"year\" + 0.015*\"high\" + 0.015*\"project\" + 0.015*\"account\" + 0.014*\"need\" + 0.014*\"like\" + 0.012*\"football\" + 0.012*\"buy\" + 0.011*\"ask\" + 0.010*\"call\" + 0.010*\"leave\" + 0.010*\"child\" + 0.009*\"sign\" + 0.009*\"school\" + 0.009*\"contract\" + 0.009*\"man\" + 0.009*\"business\" + 0.008*\"daraz_jdc\" + 0.008*\"jdc_boycott\" + 0.008*\"expose_jdc\" + 0.008*\"enemiesofislam\" + 0.008*\"rest\" + 0.008*\"hear\" + 0.008*\"win\" + 0.008*\"want\" + 0.008*\"case\" + 0.007*\"amp\" + 0.007*\"share\" + 0.007*\"hold\" + 0.007*\"quality\" + 0.006*\"make\" + 0.006*\"feel\" + 0.006*\"wait\" + 0.006*\"experience\" + 0.006*\"jafria_disaster\" + 0.006*\"new\" + 0.006*\"karar_boycott\" + 0.006*\"read\"'),\n",
       " (5,\n",
       "  '0.161*\"manager\" + 0.034*\"new\" + 0.027*\"job\" + 0.026*\"post\" + 0.021*\"datum_science\" + 0.021*\"site\" + 0.020*\"web\" + 0.020*\"machine_learn\" + 0.016*\"quality\" + 0.016*\"python\" + 0.015*\"publish\" + 0.015*\"cross\" + 0.013*\"opportunity\" + 0.013*\"exclusive_rep\" + 0.013*\"jeff_van\" + 0.013*\"draw_democrats\" + 0.012*\"machine_learning\" + 0.012*\"data_science\" + 0.012*\"role\" + 0.011*\"hire\" + 0.011*\"win\" + 0.009*\"apply\" + 0.009*\"business\" + 0.009*\"work\" + 0.009*\"learn\" + 0.009*\"sack\" + 0.008*\"trump_corruption\" + 0.008*\"sale\" + 0.008*\"afraid_donald\" + 0.008*\"datum\" + 0.008*\"medicine\" + 0.008*\"provide\" + 0.008*\"com\" + 0.008*\"look\" + 0.007*\"project\" + 0.007*\"offer\" + 0.007*\"management\" + 0.007*\"question\" + 0.006*\"update\" + 0.006*\"information\" + 0.006*\"people\" + 0.006*\"big\" + 0.006*\"live\" + 0.006*\"analysis\" + 0.006*\"trust\" + 0.006*\"share\" + 0.005*\"month\" + 0.005*\"afraid_trump\" + 0.005*\"today\" + 0.005*\"form\"')]"
      ]
     },
     "execution_count": 42,
     "metadata": {},
     "output_type": "execute_result"
    }
   ],
   "source": [
    "# model_topics = optimal_model.show_topics(formatted=False)\n",
    "optimal_model_six.print_topics(num_words=50)"
   ]
  },
  {
   "cell_type": "markdown",
   "metadata": {},
   "source": [
    "### **Visualising the topics**"
   ]
  },
  {
   "cell_type": "code",
   "execution_count": 43,
   "metadata": {},
   "outputs": [
    {
     "data": {
      "text/html": [
       "\n",
       "<link rel=\"stylesheet\" type=\"text/css\" href=\"https://cdn.jsdelivr.net/gh/bmabey/pyLDAvis@3.4.0/pyLDAvis/js/ldavis.v1.0.0.css\">\n",
       "\n",
       "\n",
       "<div id=\"ldavis_el1971221187952362883214336396\" style=\"background-color:white;\"></div>\n",
       "<script type=\"text/javascript\">\n",
       "\n",
       "var ldavis_el1971221187952362883214336396_data = {\"mdsDat\": {\"x\": [-0.08406854398222538, -0.33706464250315654, 0.11668934246271515, 0.07551917815704058, 0.012102108902261731, 0.2168225569633644], \"y\": [-0.25942651243719694, 0.05259913407991418, -0.12456558565386806, 0.028050691368397367, 0.2805515396983826, 0.022790732944370926], \"topics\": [1, 2, 3, 4, 5, 6], \"cluster\": [1, 1, 1, 1, 1, 1], \"Freq\": [28.645948199805193, 24.53069614261292, 13.770812996592518, 11.590837346309367, 11.296630999663885, 10.165074315016113]}, \"tinfo\": {\"Term\": [\"manager\", \"ai\", \"healthcare\", \"football\", \"usa\", \"corruption\", \"truth\", \"disaster\", \"virus\", \"politic\", \"chelsea\", \"game\", \"god\", \"job\", \"post\", \"messi\", \"fire\", \"new\", \"eat\", \"player\", \"college_football\", \"trump\", \"time\", \"goal\", \"april_kyambogo\", \"pitch_pm\", \"team\", \"site\", \"catchthefire\", \"datum_science\", \"usa\", \"corruption\", \"truth\", \"politic\", \"trump\", \"nigeriadecide\", \"country\", \"medium\", \"election\", \"president\", \"biden\", \"america\", \"video\", \"party\", \"tweet\", \"fight_corruption\", \"news_justice\", \"congo_mining\", \"turn_washington\", \"riches_take\", \"uk\", \"politician\", \"congress\", \"social\", \"war\", \"political\", \"nigerian\", \"soon\", \"maga\", \"attack\", \"sell\", \"people\", \"lie\", \"government\", \"day\", \"pay\", \"pm\", \"amp\", \"check\", \"don\", \"twitter\", \"let\", \"right\", \"china\", \"news\", \"world\", \"know\", \"life\", \"like\", \"healthcare\", \"goal\", \"artificialintelligence\", \"patient\", \"healthtech\", \"innovation\", \"machinelearne\", \"medical\", \"tool\", \"digitalhealth\", \"digital\", \"ai_ml\", \"increase\", \"truth_social\", \"impact\", \"blockchain\", \"ai\", \"experience_period\", \"gt_atikugate\", \"instantly_naturally\", \"nuvapad_drug\", \"obidatti_nigeriadecide\", \"period_pain\", \"thepeoplestownhall\", \"well_click\", \"iot\", \"jdc_enemiesofislam\", \"boycott_daraz\", \"boycott_jdc\", \"jdc_expose\", \"technology\", \"industry\", \"tech\", \"health\", \"chatgpt\", \"care\", \"future\", \"improve\", \"datum\", \"transform\", \"gt_gt\", \"amp\", \"datascience\", \"thank\", \"artificial_intelligence\", \"change\", \"read\", \"great\", \"virus\", \"ve\", \"woman\", \"cup\", \"covid\", \"happy\", \"second\", \"return\", \"official\", \"finally\", \"continue\", \"record\", \"order\", \"local\", \"major\", \"reason\", \"april_pm\", \"recent\", \"test\", \"atikugate_obidatti\", \"click_gt\", \"drug_experience\", \"naturally_nuvapad\", \"nigeriadecide_thepeoplestownhall\", \"pain_instantly\", \"period_well\", \"stop_period\", \"vaccine\", \"spread\", \"europe\", \"act\", \"take\", \"th\", \"football\", \"bad\", \"doesn\", \"head\", \"feel\", \"national\", \"start\", \"safe\", \"work\", \"team\", \"play\", \"way\", \"good\", \"playoff\", \"say\", \"blue\", \"player\", \"world\", \"go\", \"club\", \"know\", \"help\", \"game\", \"new\", \"want\", \"sport\", \"time\", \"amp\", \"disaster\", \"god\", \"fire\", \"eat\", \"college_football\", \"april_kyambogo\", \"pitch_pm\", \"catchthefire\", \"kyuedition\", \"account\", \"buy\", \"ask\", \"call\", \"school\", \"daraz_jdc\", \"enemiesofislam\", \"expose_jdc\", \"jdc_boycott\", \"rest\", \"hear\", \"wait\", \"karar_boycott\", \"different\", \"hack\", \"deal\", \"linux\", \"bitcoin\", \"patriot\", \"christian\", \"javascript\", \"word\", \"sign\", \"high\", \"contract\", \"year\", \"project\", \"leave\", \"time\", \"need\", \"child\", \"manager\", \"like\", \"football\", \"man\", \"business\", \"post\", \"site\", \"web\", \"python\", \"publish\", \"cross\", \"exclusive_rep\", \"jeff_van\", \"draw_democrats\", \"opportunity\", \"data_science\", \"hire\", \"apply\", \"trump_corruption\", \"afraid_donald\", \"com\", \"offer\", \"analysis\", \"afraid_trump\", \"treatment\", \"london_uk\", \"book_digitalhealth\", \"ehealth_biotech\", \"genome_genetic\", \"healthcare_lifescience\", \"healthtec_medtech\", \"medical_tech\", \"telehealth_telemedicine\", \"world_congress\", \"programming\", \"code\", \"datum_science\", \"machine_learn\", \"manager\", \"job\", \"quality\", \"role\", \"machine_learning\", \"new\", \"sale\", \"provide\", \"sack\", \"medicine\", \"business\", \"win\", \"learn\", \"work\", \"datum\", \"chelsea\", \"graham_potter\", \"psg\", \"league\", \"liverpool\", \"coach\", \"lose\", \"crypto\", \"vs\", \"epl\", \"score\", \"career\", \"available\", \"japan\", \"ahead\", \"million\", \"crisis\", \"send\", \"great_usa\", \"guide\", \"sb_real\", \"truth_establish\", \"world_ministry\", \"old\", \"dynastic_politic\", \"pmatcbidiamondjubilee_corruption\", \"strength_society\", \"take_away\", \"nation_namo\", \"night\", \"fan\", \"match\", \"messi\", \"get\", \"season\", \"ronaldo\", \"city\", \"game\", \"player\", \"man\", \"week\", \"look\", \"manager\", \"manchester\", \"end\", \"football\", \"win\", \"news\", \"like\", \"club\", \"play\", \"time\", \"team\", \"watch\", \"new\"], \"Freq\": [893.0, 881.0, 645.0, 631.0, 497.0, 440.0, 426.0, 237.0, 188.0, 296.0, 157.0, 174.0, 115.0, 131.0, 99.0, 120.0, 91.0, 317.0, 89.0, 129.0, 88.0, 154.0, 187.0, 131.0, 83.0, 83.0, 164.0, 79.0, 79.0, 92.0, 496.36866381629187, 439.4307153407579, 426.05390581423916, 295.1985964718958, 153.7428331445689, 136.4124962262083, 87.71778591186238, 81.34372008133813, 77.82530576108418, 77.82436348723266, 71.22417458315861, 65.4473110473338, 56.06194637485492, 51.41818073596478, 56.48230017621093, 49.77051071284811, 48.12040346217319, 48.12014071273383, 48.12014071273383, 47.29500780954829, 46.636136409364866, 44.16787270613581, 42.34341761195419, 46.08605233740392, 41.690806896688045, 40.691104172021156, 39.04157225201519, 37.907577382856466, 36.56722907037877, 35.91346316361197, 72.01914113260744, 179.7317063638472, 72.05300409914625, 77.09662002279646, 152.86519565513788, 61.658799363738446, 52.060367546748544, 293.7889366693788, 83.68045956951417, 88.31011375144533, 52.536677918363736, 66.81243028971573, 61.02361618456258, 56.225186259304344, 75.24041754807918, 73.9958595269009, 68.57859577982313, 61.834827897624535, 57.90526959688057, 644.9138295631158, 130.90663847997527, 117.45079462836605, 90.81991853138379, 79.28146560659263, 76.61829032327933, 72.17815707181056, 62.601381887541635, 53.724901643379084, 53.53922366822807, 51.0541693599698, 49.100587851069896, 45.91974642309105, 45.541946850017226, 44.84037947868318, 43.95669926725367, 864.9386649820183, 42.887651429753056, 42.887651429753056, 42.887651429753056, 42.887651429753056, 42.887651429753056, 42.887651429753056, 42.887651429753056, 42.887651429753056, 42.88476906267333, 42.88459837067937, 41.111158985217465, 41.111158985217465, 41.111158985217465, 123.71977621415246, 102.85491446658864, 70.3272429179108, 85.38421646644834, 81.1999194790094, 83.26242187686977, 96.43622824337713, 56.61885638188239, 85.27983055341815, 58.63974096812585, 58.986051747678566, 153.64153964348873, 50.95737536130709, 54.01702159421474, 49.82955904616064, 58.120224367071295, 58.92505263602082, 52.90763225568838, 187.71422058096908, 57.41540128705443, 50.054713400358686, 49.89154249211061, 43.28661601420194, 38.86684169056114, 37.60047376559172, 33.96847829051942, 32.41226564287081, 28.32536424046732, 27.22019199466955, 26.960942633947177, 20.865647035367214, 19.95555860507892, 19.048449351611534, 18.952061657098813, 17.496486604230466, 16.678249592637673, 16.034437068402642, 15.58487972167975, 15.58487972167975, 15.58487972167975, 15.58487972167975, 15.58487972167975, 15.58487972167975, 15.58487972167975, 15.58487972167975, 15.58341408863847, 15.582548428706955, 15.670405834032907, 18.7512742859651, 46.291655922774765, 44.56467851484992, 441.97405247926616, 56.37102123493769, 23.587127239027755, 44.39419904124295, 82.04981371115147, 29.46903712004933, 55.43707979023463, 26.375628032354562, 89.14145666889353, 102.53984273563168, 73.4421269043439, 67.81603858849198, 111.32928546164467, 60.16680174681326, 71.38010099210857, 37.11903182249827, 61.542506332214344, 76.74443116675734, 54.48765446600184, 54.103767497228134, 57.87954309808261, 42.613674849931776, 53.10903603660487, 58.30740341361638, 41.50796034168634, 38.939905566541746, 39.36489123777464, 39.082810232468645, 236.3071253080681, 114.87135590520185, 90.9978058856285, 88.92301909868063, 87.47601707813278, 82.69530799108682, 82.69530799108682, 78.43347340298502, 74.17164614693299, 57.61146751213965, 47.74754729418339, 43.373154743859374, 40.970255063160074, 36.62953495145805, 33.379647878063146, 33.379647878063146, 33.379647878063146, 33.379647878063146, 32.998139331777224, 32.77464379033454, 24.363387768369954, 22.480412902746036, 21.764203615979916, 21.43782291898939, 20.100614677896104, 19.8746354045899, 19.582273585573542, 17.804746426896134, 16.249602171107053, 16.23768575719951, 73.81055002723905, 37.219753960802066, 59.01453222437125, 35.125119315095404, 72.47035397585975, 58.64966009903978, 38.77236316037916, 92.23737688580513, 56.524623108913715, 38.259211326289524, 93.25229388067358, 55.979188259635706, 48.68074492821103, 34.60137266907136, 34.14707153255373, 98.77758147707274, 78.7200133248139, 77.19303253440552, 59.69621298987697, 58.95244539684197, 56.40813603055743, 51.04693888228422, 51.04693888228422, 50.53804413769036, 51.46835656790911, 46.9724509161816, 43.65661196902606, 35.80806933761752, 32.21835855910837, 30.69224957372339, 29.190958447734673, 25.921714620703884, 22.547729136863254, 21.023751428922832, 19.064801968323305, 14.408615498985462, 13.899767203019902, 13.899767203019902, 13.899767203019902, 13.899767203019902, 13.899767203019902, 13.899767203019902, 13.899767203019902, 13.899767203019902, 13.898130782115283, 18.862532483975297, 81.48844446857453, 75.81578782974117, 618.6089485871262, 101.7146997469226, 60.368789127618214, 45.57426859906951, 47.36914363966683, 130.5530738031972, 31.5672631254688, 29.276077345574716, 33.35864737300103, 30.419413904077942, 35.48060293515193, 42.99945677587943, 34.066706689789804, 35.42768365563596, 30.520914875821212, 156.83143994897733, 56.344028351586374, 47.0846113391896, 47.07715236437406, 44.20657555183884, 38.448732470618616, 38.249883275202045, 35.817546953682715, 33.74334430572064, 29.81619085026251, 29.806831765914218, 29.122615504979073, 25.932571122601725, 24.305231797748345, 20.11004715545949, 17.16451729125413, 14.978409123069143, 14.905272588972615, 11.34600091553757, 11.467505043222465, 11.033817902673169, 11.033817902673169, 11.033817902673169, 8.593291176695827, 8.221288471840921, 7.9093899931451315, 7.9093899931451315, 7.9093899931451315, 6.6596608664441375, 16.29072089714086, 50.1376147422458, 41.849668113141675, 93.91128361307692, 56.92292838923156, 65.39384817166642, 42.455825559617104, 32.48645560809622, 104.77057356159898, 66.66689583800762, 56.49837125891176, 35.46737702177119, 50.235844939460996, 180.94853035976735, 26.499430703055445, 31.688586433484605, 132.68979922280303, 46.39363055971484, 43.62020046400135, 45.774664253038935, 38.245243921469786, 37.377601181579344, 38.46291738306955, 37.76796598553566, 34.16044567630025, 35.07548184194755], \"Total\": [893.0, 881.0, 645.0, 631.0, 497.0, 440.0, 426.0, 237.0, 188.0, 296.0, 157.0, 174.0, 115.0, 131.0, 99.0, 120.0, 91.0, 317.0, 89.0, 129.0, 88.0, 154.0, 187.0, 131.0, 83.0, 83.0, 164.0, 79.0, 79.0, 92.0, 497.21750835129393, 440.2795574522096, 426.9027995188803, 296.04732775410224, 154.59135232029664, 137.26153174834553, 88.57166815985802, 82.19453380169334, 78.67402840981092, 78.67363322276033, 72.07270137357571, 66.2961208831953, 56.91369116649929, 52.26742983069793, 57.44373330650996, 50.61844550982569, 48.96828298311042, 48.968088847065914, 48.968088847065914, 48.142928067716475, 47.48836667356841, 45.01621233682566, 43.19154758169724, 47.02020391990021, 42.53975849332231, 41.54034209605447, 39.8902752784232, 38.758805038821606, 37.41533641748391, 36.762872412724555, 78.02293312418914, 215.0094784424787, 78.99552454189848, 88.22156771743877, 199.2364117165578, 69.15663128915675, 56.26425988976305, 537.091503851054, 115.04455861159313, 128.57653899871963, 57.179773961872534, 94.27950970485809, 80.91097524242491, 68.14924693421254, 135.0589575617861, 188.82568232605504, 150.93824812615424, 113.1086022460127, 216.55075914662157, 645.7424022826223, 131.738962327648, 118.27937826600136, 91.64884104922415, 80.10984916804104, 77.44672684887854, 73.00741669680262, 63.430575018689396, 54.55424287642747, 54.36753227227067, 51.88646470597658, 49.92901892396102, 46.750655846174695, 46.375316150053386, 45.672491547551104, 44.786916080930354, 881.5014756319025, 43.71577874684508, 43.71577874684508, 43.71577874684508, 43.71577874684508, 43.71577874684508, 43.71577874684508, 43.71577874684508, 43.71577874684508, 43.7141309678839, 43.714229479509676, 41.93993654148916, 41.93993654148916, 41.93993654148916, 127.16024444420577, 108.28388584943967, 73.74826274056376, 91.98056000201304, 88.50052863948868, 91.57120437198823, 108.11712031997253, 62.77937341409111, 116.46904868308037, 68.92066254568152, 75.28957760570114, 537.091503851054, 64.46023868184767, 76.39616700273822, 62.582628006593815, 107.34633936242841, 134.64164848929127, 113.06562012634534, 188.68207106589415, 58.3871404851705, 51.02347628586699, 50.85725124091269, 44.255062184441485, 39.835215788139756, 38.56805368324363, 34.93503385253354, 33.38071979340882, 29.292969826362913, 28.194263702485596, 27.93017319572101, 21.83478537442409, 20.92678850769983, 20.017620708182363, 19.921476724809928, 18.462748037768808, 17.651074584944197, 17.004792168697513, 16.550042516067037, 16.550042516067037, 16.550042516067037, 16.550042516067037, 16.550042516067037, 16.550042516067037, 16.550042516067037, 16.550042516067037, 16.550002339472744, 16.5504560955696, 16.64846215826718, 19.950163704455107, 52.78826255694065, 51.445479006241165, 631.4855424673522, 67.70473190407026, 26.22617380359954, 53.94848701355146, 112.72685862837882, 35.26137472634108, 74.8617759888903, 30.965397251443004, 136.74146703675004, 164.43985837637, 111.68972739651252, 107.93254743516496, 214.22391393907773, 93.79808644629708, 141.01553166666557, 53.19779395383314, 129.07750795618207, 188.82568232605504, 116.60480397951078, 116.10349981665175, 150.93824812615424, 83.301137881585, 174.28946941334308, 317.4183223605602, 113.5402721741159, 86.17833047911432, 187.0639427978831, 537.091503851054, 237.2559213017533, 115.81830172776479, 91.94366903579106, 89.86802630288298, 88.42079736923603, 83.6399748828332, 83.6399748828332, 79.3781402947314, 75.11631303867937, 58.5579427281656, 48.6957671453251, 44.32429024346588, 41.91980900434935, 37.57772036531446, 34.324788193022954, 34.324788193022954, 34.324788193022954, 34.324788193022954, 33.94472970962636, 33.72469630051282, 25.311685728163525, 23.425595422041226, 22.71470237740915, 22.38681828308195, 21.049443845170785, 20.827413451895954, 20.53014275127023, 18.754964306361884, 17.197509273463265, 17.193053390098914, 86.42420461133798, 43.18537330784394, 73.02561574076105, 42.121549757661725, 109.47147694405464, 85.39114005203278, 50.955803082142296, 187.0639427978831, 107.23039827211399, 67.13663146844473, 893.497814180363, 216.55075914662157, 631.4855424673522, 105.32068311795359, 84.57537056495161, 99.72979729653922, 79.66872158713734, 78.14210720718062, 60.64588392517654, 59.901714323693305, 57.35724018413404, 51.99488808414521, 51.99488808414521, 51.48599401976366, 52.47995630398256, 47.92425586238329, 44.60627339584172, 36.75811273702305, 33.1668089082165, 31.64020485215113, 30.141303354074548, 26.87463199607048, 23.49839343135363, 21.971691748006783, 20.058277447562936, 15.356501400429083, 14.847639815123292, 14.847639815123292, 14.847639815123292, 14.847639815123292, 14.847639815123292, 14.847639815123292, 14.847639815123292, 14.847639815123292, 14.847634862661176, 20.2675336226864, 92.9084857287787, 87.83149947285443, 893.497814180363, 131.90460099925735, 86.99987364541472, 63.94791127279632, 69.82099188484523, 317.4183223605602, 46.14018101948825, 48.71875468971613, 66.71665661918215, 55.80883520386802, 84.57537056495161, 154.37435507761035, 107.4903065947216, 136.74146703675004, 116.46904868308037, 157.84219445547208, 57.35469369299402, 48.095488527956334, 48.10679876999991, 45.21754418882159, 39.46196654065879, 39.26409039392187, 36.83018795706516, 34.75812693266446, 30.826747767595933, 30.841284670363258, 30.13689048783049, 26.947033943335246, 25.317440131996584, 21.124937996999456, 18.181139027429293, 15.99354463470785, 15.93126212405049, 12.356577016105193, 12.496099571654, 12.04396701587639, 12.04396701587639, 12.04396701587639, 9.615751168029249, 9.232345974909425, 8.919517126313242, 8.919517126313242, 8.919517126313242, 7.669685109050697, 19.7914101203223, 61.71186055111333, 51.516436081172984, 120.44875477679925, 73.55608702833223, 85.40286933652618, 58.34460083754562, 44.01258159554289, 174.28946941334308, 129.07750795618207, 105.32068311795359, 60.586294019141945, 98.95176083810631, 893.497814180363, 40.61359263685175, 54.807756010637235, 631.4855424673522, 154.37435507761035, 135.0589575617861, 216.55075914662157, 116.10349981665175, 111.68972739651252, 187.0639427978831, 164.43985837637, 94.91884389314585, 317.4183223605602], \"Category\": [\"Default\", \"Default\", \"Default\", \"Default\", \"Default\", \"Default\", \"Default\", \"Default\", \"Default\", \"Default\", \"Default\", \"Default\", \"Default\", \"Default\", \"Default\", \"Default\", \"Default\", \"Default\", \"Default\", \"Default\", \"Default\", \"Default\", \"Default\", \"Default\", \"Default\", \"Default\", \"Default\", \"Default\", \"Default\", \"Default\", \"Topic1\", \"Topic1\", \"Topic1\", \"Topic1\", \"Topic1\", \"Topic1\", \"Topic1\", \"Topic1\", \"Topic1\", \"Topic1\", \"Topic1\", \"Topic1\", \"Topic1\", \"Topic1\", \"Topic1\", \"Topic1\", \"Topic1\", \"Topic1\", \"Topic1\", \"Topic1\", \"Topic1\", \"Topic1\", \"Topic1\", \"Topic1\", \"Topic1\", \"Topic1\", \"Topic1\", \"Topic1\", \"Topic1\", \"Topic1\", \"Topic1\", \"Topic1\", \"Topic1\", \"Topic1\", \"Topic1\", \"Topic1\", \"Topic1\", \"Topic1\", \"Topic1\", \"Topic1\", \"Topic1\", \"Topic1\", \"Topic1\", \"Topic1\", \"Topic1\", \"Topic1\", \"Topic1\", \"Topic1\", \"Topic1\", \"Topic2\", \"Topic2\", \"Topic2\", \"Topic2\", \"Topic2\", \"Topic2\", \"Topic2\", \"Topic2\", \"Topic2\", \"Topic2\", \"Topic2\", \"Topic2\", \"Topic2\", \"Topic2\", \"Topic2\", \"Topic2\", \"Topic2\", \"Topic2\", \"Topic2\", \"Topic2\", \"Topic2\", \"Topic2\", \"Topic2\", \"Topic2\", \"Topic2\", \"Topic2\", \"Topic2\", \"Topic2\", \"Topic2\", \"Topic2\", \"Topic2\", \"Topic2\", \"Topic2\", \"Topic2\", \"Topic2\", \"Topic2\", \"Topic2\", \"Topic2\", \"Topic2\", \"Topic2\", \"Topic2\", \"Topic2\", \"Topic2\", \"Topic2\", \"Topic2\", \"Topic2\", \"Topic2\", \"Topic2\", \"Topic3\", \"Topic3\", \"Topic3\", \"Topic3\", \"Topic3\", \"Topic3\", \"Topic3\", \"Topic3\", \"Topic3\", \"Topic3\", \"Topic3\", \"Topic3\", \"Topic3\", \"Topic3\", \"Topic3\", \"Topic3\", \"Topic3\", \"Topic3\", \"Topic3\", \"Topic3\", \"Topic3\", \"Topic3\", \"Topic3\", \"Topic3\", \"Topic3\", \"Topic3\", \"Topic3\", \"Topic3\", \"Topic3\", \"Topic3\", \"Topic3\", \"Topic3\", \"Topic3\", \"Topic3\", \"Topic3\", \"Topic3\", \"Topic3\", \"Topic3\", \"Topic3\", \"Topic3\", \"Topic3\", \"Topic3\", \"Topic3\", \"Topic3\", \"Topic3\", \"Topic3\", \"Topic3\", \"Topic3\", \"Topic3\", \"Topic3\", \"Topic3\", \"Topic3\", \"Topic3\", \"Topic3\", \"Topic3\", \"Topic3\", \"Topic3\", \"Topic3\", \"Topic3\", \"Topic3\", \"Topic3\", \"Topic4\", \"Topic4\", \"Topic4\", \"Topic4\", \"Topic4\", \"Topic4\", \"Topic4\", \"Topic4\", \"Topic4\", \"Topic4\", \"Topic4\", \"Topic4\", \"Topic4\", \"Topic4\", \"Topic4\", \"Topic4\", \"Topic4\", \"Topic4\", \"Topic4\", \"Topic4\", \"Topic4\", \"Topic4\", \"Topic4\", \"Topic4\", \"Topic4\", \"Topic4\", \"Topic4\", \"Topic4\", \"Topic4\", \"Topic4\", \"Topic4\", \"Topic4\", \"Topic4\", \"Topic4\", \"Topic4\", \"Topic4\", \"Topic4\", \"Topic4\", \"Topic4\", \"Topic4\", \"Topic4\", \"Topic4\", \"Topic4\", \"Topic4\", \"Topic4\", \"Topic5\", \"Topic5\", \"Topic5\", \"Topic5\", \"Topic5\", \"Topic5\", \"Topic5\", \"Topic5\", \"Topic5\", \"Topic5\", \"Topic5\", \"Topic5\", \"Topic5\", \"Topic5\", \"Topic5\", \"Topic5\", \"Topic5\", \"Topic5\", \"Topic5\", \"Topic5\", \"Topic5\", \"Topic5\", \"Topic5\", \"Topic5\", \"Topic5\", \"Topic5\", \"Topic5\", \"Topic5\", \"Topic5\", \"Topic5\", \"Topic5\", \"Topic5\", \"Topic5\", \"Topic5\", \"Topic5\", \"Topic5\", \"Topic5\", \"Topic5\", \"Topic5\", \"Topic5\", \"Topic5\", \"Topic5\", \"Topic5\", \"Topic5\", \"Topic5\", \"Topic5\", \"Topic5\", \"Topic5\", \"Topic6\", \"Topic6\", \"Topic6\", \"Topic6\", \"Topic6\", \"Topic6\", \"Topic6\", \"Topic6\", \"Topic6\", \"Topic6\", \"Topic6\", \"Topic6\", \"Topic6\", \"Topic6\", \"Topic6\", \"Topic6\", \"Topic6\", \"Topic6\", \"Topic6\", \"Topic6\", \"Topic6\", \"Topic6\", \"Topic6\", \"Topic6\", \"Topic6\", \"Topic6\", \"Topic6\", \"Topic6\", \"Topic6\", \"Topic6\", \"Topic6\", \"Topic6\", \"Topic6\", \"Topic6\", \"Topic6\", \"Topic6\", \"Topic6\", \"Topic6\", \"Topic6\", \"Topic6\", \"Topic6\", \"Topic6\", \"Topic6\", \"Topic6\", \"Topic6\", \"Topic6\", \"Topic6\", \"Topic6\", \"Topic6\", \"Topic6\", \"Topic6\", \"Topic6\", \"Topic6\", \"Topic6\", \"Topic6\"], \"logprob\": [30.0, 29.0, 28.0, 27.0, 26.0, 25.0, 24.0, 23.0, 22.0, 21.0, 20.0, 19.0, 18.0, 17.0, 16.0, 15.0, 14.0, 13.0, 12.0, 11.0, 10.0, 9.0, 8.0, 7.0, 6.0, 5.0, 4.0, 3.0, 2.0, 1.0, -2.9755, -3.0973, -3.1282, -3.4952, -4.1475, -4.2671, -4.7087, -4.7841, -4.8283, -4.8284, -4.917, -5.0016, -5.1564, -5.2428, -5.1489, -5.2754, -5.3091, -5.3091, -5.3091, -5.3264, -5.3404, -5.3948, -5.437, -5.3523, -5.4525, -5.4768, -5.5182, -5.5477, -5.5837, -5.6017, -4.9059, -3.9913, -4.9054, -4.8378, -4.1533, -5.0612, -5.2304, -3.4999, -4.7558, -4.702, -5.2213, -4.9809, -5.0715, -5.1534, -4.8621, -4.8788, -4.9548, -5.0583, -5.124, -2.5586, -4.1532, -4.2617, -4.5188, -4.6547, -4.6889, -4.7486, -4.8909, -5.0438, -5.0473, -5.0948, -5.1339, -5.2008, -5.2091, -5.2246, -5.2445, -2.2651, -5.2691, -5.2691, -5.2691, -5.2691, -5.2691, -5.2691, -5.2691, -5.2691, -5.2692, -5.2692, -5.3114, -5.3114, -5.3114, -4.2097, -4.3944, -4.7746, -4.5806, -4.6308, -4.6057, -4.4588, -4.9914, -4.5818, -4.9563, -4.9504, -3.9931, -5.0967, -5.0384, -5.1191, -4.9652, -4.9515, -5.0592, -3.2154, -4.4, -4.5372, -4.5405, -4.6825, -4.7902, -4.8233, -4.9249, -4.9718, -5.1066, -5.1464, -5.156, -5.4122, -5.4568, -5.5034, -5.5084, -5.5883, -5.6362, -5.6756, -5.704, -5.704, -5.704, -5.704, -5.704, -5.704, -5.704, -5.704, -5.7041, -5.7042, -5.6986, -5.5191, -4.6154, -4.6534, -2.3591, -4.4184, -5.2896, -4.6572, -4.043, -5.067, -4.4351, -5.1779, -3.9601, -3.8201, -4.1539, -4.2336, -3.7379, -4.3532, -4.1823, -4.8362, -4.3306, -4.1099, -4.4524, -4.4594, -4.392, -4.6982, -4.478, -4.3846, -4.7245, -4.7883, -4.7775, -4.7847, -2.8129, -3.5342, -3.7672, -3.7902, -3.8066, -3.8628, -3.8628, -3.9158, -3.9716, -4.2243, -4.4121, -4.5082, -4.5652, -4.6772, -4.7701, -4.7701, -4.7701, -4.7701, -4.7816, -4.7884, -5.0849, -5.1654, -5.1977, -5.2129, -5.2773, -5.2886, -5.3034, -5.3985, -5.4899, -5.4907, -3.9765, -4.6612, -4.2002, -4.7191, -3.9948, -4.2064, -4.6203, -3.7536, -4.2433, -4.6336, -3.7427, -4.253, -4.3927, -4.7341, -4.7473, -3.6594, -3.8864, -3.906, -4.163, -4.1756, -4.2197, -4.3196, -4.3196, -4.3296, -4.3113, -4.4027, -4.4759, -4.6741, -4.7798, -4.8283, -4.8784, -4.9972, -5.1367, -5.2066, -5.3045, -5.5845, -5.6204, -5.6204, -5.6204, -5.6204, -5.6204, -5.6204, -5.6204, -5.6204, -5.6205, -5.3151, -3.8518, -3.924, -1.8248, -3.6301, -4.1518, -4.433, -4.3943, -3.3805, -4.8002, -4.8755, -4.745, -4.8372, -4.6833, -4.4911, -4.724, -4.6848, -4.8339, -3.0916, -4.1153, -4.2948, -4.295, -4.3579, -4.4974, -4.5026, -4.5683, -4.628, -4.7517, -4.752, -4.7752, -4.8913, -4.9561, -5.1455, -5.3039, -5.4401, -5.445, -5.7179, -5.7072, -5.7458, -5.7458, -5.7458, -5.9958, -6.04, -6.0787, -6.0787, -6.0787, -6.2507, -5.3562, -4.232, -4.4127, -3.6044, -4.1051, -3.9663, -4.3983, -4.6659, -3.495, -3.947, -4.1125, -4.5781, -4.23, -2.9485, -4.8696, -4.6908, -3.2587, -4.3096, -4.3712, -4.323, -4.5027, -4.5257, -4.4971, -4.5153, -4.6157, -4.5893], \"loglift\": [30.0, 29.0, 28.0, 27.0, 26.0, 25.0, 24.0, 23.0, 22.0, 21.0, 20.0, 19.0, 18.0, 17.0, 16.0, 15.0, 14.0, 13.0, 12.0, 11.0, 10.0, 9.0, 8.0, 7.0, 6.0, 5.0, 4.0, 3.0, 2.0, 1.0, 1.2484, 1.2482, 1.2482, 1.2473, 1.2447, 1.244, 1.2405, 1.2398, 1.2393, 1.2393, 1.2383, 1.2373, 1.2351, 1.2338, 1.2333, 1.2333, 1.2327, 1.2327, 1.2327, 1.2324, 1.232, 1.2311, 1.2303, 1.2301, 1.23, 1.2295, 1.2287, 1.228, 1.2272, 1.2268, 1.1701, 1.0709, 1.1582, 1.1154, 0.9852, 1.1354, 1.1725, 0.6469, 0.9318, 0.8745, 1.1655, 0.9058, 0.9681, 1.0578, 0.6651, 0.3133, 0.4613, 0.6463, -0.0689, 1.404, 1.3989, 1.3982, 1.3962, 1.3949, 1.3945, 1.3938, 1.3921, 1.3899, 1.3899, 1.3891, 1.3885, 1.3873, 1.3871, 1.3869, 1.3865, 1.3863, 1.3861, 1.3861, 1.3861, 1.3861, 1.3861, 1.3861, 1.3861, 1.3861, 1.3861, 1.3861, 1.3853, 1.3853, 1.3853, 1.3778, 1.3538, 1.3577, 1.3308, 1.3192, 1.3101, 1.2909, 1.302, 1.0936, 1.2437, 1.1612, 0.1537, 1.1702, 1.0586, 1.1774, 0.7917, 0.5789, 0.6458, 1.9775, 1.9658, 1.9634, 1.9634, 1.9605, 1.958, 1.9572, 1.9546, 1.9532, 1.949, 1.9475, 1.9473, 1.9372, 1.9351, 1.933, 1.9327, 1.9289, 1.9259, 1.9239, 1.9225, 1.9225, 1.9225, 1.9225, 1.9225, 1.9225, 1.9225, 1.9225, 1.9224, 1.9224, 1.9221, 1.9206, 1.8513, 1.839, 1.6258, 1.7994, 1.8766, 1.7877, 1.665, 1.8032, 1.6822, 1.8222, 1.5548, 1.5103, 1.5634, 1.5179, 1.3281, 1.5386, 1.3018, 1.6227, 1.2419, 1.0823, 1.2218, 1.219, 1.0241, 1.3123, 0.7942, 0.2881, 0.9763, 1.1882, 0.424, -0.6379, 2.1509, 2.1467, 2.1446, 2.1444, 2.1442, 2.1436, 2.1436, 2.143, 2.1423, 2.1387, 2.1353, 2.1333, 2.132, 2.1294, 2.127, 2.127, 2.127, 2.127, 2.1267, 2.1264, 2.1168, 2.1138, 2.1122, 2.1116, 2.1088, 2.1081, 2.1077, 2.103, 2.0983, 2.0978, 1.9972, 2.0063, 1.9419, 1.9733, 1.7425, 1.7793, 1.8817, 1.4479, 1.5147, 1.5926, -0.1049, 0.8021, -0.4078, 1.0418, 1.248, 2.1711, 2.1687, 2.1684, 2.1649, 2.1647, 2.164, 2.1623, 2.1623, 2.1621, 2.1612, 2.1606, 2.1591, 2.1545, 2.1517, 2.1502, 2.1486, 2.1446, 2.1394, 2.1366, 2.1299, 2.117, 2.1147, 2.1147, 2.1147, 2.1147, 2.1147, 2.1147, 2.1147, 2.1147, 2.1146, 2.1088, 2.0495, 2.0336, 1.813, 1.9208, 1.8152, 1.8419, 1.7927, 1.2922, 1.8011, 1.6714, 1.4875, 1.5738, 1.312, 0.9025, 1.0316, 0.8301, 0.8415, 2.2798, 2.2684, 2.265, 2.2646, 2.2636, 2.2602, 2.26, 2.2583, 2.2566, 2.2529, 2.2521, 2.252, 2.2478, 2.2454, 2.237, 2.2287, 2.2206, 2.2196, 2.2009, 2.2003, 2.1986, 2.1986, 2.1986, 2.1738, 2.1702, 2.166, 2.166, 2.166, 2.145, 2.0916, 2.0785, 2.0784, 2.0373, 2.0299, 2.0193, 1.9683, 1.9826, 1.7773, 1.6255, 1.6634, 1.7508, 1.6083, 0.6893, 1.8592, 1.7383, 0.7262, 1.084, 1.156, 0.7321, 1.1757, 1.1916, 0.7045, 0.8151, 1.2643, 0.0835]}, \"token.table\": {\"Topic\": [4, 3, 5, 5, 6, 2, 5, 2, 1, 1, 2, 3, 4, 5, 6, 5, 5, 4, 3, 2, 4, 5, 2, 4, 3, 1, 6, 3, 6, 1, 4, 2, 3, 4, 5, 2, 2, 2, 3, 4, 5, 4, 4, 2, 6, 6, 4, 1, 2, 3, 2, 4, 1, 2, 6, 1, 3, 4, 5, 1, 3, 4, 5, 6, 3, 3, 4, 5, 6, 6, 5, 6, 4, 5, 1, 1, 3, 3, 4, 1, 1, 3, 6, 5, 6, 3, 4, 5, 2, 5, 2, 5, 4, 5, 1, 2, 3, 4, 4, 4, 2, 2, 4, 3, 4, 1, 3, 6, 5, 3, 6, 4, 5, 1, 1, 6, 4, 6, 3, 5, 2, 4, 3, 4, 6, 3, 4, 6, 1, 3, 4, 1, 3, 4, 6, 2, 6, 2, 3, 6, 5, 1, 6, 1, 3, 6, 2, 4, 1, 2, 3, 4, 5, 6, 1, 3, 5, 6, 1, 2, 3, 6, 2, 2, 3, 6, 4, 3, 2, 3, 2, 5, 2, 5, 5, 2, 4, 2, 3, 2, 4, 5, 2, 2, 3, 2, 2, 4, 2, 2, 2, 6, 4, 4, 2, 2, 5, 5, 6, 4, 1, 2, 3, 6, 4, 6, 1, 2, 3, 5, 2, 4, 1, 2, 4, 1, 3, 1, 2, 5, 1, 2, 3, 4, 6, 4, 6, 3, 5, 3, 5, 6, 6, 4, 5, 2, 5, 2, 1, 3, 1, 4, 6, 4, 5, 6, 3, 5, 6, 2, 6, 2, 5, 2, 5, 1, 3, 6, 6, 6, 3, 5, 3, 1, 4, 1, 2, 3, 4, 5, 6, 1, 3, 6, 1, 1, 3, 1, 1, 6, 2, 2, 5, 3, 6, 5, 3, 3, 1, 2, 4, 1, 5, 1, 4, 5, 2, 3, 4, 3, 6, 3, 6, 3, 6, 1, 2, 6, 6, 1, 1, 1, 5, 1, 5, 4, 5, 2, 5, 6, 5, 5, 4, 5, 1, 2, 3, 4, 6, 3, 3, 3, 4, 3, 1, 1, 5, 1, 2, 5, 5, 6, 3, 5, 6, 2, 3, 5, 6, 1, 3, 4, 5, 6, 4, 6, 3, 5, 6, 3, 1, 4, 6, 4, 5, 5, 1, 1, 1, 3, 5, 3, 3, 4, 6, 3, 6, 3, 4, 6, 2, 3, 5, 6, 2, 6, 2, 6, 5, 3, 2, 3, 1, 2, 6, 2, 1, 2, 3, 4, 6, 2, 1, 2, 5, 1, 5, 1, 6, 2, 1, 1, 1, 2, 1, 1, 3, 3, 1, 3, 6, 4, 1, 3, 4, 6, 1, 1, 3, 4, 6, 2, 3, 5, 1, 2, 6, 2, 1, 3, 4, 5, 6, 3, 3, 4, 2, 3, 5, 1, 2, 3, 5, 5, 6, 1, 4, 6], \"Freq\": [0.9904719547482115, 0.9523731374573671, 0.9797660964856995, 0.9557752876223137, 0.9467483408870009, 0.981280263178149, 0.018150848798670963, 0.9813932069168861, 0.980449521541707, 0.5473927587607715, 0.2867295403032613, 0.072613325141735, 0.050270763559662694, 0.027928201977590387, 0.01675692118655423, 0.9787903188867104, 0.9793756349123041, 0.9923484567788344, 0.9207730054715312, 0.7989437579184421, 0.11185212610858189, 0.0798943757918442, 0.9891834207724348, 0.9701226971443473, 0.9667648880337891, 0.9792488355055601, 0.9648557260392113, 0.8271209179196736, 0.1477001639142274, 0.985116398398673, 0.9741773470504763, 0.982429777493311, 0.6955175628543895, 0.2819665795355633, 0.9429108042976692, 0.9775885082572949, 0.9775885082572949, 0.10641395881426546, 0.0709426392095103, 0.4020082888538917, 0.4138320620554768, 0.9857119584285696, 0.9780578913359573, 0.9063984750362181, 0.08736370843722584, 0.9622757866048066, 0.9826382894633919, 0.09315641371092748, 0.5403071995233794, 0.3539943721015244, 0.9152487702074362, 0.07909557273397597, 0.7301518734458011, 0.26946081043833137, 0.9946643262381297, 0.08936998876418299, 0.2234249719104575, 0.5660099288398256, 0.10426498689154683, 0.821725881344797, 0.16141044097844226, 0.9303672843304647, 0.249928534097031, 0.7270648264640902, 0.9667648880337891, 0.4651022586336819, 0.025839014368537885, 0.17226009579025256, 0.32729418200147986, 0.9629525168454925, 0.9374598978699811, 0.049339994624735845, 0.983931411935781, 0.9621349037011612, 0.9802302097169978, 0.9724124823394341, 0.9576416069918396, 0.14244490135144247, 0.8309285912167478, 0.9970937613828494, 0.9935456995251998, 0.9716402571255968, 0.937878396728156, 0.9763370730569167, 0.9774590355598253, 0.9831439721967697, 0.9614043301426041, 0.9807142365436547, 0.7911854042569945, 0.2016747108890378, 0.7298076266707592, 0.2661651344328651, 0.1183960745212395, 0.8718256396564, 0.7679319190794518, 0.07528744304700508, 0.11544074600540778, 0.04517246582820304, 0.9501438682708213, 0.968535692630516, 0.982915299568011, 0.9932398573760883, 0.9947064701489328, 0.9151163330087442, 0.07625969441739534, 0.684417240386882, 0.0699972177668402, 0.2411015278635607, 0.9905606557857831, 0.9667648880337891, 0.8665186531940475, 0.9903410997371027, 0.9429108042976692, 0.9914326439940266, 0.40140304222143636, 0.5838589705039074, 0.9614043301426041, 0.9731808306919427, 0.9610497262688512, 0.9808656558211041, 0.9836265356042242, 0.9614043301426041, 0.09722604287761594, 0.08102170239801328, 0.8102170239801327, 0.727422026992923, 0.2217750082295497, 0.04435500164590994, 0.9877822105440666, 0.9558607463146576, 0.9897364435671616, 0.012668540230932683, 0.6999368477590308, 0.07759480891446269, 0.21061448133925584, 0.8879259798622834, 0.10174151852588664, 0.09180130075474938, 0.3040918087501073, 0.6024460362030427, 0.9429108042976692, 0.21752108692020475, 0.7749188721532294, 0.394494895837078, 0.46310270380874374, 0.13721561594333148, 0.9943907078468545, 0.9929346077816937, 0.23806865938647578, 0.004668012929146584, 0.5181494351352708, 0.060684168078905594, 0.037344103433172675, 0.14004038787439752, 0.8728024449375025, 0.05667548343750016, 0.06801058012500019, 0.9763804214482363, 0.31839917350448127, 0.46875433877048633, 0.2122661156696542, 0.8902141738495158, 0.9836265356042242, 0.7836410015339541, 0.21251281397530958, 0.8802746758638405, 0.9380520150051876, 0.9790332304817481, 0.16682580917865716, 0.8155928448734351, 0.9241083115621359, 0.06523117493379783, 0.9988503120129668, 0.9429108042976692, 0.9429108042976692, 0.9861459086545903, 0.9785114061797556, 0.48018551747589766, 0.51619943128659, 0.1780197245600728, 0.8079356730034074, 0.9864083378931575, 0.9852757858228306, 0.9079415244244233, 0.07964399337056345, 0.9839434157106886, 0.9512033964426941, 0.04617492215741233, 0.9942318175724814, 0.9836265356042242, 0.9836636128393229, 0.9479631382506329, 0.9306084054397245, 0.9614043301426041, 0.9836613961171509, 0.9775885082572949, 0.9808656558211041, 0.7732861418577376, 0.21985586386151362, 0.9391436846595635, 0.4571405913120827, 0.1391297451819382, 0.38426310574059125, 0.01987567788313403, 0.9851388733882007, 0.976992882538463, 0.11163797350810858, 0.44655189403243434, 0.12094113796711764, 0.31630759160630767, 0.23549820185653117, 0.7653691560337263, 0.7106528259400524, 0.21213517192240372, 0.07424731017284131, 0.9114440396153314, 0.07595366996794428, 0.548145753451618, 0.3182781794235201, 0.1326159080931334, 0.2678355884253886, 0.10621066437558516, 0.15700706907695197, 0.2585998784796856, 0.2124213287511703, 0.9602728656725911, 0.9730736330186949, 0.9557128172170888, 0.9116659866034863, 0.19201275287142847, 0.2930720964879698, 0.5052967180827065, 0.9678054328716207, 0.12523980651610878, 0.8652932086567516, 0.31509148475410215, 0.6731499901564909, 0.9862011732179706, 0.9888993002000692, 0.9491637531244459, 0.13292735657934102, 0.33231839144835257, 0.5317094263173641, 0.10408531338748957, 0.6927828923317854, 0.2025746421842539, 0.22160068626466764, 0.12311149236925979, 0.640179760320151, 0.17470152604925845, 0.8152737882298727, 0.9932118695351173, 0.9429108042976692, 0.4479577455554437, 0.5375492946665325, 0.9854669921898295, 0.2158594337332917, 0.7804148758049777, 0.9350349268190873, 0.9126841454989557, 0.8224296478814342, 0.1417982151519714, 0.9667648880337891, 0.46628568769386775, 0.5315656839710092, 0.07876041878767832, 0.141768753817821, 0.18272417158741372, 0.07245958528466406, 0.41270459444743446, 0.11026458630274966, 0.5553130377575244, 0.11846678138827187, 0.32578364881774763, 0.9802263235685762, 0.9908092840559406, 0.9667648880337891, 0.9776818968480582, 0.15158091221198672, 0.8084315317972625, 0.9836265356042242, 0.9836265356042242, 0.9674551079918651, 0.9586372072874998, 0.9359643196595481, 0.9717995896297983, 0.9617680980092479, 0.9667648880337891, 0.9757510588371511, 0.9929203572920725, 0.9597458947919303, 0.8965156174361134, 0.1012195051943999, 0.8371723949284182, 0.05116053524562556, 0.11162298599045577, 0.9836265356042242, 0.9667648880337891, 0.9923484567788344, 0.6535963664844562, 0.33127487068390243, 0.4803315541313916, 0.519067969787149, 0.6396718981506329, 0.3518195439828481, 0.9242101487139812, 0.017773272090653484, 0.05331981627196045, 0.8969095396879055, 0.9964622962076788, 0.9869923532453098, 0.9774256365857252, 0.9926822542878613, 0.9914376240785401, 0.942911118807696, 0.6909381929325287, 0.3044812375634872, 0.3899935480906421, 0.5952533102436116, 0.9772226343574915, 0.9849467693224826, 0.9893499132443445, 0.2988510087493709, 0.6896561740370099, 0.25252216072431843, 0.43820022008043497, 0.08912546849093593, 0.16339669223338255, 0.05198985661971262, 0.9537445573167609, 0.9631141672530497, 0.9666964759150324, 0.9721685894185087, 0.9732350666531348, 0.9762596893543977, 0.7539150259557769, 0.23482599169114363, 0.015637727333017735, 0.26584136466130154, 0.7193354573188159, 0.2570931977367694, 0.7198609536629544, 0.0749438034423688, 0.49462910271963406, 0.4046965385887915, 0.12917644710059703, 0.8396469061538807, 0.6935386748154313, 0.3034231702317512, 0.39002795897695686, 0.5034906379520716, 0.04963992205161269, 0.04963992205161269, 0.9133203358577593, 0.9846259868960088, 0.972722126222852, 0.11709208458319413, 0.10538287612487472, 0.7610985497907619, 0.985271393575911, 0.9228056049289709, 0.06408372256451186, 0.9415449876601668, 0.8567715679160179, 0.11577994161027269, 0.9916062216913331, 0.9783028605822691, 0.9804223830414387, 0.4177384244955262, 0.45254995987015334, 0.11603845124875727, 0.9667407295369369, 0.7346873524368719, 0.16029542234986296, 0.09350566303742006, 0.9667648880337891, 0.8969095396879055, 0.8714058347796839, 0.11366163062343704, 0.8969095396879055, 0.060812506765312316, 0.6263688196827168, 0.079056258794906, 0.2310875257081868, 0.949174901193949, 0.04067892433688353, 0.9751475434950709, 0.023592279278106556, 0.9429108042976692, 0.9409112349783881, 0.11662832411905628, 0.8747124308929222, 0.20943459112845964, 0.7068417450585512, 0.07853797167317236, 0.9836265356042242, 0.04276612521015745, 0.048111890861427135, 0.20848486039951758, 0.49181043991681067, 0.2031390947482479, 0.989840517488568, 0.1450943683742429, 0.8560567734080331, 0.9472398639250293, 0.9961747386809101, 0.9648199827892563, 0.9978852340160389, 0.9133203358577593, 0.9919069845510271, 0.9802302097169978, 0.9748670007430323, 0.9269011807451424, 0.069954806093973, 0.9897160776885546, 0.9975513566380013, 0.9667672349410515, 0.9762423630675523, 0.983946021637811, 0.9963850774901875, 0.9781884986457081, 0.9481786498832808, 0.2730308762380011, 0.3699128000643886, 0.26422342861742043, 0.08807447620580681, 0.987311670013194, 0.326594791176534, 0.1791003693548735, 0.12642379013285188, 0.358200738709747, 0.36133678789919493, 0.6300231173626989, 0.9853842281965534, 0.3961291970163634, 0.01650538320901514, 0.57768841231553, 0.9836265356042242, 0.10364415768380791, 0.11659967739428391, 0.20081055551237784, 0.27854367377523376, 0.29797695334094776, 0.9799410710447716, 0.13884999062433628, 0.8562416088500737, 0.08775684699049581, 0.6508632818461773, 0.2559574703889461, 0.3918958432371524, 0.16946847275120103, 0.40778351255757744, 0.03177533864085019, 0.9429108042976692, 0.9133203358577593, 0.20096559043633888, 0.6577055687007455, 0.13702199347932195], \"Term\": [\"account\", \"act\", \"afraid_donald\", \"afraid_trump\", \"ahead\", \"ai\", \"ai\", \"ai_ml\", \"america\", \"amp\", \"amp\", \"amp\", \"amp\", \"amp\", \"amp\", \"analysis\", \"apply\", \"april_kyambogo\", \"april_pm\", \"artificial_intelligence\", \"artificial_intelligence\", \"artificial_intelligence\", \"artificialintelligence\", \"ask\", \"atikugate_obidatti\", \"attack\", \"available\", \"bad\", \"bad\", \"biden\", \"bitcoin\", \"blockchain\", \"blue\", \"blue\", \"book_digitalhealth\", \"boycott_daraz\", \"boycott_jdc\", \"business\", \"business\", \"business\", \"business\", \"buy\", \"call\", \"care\", \"care\", \"career\", \"catchthefire\", \"change\", \"change\", \"change\", \"chatgpt\", \"chatgpt\", \"check\", \"check\", \"chelsea\", \"child\", \"child\", \"child\", \"child\", \"china\", \"china\", \"christian\", \"city\", \"city\", \"click_gt\", \"club\", \"club\", \"club\", \"club\", \"coach\", \"code\", \"code\", \"college_football\", \"com\", \"congo_mining\", \"congress\", \"continue\", \"contract\", \"contract\", \"corruption\", \"country\", \"covid\", \"crisis\", \"cross\", \"crypto\", \"cup\", \"daraz_jdc\", \"data_science\", \"datascience\", \"datascience\", \"datum\", \"datum\", \"datum_science\", \"datum_science\", \"day\", \"day\", \"day\", \"day\", \"deal\", \"different\", \"digital\", \"digitalhealth\", \"disaster\", \"doesn\", \"doesn\", \"don\", \"don\", \"don\", \"draw_democrats\", \"drug_experience\", \"dynastic_politic\", \"eat\", \"ehealth_biotech\", \"election\", \"end\", \"end\", \"enemiesofislam\", \"epl\", \"europe\", \"exclusive_rep\", \"experience_period\", \"expose_jdc\", \"fan\", \"fan\", \"fan\", \"feel\", \"feel\", \"feel\", \"fight_corruption\", \"finally\", \"fire\", \"football\", \"football\", \"football\", \"football\", \"future\", \"future\", \"game\", \"game\", \"game\", \"genome_genetic\", \"get\", \"get\", \"go\", \"go\", \"go\", \"goal\", \"god\", \"good\", \"good\", \"good\", \"good\", \"good\", \"good\", \"government\", \"government\", \"government\", \"graham_potter\", \"great\", \"great\", \"great\", \"great_usa\", \"gt_atikugate\", \"gt_gt\", \"gt_gt\", \"guide\", \"hack\", \"happy\", \"head\", \"head\", \"health\", \"health\", \"healthcare\", \"healthcare_lifescience\", \"healthtec_medtech\", \"healthtech\", \"hear\", \"help\", \"help\", \"high\", \"high\", \"hire\", \"impact\", \"improve\", \"improve\", \"increase\", \"industry\", \"industry\", \"innovation\", \"instantly_naturally\", \"iot\", \"japan\", \"javascript\", \"jdc_boycott\", \"jdc_enemiesofislam\", \"jdc_expose\", \"jeff_van\", \"job\", \"job\", \"karar_boycott\", \"know\", \"know\", \"know\", \"know\", \"kyuedition\", \"league\", \"learn\", \"learn\", \"learn\", \"learn\", \"leave\", \"leave\", \"let\", \"let\", \"let\", \"lie\", \"lie\", \"life\", \"life\", \"life\", \"like\", \"like\", \"like\", \"like\", \"like\", \"linux\", \"liverpool\", \"local\", \"london_uk\", \"look\", \"look\", \"look\", \"lose\", \"machine_learn\", \"machine_learn\", \"machine_learning\", \"machine_learning\", \"machinelearne\", \"maga\", \"major\", \"man\", \"man\", \"man\", \"manager\", \"manager\", \"manager\", \"manchester\", \"manchester\", \"manchester\", \"match\", \"match\", \"medical\", \"medical_tech\", \"medicine\", \"medicine\", \"medium\", \"messi\", \"messi\", \"million\", \"nation_namo\", \"national\", \"national\", \"naturally_nuvapad\", \"need\", \"need\", \"new\", \"new\", \"new\", \"new\", \"new\", \"new\", \"news\", \"news\", \"news\", \"news_justice\", \"nigeriadecide\", \"nigeriadecide_thepeoplestownhall\", \"nigerian\", \"night\", \"night\", \"nuvapad_drug\", \"obidatti_nigeriadecide\", \"offer\", \"official\", \"old\", \"opportunity\", \"order\", \"pain_instantly\", \"party\", \"patient\", \"patriot\", \"pay\", \"pay\", \"people\", \"people\", \"people\", \"period_pain\", \"period_well\", \"pitch_pm\", \"play\", \"play\", \"player\", \"player\", \"playoff\", \"playoff\", \"pm\", \"pm\", \"pm\", \"pmatcbidiamondjubilee_corruption\", \"politic\", \"political\", \"politician\", \"post\", \"president\", \"programming\", \"project\", \"project\", \"provide\", \"provide\", \"psg\", \"publish\", \"python\", \"quality\", \"quality\", \"read\", \"read\", \"read\", \"read\", \"read\", \"reason\", \"recent\", \"record\", \"rest\", \"return\", \"riches_take\", \"right\", \"right\", \"role\", \"role\", \"role\", \"ronaldo\", \"ronaldo\", \"sack\", \"sack\", \"sack\", \"safe\", \"safe\", \"sale\", \"sale\", \"say\", \"say\", \"say\", \"say\", \"sb_real\", \"school\", \"score\", \"season\", \"season\", \"season\", \"second\", \"sell\", \"sell\", \"send\", \"sign\", \"sign\", \"site\", \"social\", \"soon\", \"sport\", \"sport\", \"sport\", \"spread\", \"start\", \"start\", \"start\", \"stop_period\", \"strength_society\", \"take\", \"take\", \"take_away\", \"team\", \"team\", \"team\", \"team\", \"tech\", \"tech\", \"technology\", \"technology\", \"telehealth_telemedicine\", \"test\", \"th\", \"th\", \"thank\", \"thank\", \"thank\", \"thepeoplestownhall\", \"time\", \"time\", \"time\", \"time\", \"time\", \"tool\", \"transform\", \"transform\", \"treatment\", \"trump\", \"trump_corruption\", \"truth\", \"truth_establish\", \"truth_social\", \"turn_washington\", \"tweet\", \"twitter\", \"twitter\", \"uk\", \"usa\", \"vaccine\", \"ve\", \"video\", \"virus\", \"vs\", \"wait\", \"want\", \"want\", \"want\", \"want\", \"war\", \"watch\", \"watch\", \"watch\", \"watch\", \"way\", \"way\", \"web\", \"week\", \"week\", \"week\", \"well_click\", \"win\", \"win\", \"win\", \"win\", \"win\", \"woman\", \"word\", \"word\", \"work\", \"work\", \"work\", \"world\", \"world\", \"world\", \"world\", \"world_congress\", \"world_ministry\", \"year\", \"year\", \"year\"]}, \"R\": 30, \"lambda.step\": 0.01, \"plot.opts\": {\"xlab\": \"PC1\", \"ylab\": \"PC2\"}, \"topic.order\": [3, 1, 4, 5, 6, 2]};\n",
       "\n",
       "function LDAvis_load_lib(url, callback){\n",
       "  var s = document.createElement('script');\n",
       "  s.src = url;\n",
       "  s.async = true;\n",
       "  s.onreadystatechange = s.onload = callback;\n",
       "  s.onerror = function(){console.warn(\"failed to load library \" + url);};\n",
       "  document.getElementsByTagName(\"head\")[0].appendChild(s);\n",
       "}\n",
       "\n",
       "if(typeof(LDAvis) !== \"undefined\"){\n",
       "   // already loaded: just create the visualization\n",
       "   !function(LDAvis){\n",
       "       new LDAvis(\"#\" + \"ldavis_el1971221187952362883214336396\", ldavis_el1971221187952362883214336396_data);\n",
       "   }(LDAvis);\n",
       "}else if(typeof define === \"function\" && define.amd){\n",
       "   // require.js is available: use it to load d3/LDAvis\n",
       "   require.config({paths: {d3: \"https://d3js.org/d3.v5\"}});\n",
       "   require([\"d3\"], function(d3){\n",
       "      window.d3 = d3;\n",
       "      LDAvis_load_lib(\"https://cdn.jsdelivr.net/gh/bmabey/pyLDAvis@3.4.0/pyLDAvis/js/ldavis.v3.0.0.js\", function(){\n",
       "        new LDAvis(\"#\" + \"ldavis_el1971221187952362883214336396\", ldavis_el1971221187952362883214336396_data);\n",
       "      });\n",
       "    });\n",
       "}else{\n",
       "    // require.js not available: dynamically load d3 & LDAvis\n",
       "    LDAvis_load_lib(\"https://d3js.org/d3.v5.js\", function(){\n",
       "         LDAvis_load_lib(\"https://cdn.jsdelivr.net/gh/bmabey/pyLDAvis@3.4.0/pyLDAvis/js/ldavis.v3.0.0.js\", function(){\n",
       "                 new LDAvis(\"#\" + \"ldavis_el1971221187952362883214336396\", ldavis_el1971221187952362883214336396_data);\n",
       "            })\n",
       "         });\n",
       "}\n",
       "</script>"
      ],
      "text/plain": [
       "<IPython.core.display.HTML object>"
      ]
     },
     "execution_count": 43,
     "metadata": {},
     "output_type": "execute_result"
    }
   ],
   "source": [
    "# visualise the topics\n",
    "import pyLDAvis.gensim_models as gensimvis\n",
    "import pyLDAvis\n",
    "pyLDAvis.enable_notebook()\n",
    "# pyLDAvis.enable_notebook(local=True)\n",
    "vis_data_six = gensimvis.prepare(optimal_model_six,bow_corpus,id2word)\n",
    "pyLDAvis.display(vis_data_six)\n"
   ]
  }
 ],
 "metadata": {
  "kernelspec": {
   "display_name": "Python 3.8.13 (conda)",
   "language": "python",
   "name": "python3"
  },
  "language_info": {
   "codemirror_mode": {
    "name": "ipython",
    "version": 3
   },
   "file_extension": ".py",
   "mimetype": "text/x-python",
   "name": "python",
   "nbconvert_exporter": "python",
   "pygments_lexer": "ipython3",
   "version": "3.8.13"
  },
  "orig_nbformat": 4,
  "vscode": {
   "interpreter": {
    "hash": "0d3784fccdc90acbf957f8297e7e306d4c8b14c1a207bd5307d0795df9a8d77b"
   }
  }
 },
 "nbformat": 4,
 "nbformat_minor": 2
}
